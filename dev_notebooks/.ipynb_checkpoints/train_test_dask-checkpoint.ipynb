{
 "cells": [
  {
   "cell_type": "code",
   "execution_count": 2,
   "id": "3967c5eb-955a-4e95-a1ff-c80e62e79ed2",
   "metadata": {},
   "outputs": [],
   "source": [
    "import dask\n",
    "import dask.dataframe as dd\n",
    "import dask.array as da\n",
    "from dask.distributed import Client\n",
    "\n",
    "import numpy as np\n",
    "from dask.array.slicing import shuffle_slice\n",
    "from dask_ml.model_selection import train_test_split\n",
    "import hvplot.dask\n",
    "from dask.array import histogram\n",
    "import hvplot.pandas\n",
    "import hvplot.dask\n",
    "\n",
    "seed = 25\n",
    "client = Client()"
   ]
  },
  {
   "cell_type": "code",
   "execution_count": null,
   "id": "255a4542-a93b-481e-9930-59fec0e906e5",
   "metadata": {},
   "outputs": [],
   "source": [
    "#adding all train, test, and validation datasets together to resplit to provide multiple reviews/reviewer in test set\n",
    "interactions_train = dd.read_csv(\"recipes/interactions_train.csv\", blocksize = 25e6)\n",
    "interactions_test = dd.read_csv(\"recipes/interactions_test.csv\", blocksize = 25e6)\n",
    "interactions_validation = dd.read_csv(\"recipes/interactions_validation.csv\", blocksize = 25e6)\n",
    "\n",
    "interactions = dd.concat([interactions_train, interactions_test])\n",
    "interactions = dd.concat([interactions, interactions_validation])\n",
    "\n",
    "interactions[['rating']] = interactions[['rating']].astype(int)\n",
    "\n",
    "def permute_data_dd(df):\n",
    "    d_arr = df.to_dask_array(True)\n",
    "    df_len = len(df)\n",
    "    np.random.seed(42)\n",
    "    index = np.random.choice(df_len, df_len, replace=False)\n",
    "    d_arr = shuffle_slice(d_arr, index)\n",
    "    return d_arr.to_dask_dataframe(df.columns)\n",
    "\n",
    "interactions = permute_data_dd(interactions)\n",
    "\n",
    "train, test = train_test_split(interactions, test_size=0.20, random_state = seed)\n",
    "\n",
    "print(len(train))\n",
    "print(len(test))\n",
    "\n",
    "print('train mean:', train[['rating']].compute().mean())\n",
    "print('train sd:', train[['rating']].compute().std())\n",
    "\n",
    "print('test mean:', test[['rating']].compute().mean())\n",
    "print('test sd:', test[['rating']].compute().std())\n",
    "\n",
    "train.compute().hvplot.hist(y='rating', bins=5, bin_range=(0, 5))"
   ]
  },
  {
   "cell_type": "code",
   "execution_count": null,
   "id": "715a72fa-e947-4be3-a689-d9893801e123",
   "metadata": {},
   "outputs": [],
   "source": [
    "test.compute().hvplot.hist(y='rating', bins=5, bin_range=(0, 5))"
   ]
  }
 ],
 "metadata": {
  "kernelspec": {
   "display_name": "Python 3 (ipykernel)",
   "language": "python",
   "name": "python3"
  },
  "language_info": {
   "codemirror_mode": {
    "name": "ipython",
    "version": 3
   },
   "file_extension": ".py",
   "mimetype": "text/x-python",
   "name": "python",
   "nbconvert_exporter": "python",
   "pygments_lexer": "ipython3",
   "version": "3.8.10"
  }
 },
 "nbformat": 4,
 "nbformat_minor": 5
}
