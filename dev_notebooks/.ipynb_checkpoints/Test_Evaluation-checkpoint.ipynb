{
 "cells": [
  {
   "cell_type": "markdown",
   "id": "923f56b8-0f52-4d1a-b522-93634d6442c8",
   "metadata": {},
   "source": [
    "# Testing the Evaluation Metrics Object"
   ]
  },
  {
   "cell_type": "markdown",
   "id": "84af2c5b-3f25-4224-9358-1cdff9230d2a",
   "metadata": {},
   "source": [
    "NOTE: This will test the methods in the eval_metrics object.  This is evaluating a very small sample dataset, so complexity on a larger predictions dataset hasnt' been evaluated."
   ]
  },
  {
   "cell_type": "code",
   "execution_count": 1,
   "id": "da4549f4-b3a7-4c05-a8e7-46cdb6bc2fac",
   "metadata": {},
   "outputs": [
    {
     "name": "stderr",
     "output_type": "stream",
     "text": [
      "WARNING: An illegal reflective access operation has occurred\n",
      "WARNING: Illegal reflective access by org.apache.spark.unsafe.Platform (file:/usr/spark-3.2.1/jars/spark-unsafe_2.12-3.2.1.jar) to constructor java.nio.DirectByteBuffer(long,int)\n",
      "WARNING: Please consider reporting this to the maintainers of org.apache.spark.unsafe.Platform\n",
      "WARNING: Use --illegal-access=warn to enable warnings of further illegal reflective access operations\n",
      "WARNING: All illegal access operations will be denied in a future release\n",
      "Setting default log level to \"WARN\".\n",
      "To adjust logging level use sc.setLogLevel(newLevel). For SparkR, use setLogLevel(newLevel).\n",
      "2022-05-22 22:03:22,049 WARN util.NativeCodeLoader: Unable to load native-hadoop library for your platform... using builtin-java classes where applicable\n"
     ]
    }
   ],
   "source": [
    "import pyspark\n",
    "import pyspark.sql.functions as f\n",
    "from pyspark.sql import SparkSession, Row\n",
    "\n",
    "conf = pyspark.SparkConf().setAll([('spark.master', 'local[2]'),\n",
    "                                   ('spark.app.name', 'Evaluation Test')])\n",
    "spark = SparkSession.builder.config(conf=conf).getOrCreate()"
   ]
  },
  {
   "cell_type": "code",
   "execution_count": 2,
   "id": "6dbb8edd-7483-4ecb-af1d-2e20c0b8d6a6",
   "metadata": {},
   "outputs": [
    {
     "name": "stdout",
     "output_type": "stream",
     "text": [
      "+------+--------+------+----------+\n",
      "|userId|recipeId|rating|prediction|\n",
      "+------+--------+------+----------+\n",
      "|     1|       1|     5|       4.7|\n",
      "|     1|       2|     5|       4.8|\n",
      "|     1|       3|     4|       4.3|\n",
      "|     1|       4|     3|       3.9|\n",
      "|     1|       5|     4|       4.4|\n",
      "|     2|       1|     3|       4.1|\n",
      "|     2|       2|     3|       2.7|\n",
      "|     2|       3|     4|       4.4|\n",
      "|     2|       4|     5|       4.8|\n",
      "|     2|       5|     5|       4.6|\n",
      "|     3|       1|     5|       4.6|\n",
      "|     3|       2|     5|       3.9|\n",
      "|     3|       3|     5|       4.9|\n",
      "|     3|       4|     4|       3.6|\n",
      "|     3|       5|     3|       3.8|\n",
      "|     4|       1|     5|       4.9|\n",
      "|     4|       2|     4|       4.1|\n",
      "|     4|       3|     3|       3.3|\n",
      "|     4|       4|     2|       2.5|\n",
      "|     4|       5|     2|       1.9|\n",
      "+------+--------+------+----------+\n",
      "only showing top 20 rows\n",
      "\n"
     ]
    }
   ],
   "source": [
    "file_path = 'file:///home/work/test_evaluation.csv'\n",
    "eval_test = spark.read.csv(file_path, inferSchema = True, header = True)\n",
    "eval_test.show()"
   ]
  },
  {
   "cell_type": "markdown",
   "id": "3c483689-4cfd-4278-8784-621d2f036362",
   "metadata": {},
   "source": [
    "## Load in the eval_metrics object"
   ]
  },
  {
   "cell_type": "markdown",
   "id": "49cfa7e8-a9bc-47c2-8697-1281a51f2974",
   "metadata": {},
   "source": [
    "NOTE: If error with loading rbo, need to pip install rbo"
   ]
  },
  {
   "cell_type": "code",
   "execution_count": 3,
   "id": "f8e719d3-a433-4cd7-b397-5d53aa58f6b0",
   "metadata": {},
   "outputs": [],
   "source": [
    "from eval_metrics import RecEvalMetrics as rem"
   ]
  },
  {
   "cell_type": "markdown",
   "id": "b4902ed3-6257-4c9b-a196-65a30ef9974f",
   "metadata": {},
   "source": [
    "### Testing top_k_evaluator ..."
   ]
  },
  {
   "cell_type": "code",
   "execution_count": 4,
   "id": "62cb08a9-fb83-4e78-be76-d852d465b701",
   "metadata": {},
   "outputs": [
    {
     "name": "stdout",
     "output_type": "stream",
     "text": [
      "0.39581140290126404\n"
     ]
    }
   ],
   "source": [
    "top_3_rmse = rem.top_k_evaluator(eval_test, 'rmse', 3)\n",
    "print(top_3_rmse)"
   ]
  },
  {
   "cell_type": "markdown",
   "id": "96fad6e6-498e-4cbe-81ae-c7e85bdf1a41",
   "metadata": {},
   "source": [
    "## Testing percent_in_top_ratings"
   ]
  },
  {
   "cell_type": "code",
   "execution_count": 5,
   "id": "ff1a10de-f9d5-4668-8fea-ee5467d81150",
   "metadata": {},
   "outputs": [
    {
     "name": "stdout",
     "output_type": "stream",
     "text": [
      "0.8\n"
     ]
    }
   ],
   "source": [
    "percent_in_top_3 = rem.percent_in_top_ratings(eval_test, 1)\n",
    "print(percent_in_top_3)"
   ]
  },
  {
   "cell_type": "markdown",
   "id": "e2ab4224-1965-4b9b-ba51-ee5a8514dc69",
   "metadata": {},
   "source": [
    "## Testing RBO"
   ]
  },
  {
   "cell_type": "code",
   "execution_count": 6,
   "id": "9140a448-1c41-4d66-9e45-77e55cdb4135",
   "metadata": {},
   "outputs": [
    {
     "name": "stdout",
     "output_type": "stream",
     "text": [
      "0.7444444444444444\n"
     ]
    }
   ],
   "source": [
    "rbo_similarity = rem.rbo_evaluation(eval_test, 3)\n",
    "print(rbo_similarity)"
   ]
  },
  {
   "cell_type": "code",
   "execution_count": null,
   "id": "512c14f2-a84b-486a-af67-7f591557bc4e",
   "metadata": {},
   "outputs": [],
   "source": []
  }
 ],
 "metadata": {
  "kernelspec": {
   "display_name": "Python 3 (ipykernel)",
   "language": "python",
   "name": "python3"
  },
  "language_info": {
   "codemirror_mode": {
    "name": "ipython",
    "version": 3
   },
   "file_extension": ".py",
   "mimetype": "text/x-python",
   "name": "python",
   "nbconvert_exporter": "python",
   "pygments_lexer": "ipython3",
   "version": "3.8.10"
  }
 },
 "nbformat": 4,
 "nbformat_minor": 5
}
