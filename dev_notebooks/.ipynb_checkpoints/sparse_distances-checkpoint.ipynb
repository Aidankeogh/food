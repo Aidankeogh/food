{
 "cells": [
  {
   "cell_type": "code",
   "execution_count": 1,
   "id": "d2a56ed7-2ace-4cf3-9c19-467925d9d48f",
   "metadata": {},
   "outputs": [],
   "source": [
    "import dask_distance \n",
    "import dask.array as da\n",
    "import dask.dataframe as dd\n",
    "import dask_ml\n",
    "import time\n",
    "import numpy as np\n",
    "import sparse\n",
    "import pandas as pd\n",
    "\n",
    "\n",
    "from dask.distributed import Client\n",
    "client = Client(memory_limit='12GB')"
   ]
  },
  {
   "cell_type": "code",
   "execution_count": 2,
   "id": "6232ba7b-9cc1-4ed1-ba23-ef93a10dcfb8",
   "metadata": {},
   "outputs": [
    {
     "name": "stdout",
     "output_type": "stream",
     "text": [
      "Array created\n",
      "Array sparsified\n",
      "dask.array<array, shape=(25, 16), dtype=float64, chunksize=(25, 16), chunktype=sparse.COO>\n",
      "array_daskified\n"
     ]
    }
   ],
   "source": [
    "tmp = np.zeros(\n",
    "    (25, 16)\n",
    ")\n",
    "tmp[2, 2] += 10.\n",
    "print(\"Array created\")\n",
    "s = sparse.COO.from_numpy(tmp)\n",
    "print(\"Array sparsified\")\n",
    "tmp2 = da.from_array(s, chunks=(5000, 5000))\n",
    "tmp2.compute()\n",
    "print(tmp2)\n",
    "print(\"array_daskified\")"
   ]
  },
  {
   "cell_type": "code",
   "execution_count": 3,
   "id": "e15d09a5-1984-4099-bfca-3285e25375f6",
   "metadata": {},
   "outputs": [
    {
     "data": {
      "text/html": [
       "<table>\n",
       "<tr>\n",
       "<td>\n",
       "<table>\n",
       "  <thead>\n",
       "    <tr><td> </td><th> Array </th><th> Chunk </th></tr>\n",
       "  </thead>\n",
       "  <tbody>\n",
       "\n",
       "    <tr><th> Shape </th><td> (25076, 160901) </td> <td> (5000, 5000) </td></tr>\n",
       "    <tr><th> Count </th><td> 792 Tasks </td><td> 198 Chunks </td></tr>\n",
       "    <tr><th> Type </th><td> float64 </td><td> sparse.COO </td></tr>\n",
       "  </tbody>\n",
       "</table>\n",
       "</td>\n",
       "<td>\n",
       "<svg width=\"170\" height=\"90\" style=\"stroke:rgb(0,0,0);stroke-width:1\" >\n",
       "\n",
       "  <!-- Horizontal lines -->\n",
       "  <line x1=\"0\" y1=\"0\" x2=\"120\" y2=\"0\" style=\"stroke-width:2\" />\n",
       "  <line x1=\"0\" y1=\"8\" x2=\"120\" y2=\"8\" />\n",
       "  <line x1=\"0\" y1=\"16\" x2=\"120\" y2=\"16\" />\n",
       "  <line x1=\"0\" y1=\"24\" x2=\"120\" y2=\"24\" />\n",
       "  <line x1=\"0\" y1=\"32\" x2=\"120\" y2=\"32\" />\n",
       "  <line x1=\"0\" y1=\"40\" x2=\"120\" y2=\"40\" />\n",
       "  <line x1=\"0\" y1=\"40\" x2=\"120\" y2=\"40\" style=\"stroke-width:2\" />\n",
       "\n",
       "  <!-- Vertical lines -->\n",
       "  <line x1=\"0\" y1=\"0\" x2=\"0\" y2=\"40\" style=\"stroke-width:2\" />\n",
       "  <line x1=\"3\" y1=\"0\" x2=\"3\" y2=\"40\" />\n",
       "  <line x1=\"11\" y1=\"0\" x2=\"11\" y2=\"40\" />\n",
       "  <line x1=\"18\" y1=\"0\" x2=\"18\" y2=\"40\" />\n",
       "  <line x1=\"22\" y1=\"0\" x2=\"22\" y2=\"40\" />\n",
       "  <line x1=\"29\" y1=\"0\" x2=\"29\" y2=\"40\" />\n",
       "  <line x1=\"37\" y1=\"0\" x2=\"37\" y2=\"40\" />\n",
       "  <line x1=\"44\" y1=\"0\" x2=\"44\" y2=\"40\" />\n",
       "  <line x1=\"48\" y1=\"0\" x2=\"48\" y2=\"40\" />\n",
       "  <line x1=\"55\" y1=\"0\" x2=\"55\" y2=\"40\" />\n",
       "  <line x1=\"63\" y1=\"0\" x2=\"63\" y2=\"40\" />\n",
       "  <line x1=\"70\" y1=\"0\" x2=\"70\" y2=\"40\" />\n",
       "  <line x1=\"74\" y1=\"0\" x2=\"74\" y2=\"40\" />\n",
       "  <line x1=\"82\" y1=\"0\" x2=\"82\" y2=\"40\" />\n",
       "  <line x1=\"89\" y1=\"0\" x2=\"89\" y2=\"40\" />\n",
       "  <line x1=\"96\" y1=\"0\" x2=\"96\" y2=\"40\" />\n",
       "  <line x1=\"100\" y1=\"0\" x2=\"100\" y2=\"40\" />\n",
       "  <line x1=\"108\" y1=\"0\" x2=\"108\" y2=\"40\" />\n",
       "  <line x1=\"115\" y1=\"0\" x2=\"115\" y2=\"40\" />\n",
       "  <line x1=\"120\" y1=\"0\" x2=\"120\" y2=\"40\" style=\"stroke-width:2\" />\n",
       "\n",
       "  <!-- Colored Rectangle -->\n",
       "  <polygon points=\"0.0,0.0 120.0,0.0 120.0,40.88953914667606 0.0,40.88953914667606\" style=\"fill:#8B4903A0;stroke-width:0\"/>\n",
       "\n",
       "  <!-- Text -->\n",
       "  <text x=\"60.000000\" y=\"60.889539\" font-size=\"1.0rem\" font-weight=\"100\" text-anchor=\"middle\" >160901</text>\n",
       "  <text x=\"140.000000\" y=\"20.444770\" font-size=\"1.0rem\" font-weight=\"100\" text-anchor=\"middle\" transform=\"rotate(-90,140.000000,20.444770)\">25076</text>\n",
       "</svg>\n",
       "</td>\n",
       "</tr>\n",
       "</table>"
      ],
      "text/plain": [
       "dask.array<COO, shape=(25076, 160901), dtype=float64, chunksize=(5000, 5000), chunktype=sparse.COO>"
      ]
     },
     "execution_count": 3,
     "metadata": {},
     "output_type": "execute_result"
    }
   ],
   "source": [
    "import sparse\n",
    "x = da.random.random((25076, 160901), chunks=(5000, 5000))\n",
    "x[x < 0.99983] = 0\n",
    "s = x.map_blocks(sparse.COO)\n",
    "s"
   ]
  },
  {
   "cell_type": "markdown",
   "id": "17847ddb-dea0-44d6-b3e0-885ff4e3a0c1",
   "metadata": {},
   "source": [
    "\n",
    "start = time.time()\n",
    "n = da.matmul(s, s.T)\n",
    "n.compute()\n",
    "print(time.time() - start)"
   ]
  },
  {
   "cell_type": "markdown",
   "id": "9ff25d1d-72c7-4f74-8a26-7053e097f4a9",
   "metadata": {},
   "source": [
    "import numpy as np\n",
    "from scipy.spatial.distance import cosine\n",
    "x = np.array([\n",
    "    [0, -1, 2, 0, 0],\n",
    "    [-1, 0, 3, 0, 0],\n",
    "    [0, 1, 0, -2, 0]\n",
    "]).astype(float)"
   ]
  },
  {
   "cell_type": "markdown",
   "id": "9413c978-1f5c-470d-b38c-749a3fb386b0",
   "metadata": {},
   "source": [
    "cosine(x[0], x[1])"
   ]
  },
  {
   "cell_type": "markdown",
   "id": "bfd5646f-cdd6-429e-9e2c-09121ebecac8",
   "metadata": {},
   "source": [
    "dot_mat = x @ x.T"
   ]
  },
  {
   "cell_type": "markdown",
   "id": "360f3233-1150-4095-b2a7-4405f71ec257",
   "metadata": {},
   "source": [
    "from math import sqrt\n",
    "1 - dot_mat[0][1] / (sqrt(dot_mat[0][0]) * sqrt(dot_mat[1][1]))"
   ]
  },
  {
   "cell_type": "code",
   "execution_count": 4,
   "id": "4ab48d17-b391-4eee-a683-5dee9aa5d798",
   "metadata": {},
   "outputs": [
    {
     "name": "stdout",
     "output_type": "stream",
     "text": [
      "628841 70060\n"
     ]
    }
   ],
   "source": [
    "seed = 25\n",
    "ddf = dd.read_csv(\"data/interactions_train.csv\")\n",
    "train, val = dask_ml.model_selection.train_test_split(\n",
    "    ddf, \n",
    "    test_size=0.1, \n",
    "    train_size=0.9,\n",
    "    shuffle=True,\n",
    "    random_state=seed)\n",
    "print(len(train), len(val))"
   ]
  },
  {
   "cell_type": "code",
   "execution_count": 5,
   "id": "cf53b452-f989-4fb0-a361-ec1fb5aae985",
   "metadata": {},
   "outputs": [
    {
     "name": "stdout",
     "output_type": "stream",
     "text": [
      "698901\n",
      "25076\n"
     ]
    }
   ],
   "source": [
    "codes, uniques = pd.factorize(ddf.user_id.compute())\n",
    "print(len(codes))\n",
    "print(len(uniques))"
   ]
  },
  {
   "cell_type": "code",
   "execution_count": 72,
   "id": "79f7d9b6-3662-4f5b-af7e-b90f22210c3d",
   "metadata": {},
   "outputs": [
    {
     "name": "stdout",
     "output_type": "stream",
     "text": [
      "Generating indices\n",
      "Generating dot products 1.030318021774292\n",
      "Done with similarities! 4.943005800247192\n"
     ]
    }
   ],
   "source": [
    "import numpy as np\n",
    "\n",
    "class SimilarityScorer:\n",
    "    def __init__(self, interactions):\n",
    "        start = time.time()\n",
    "        print(\"Generating indices\")\n",
    "        user_codes, self.user_idx_to_id = pd.factorize(ddf.user_id.compute())\n",
    "        recipe_codes, self.recipe_idx_to_id = pd.factorize(ddf.recipe_id.compute())\n",
    "        self.user_id_to_idx = {user: idx for idx, user in enumerate(self.user_idx_to_id)}\n",
    "        self.recipe_id_to_idx = {recipe: idx for idx, recipe in enumerate(self.recipe_idx_to_id)}\n",
    "        \n",
    "        s = sparse.COO(\n",
    "            [user_codes, recipe_codes],\n",
    "            ddf.rating.compute(),\n",
    "            shape=(len(self.user_idx_to_id), len(self.recipe_idx_to_id)),\n",
    "            fill_value=0\n",
    "        )\n",
    "        self.sparse_mat = da.from_array(s, chunks=(5000, 5000))\n",
    "        print(\"Generating dot products\", time.time() - start)\n",
    "\n",
    "        self.dot_product_similarities = self.sparse_mat @ self.sparse_mat.T\n",
    "        self.dot_product_similarities.compute()\n",
    "        print(\"Done with similarities!\", time.time() - start)\n",
    "\n",
    "    def predict_topk_for_user(self, user_id, k):\n",
    "        user_idx = scorer.user_id_to_idx[user_id]\n",
    "        similarities = scorer.dot_product_similarities[user_idx]\n",
    "        similarities_norm = similarities / similarities.sum()\n",
    "        recs_raw = similarities_norm.reshape(1, -1) @ scorer.sparse_mat\n",
    "        recs = recs_raw.map_blocks(lambda x: x.todense(), dtype=np.ndarray)\n",
    "        rec_values = recs.topk(k).compute()\n",
    "        rec_idxs = recs.argtopk(k).compute()\n",
    "        recs_ids = [scorer.recipe_idx_to_id[idx] for idx in rec_idxs]\n",
    "        return recs_ids, rec_values\n",
    "    \n",
    "    def predict_pair(self, user_id, recipe_id):\n",
    "        user_idx = scorer.user_id_to_idx[user_id]\n",
    "        recipe_idx = scorer.recipe_id_to_idx[recipe_id]\n",
    "        similarities = scorer.dot_product_similarities[user_idx]\n",
    "        similarities_norm = similarities / similarities.sum()\n",
    "        predicted_score = similarities_norm @ self.sparse_mat[:, recipe_idx]\n",
    "        return predicted_score.compute()\n",
    "\n",
    "scorer = SimilarityScorer(ddf)"
   ]
  },
  {
   "cell_type": "code",
   "execution_count": 73,
   "id": "03d58f8c-32b7-4a96-b4ba-c546a861d846",
   "metadata": {},
   "outputs": [
    {
     "data": {
      "text/plain": [
       "([Int64Index([27520, 27208, 129615, 26849, 89204, 69173, 32204, 77397, 39087,\n",
       "              28148],\n",
       "             dtype='int64')],\n",
       " array([[3.44314559, 0.78852285, 0.76567481, 0.70828905, 0.70297556,\n",
       "         0.6392136 , 0.61477152, 0.55313496, 0.54941552, 0.52656748]]))"
      ]
     },
     "execution_count": 73,
     "metadata": {},
     "output_type": "execute_result"
    }
   ],
   "source": [
    "user_id = 2002254807\n",
    "scorer.predict_topk_for_user(user_id, 10)"
   ]
  },
  {
   "cell_type": "code",
   "execution_count": 74,
   "id": "29e57aac-452f-4a3e-9bbe-3d7fd8b2a20b",
   "metadata": {},
   "outputs": [
    {
     "data": {
      "text/plain": [
       "3.4431455897980854"
      ]
     },
     "execution_count": 74,
     "metadata": {},
     "output_type": "execute_result"
    }
   ],
   "source": [
    "user_id = 2002254807\n",
    "recipe_id = 27520\n",
    "scorer.predict_pair(user_id, recipe_id)"
   ]
  }
 ],
 "metadata": {
  "kernelspec": {
   "display_name": "Python 3",
   "language": "python",
   "name": "python3"
  },
  "language_info": {
   "codemirror_mode": {
    "name": "ipython",
    "version": 3
   },
   "file_extension": ".py",
   "mimetype": "text/x-python",
   "name": "python",
   "nbconvert_exporter": "python",
   "pygments_lexer": "ipython3",
   "version": "3.8.5"
  }
 },
 "nbformat": 4,
 "nbformat_minor": 5
}
