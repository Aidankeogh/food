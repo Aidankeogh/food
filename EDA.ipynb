{
 "cells": [
  {
   "cell_type": "markdown",
   "id": "302aad4a-feef-4c1b-b982-83d652c6b18b",
   "metadata": {},
   "source": [
    "# Exploring the User-Recipe rating data and the Recipe-Ingredients data"
   ]
  },
  {
   "cell_type": "code",
   "execution_count": 1,
   "id": "c5eb191c-36e1-4967-ac9f-19cd0066a6b7",
   "metadata": {},
   "outputs": [],
   "source": [
    "import dask.dataframe as dd\n",
    "import dask.array as da\n",
    "import dask.bag as db\n",
    "import pandas as pd\n",
    "import numpy as np\n",
    "from dask_ml.decomposition import PCA\n",
    "from dask_ml.cluster import KMeans\n",
    "import pickle\n",
    "#import umap.umap_ as umap"
   ]
  },
  {
   "cell_type": "code",
   "execution_count": 2,
   "id": "7f5abb9c-8ec8-44b8-9375-3bab6a18abd9",
   "metadata": {},
   "outputs": [],
   "source": [
    "pp_recipes = dd.read_csv('data/PP_recipes.csv')\n",
    "raw_recipes = dd.read_csv('data/RAW_recipes.csv')\n",
    "pp_users = dd.read_csv('data/PP_users.csv')\n",
    "raw_inter = dd.read_csv('data/RAW_interactions.csv')\n",
    "inter_train = dd.read_csv('data/interactions_train.csv')\n",
    "with open('data/ingr_map.pkl', 'rb') as handle:\n",
    "    ingr_map = pickle.load(handle)"
   ]
  },
  {
   "cell_type": "markdown",
   "id": "a9c1c1a8-696d-45a7-bc6d-2f20ce83359b",
   "metadata": {},
   "source": [
    "## Exploring Recipes"
   ]
  },
  {
   "cell_type": "code",
   "execution_count": 7,
   "id": "2aa6ac5d-960a-430e-9a65-2cfe65e47d7a",
   "metadata": {},
   "outputs": [
    {
     "name": "stdout",
     "output_type": "stream",
     "text": [
      "Length of the pp_recipes: 178265\n"
     ]
    },
    {
     "data": {
      "text/html": [
       "<div>\n",
       "<style scoped>\n",
       "    .dataframe tbody tr th:only-of-type {\n",
       "        vertical-align: middle;\n",
       "    }\n",
       "\n",
       "    .dataframe tbody tr th {\n",
       "        vertical-align: top;\n",
       "    }\n",
       "\n",
       "    .dataframe thead th {\n",
       "        text-align: right;\n",
       "    }\n",
       "</style>\n",
       "<table border=\"1\" class=\"dataframe\">\n",
       "  <thead>\n",
       "    <tr style=\"text-align: right;\">\n",
       "      <th></th>\n",
       "      <th>id</th>\n",
       "      <th>i</th>\n",
       "      <th>name_tokens</th>\n",
       "      <th>ingredient_tokens</th>\n",
       "      <th>steps_tokens</th>\n",
       "      <th>techniques</th>\n",
       "      <th>calorie_level</th>\n",
       "      <th>ingredient_ids</th>\n",
       "    </tr>\n",
       "  </thead>\n",
       "  <tbody>\n",
       "    <tr>\n",
       "      <th>0</th>\n",
       "      <td>424415</td>\n",
       "      <td>23</td>\n",
       "      <td>[40480, 37229, 2911, 1019, 249, 6878, 6878, 28...</td>\n",
       "      <td>[[2911, 1019, 249, 6878], [1353], [6953], [153...</td>\n",
       "      <td>[40480, 40482, 21662, 481, 6878, 500, 246, 161...</td>\n",
       "      <td>[0, 0, 0, 0, 0, 0, 0, 0, 0, 1, 0, 0, 0, 0, 0, ...</td>\n",
       "      <td>0</td>\n",
       "      <td>[389, 7655, 6270, 1527, 3406]</td>\n",
       "    </tr>\n",
       "    <tr>\n",
       "      <th>1</th>\n",
       "      <td>146223</td>\n",
       "      <td>96900</td>\n",
       "      <td>[40480, 18376, 7056, 246, 1531, 2032, 40481]</td>\n",
       "      <td>[[17918], [25916], [2507, 6444], [8467, 1179],...</td>\n",
       "      <td>[40480, 40482, 729, 2525, 10906, 485, 43, 8393...</td>\n",
       "      <td>[1, 0, 0, 0, 0, 0, 0, 0, 0, 1, 0, 0, 0, 0, 0, ...</td>\n",
       "      <td>0</td>\n",
       "      <td>[2683, 4969, 800, 5298, 840, 2499, 6632, 7022,...</td>\n",
       "    </tr>\n",
       "    <tr>\n",
       "      <th>2</th>\n",
       "      <td>312329</td>\n",
       "      <td>120056</td>\n",
       "      <td>[40480, 21044, 16954, 8294, 556, 10837, 40481]</td>\n",
       "      <td>[[5867, 24176], [1353], [6953], [1301, 11332],...</td>\n",
       "      <td>[40480, 40482, 8240, 481, 24176, 296, 1353, 66...</td>\n",
       "      <td>[0, 0, 0, 0, 1, 0, 0, 0, 0, 0, 0, 1, 0, 0, 0, ...</td>\n",
       "      <td>1</td>\n",
       "      <td>[1257, 7655, 6270, 590, 5024, 1119, 4883, 6696...</td>\n",
       "    </tr>\n",
       "    <tr>\n",
       "      <th>3</th>\n",
       "      <td>74301</td>\n",
       "      <td>168258</td>\n",
       "      <td>[40480, 10025, 31156, 40481]</td>\n",
       "      <td>[[1270, 1645, 28447], [21601], [27952, 29471, ...</td>\n",
       "      <td>[40480, 40482, 5539, 21601, 1073, 903, 2324, 4...</td>\n",
       "      <td>[1, 0, 0, 0, 0, 0, 0, 0, 0, 0, 0, 0, 0, 0, 0, ...</td>\n",
       "      <td>0</td>\n",
       "      <td>[7940, 3609, 7060, 6265, 1170, 6654, 5003, 3561]</td>\n",
       "    </tr>\n",
       "    <tr>\n",
       "      <th>4</th>\n",
       "      <td>76272</td>\n",
       "      <td>109030</td>\n",
       "      <td>[40480, 17841, 252, 782, 2373, 1641, 2373, 252...</td>\n",
       "      <td>[[1430, 11434], [1430, 17027], [1615, 23, 695,...</td>\n",
       "      <td>[40480, 40482, 14046, 1430, 11434, 488, 17027,...</td>\n",
       "      <td>[0, 0, 0, 0, 0, 0, 0, 0, 0, 1, 0, 0, 0, 0, 0, ...</td>\n",
       "      <td>0</td>\n",
       "      <td>[3484, 6324, 7594, 243]</td>\n",
       "    </tr>\n",
       "  </tbody>\n",
       "</table>\n",
       "</div>"
      ],
      "text/plain": [
       "       id       i                                        name_tokens  \\\n",
       "0  424415      23  [40480, 37229, 2911, 1019, 249, 6878, 6878, 28...   \n",
       "1  146223   96900       [40480, 18376, 7056, 246, 1531, 2032, 40481]   \n",
       "2  312329  120056     [40480, 21044, 16954, 8294, 556, 10837, 40481]   \n",
       "3   74301  168258                       [40480, 10025, 31156, 40481]   \n",
       "4   76272  109030  [40480, 17841, 252, 782, 2373, 1641, 2373, 252...   \n",
       "\n",
       "                                   ingredient_tokens  \\\n",
       "0  [[2911, 1019, 249, 6878], [1353], [6953], [153...   \n",
       "1  [[17918], [25916], [2507, 6444], [8467, 1179],...   \n",
       "2  [[5867, 24176], [1353], [6953], [1301, 11332],...   \n",
       "3  [[1270, 1645, 28447], [21601], [27952, 29471, ...   \n",
       "4  [[1430, 11434], [1430, 17027], [1615, 23, 695,...   \n",
       "\n",
       "                                        steps_tokens  \\\n",
       "0  [40480, 40482, 21662, 481, 6878, 500, 246, 161...   \n",
       "1  [40480, 40482, 729, 2525, 10906, 485, 43, 8393...   \n",
       "2  [40480, 40482, 8240, 481, 24176, 296, 1353, 66...   \n",
       "3  [40480, 40482, 5539, 21601, 1073, 903, 2324, 4...   \n",
       "4  [40480, 40482, 14046, 1430, 11434, 488, 17027,...   \n",
       "\n",
       "                                          techniques  calorie_level  \\\n",
       "0  [0, 0, 0, 0, 0, 0, 0, 0, 0, 1, 0, 0, 0, 0, 0, ...              0   \n",
       "1  [1, 0, 0, 0, 0, 0, 0, 0, 0, 1, 0, 0, 0, 0, 0, ...              0   \n",
       "2  [0, 0, 0, 0, 1, 0, 0, 0, 0, 0, 0, 1, 0, 0, 0, ...              1   \n",
       "3  [1, 0, 0, 0, 0, 0, 0, 0, 0, 0, 0, 0, 0, 0, 0, ...              0   \n",
       "4  [0, 0, 0, 0, 0, 0, 0, 0, 0, 1, 0, 0, 0, 0, 0, ...              0   \n",
       "\n",
       "                                      ingredient_ids  \n",
       "0                      [389, 7655, 6270, 1527, 3406]  \n",
       "1  [2683, 4969, 800, 5298, 840, 2499, 6632, 7022,...  \n",
       "2  [1257, 7655, 6270, 590, 5024, 1119, 4883, 6696...  \n",
       "3   [7940, 3609, 7060, 6265, 1170, 6654, 5003, 3561]  \n",
       "4                            [3484, 6324, 7594, 243]  "
      ]
     },
     "execution_count": 7,
     "metadata": {},
     "output_type": "execute_result"
    }
   ],
   "source": [
    "print(\"Length of the pp_recipes:\", len(pp_recipes))\n",
    "pp_recipes.head()"
   ]
  },
  {
   "cell_type": "code",
   "execution_count": 8,
   "id": "5478e425-87c7-4df0-a9df-f3e21fbd8a0e",
   "metadata": {},
   "outputs": [
    {
     "name": "stdout",
     "output_type": "stream",
     "text": [
      "Length of the raw_recipes 231637\n"
     ]
    },
    {
     "data": {
      "text/html": [
       "<div>\n",
       "<style scoped>\n",
       "    .dataframe tbody tr th:only-of-type {\n",
       "        vertical-align: middle;\n",
       "    }\n",
       "\n",
       "    .dataframe tbody tr th {\n",
       "        vertical-align: top;\n",
       "    }\n",
       "\n",
       "    .dataframe thead th {\n",
       "        text-align: right;\n",
       "    }\n",
       "</style>\n",
       "<table border=\"1\" class=\"dataframe\">\n",
       "  <thead>\n",
       "    <tr style=\"text-align: right;\">\n",
       "      <th></th>\n",
       "      <th>name</th>\n",
       "      <th>id</th>\n",
       "      <th>minutes</th>\n",
       "      <th>contributor_id</th>\n",
       "      <th>submitted</th>\n",
       "      <th>tags</th>\n",
       "      <th>nutrition</th>\n",
       "      <th>n_steps</th>\n",
       "      <th>steps</th>\n",
       "      <th>description</th>\n",
       "      <th>ingredients</th>\n",
       "      <th>n_ingredients</th>\n",
       "    </tr>\n",
       "  </thead>\n",
       "  <tbody>\n",
       "    <tr>\n",
       "      <th>0</th>\n",
       "      <td>arriba   baked winter squash mexican style</td>\n",
       "      <td>137739</td>\n",
       "      <td>55</td>\n",
       "      <td>47892</td>\n",
       "      <td>2005-09-16</td>\n",
       "      <td>['60-minutes-or-less', 'time-to-make', 'course...</td>\n",
       "      <td>[51.5, 0.0, 13.0, 0.0, 2.0, 0.0, 4.0]</td>\n",
       "      <td>11</td>\n",
       "      <td>['make a choice and proceed with recipe', 'dep...</td>\n",
       "      <td>autumn is my favorite time of year to cook! th...</td>\n",
       "      <td>['winter squash', 'mexican seasoning', 'mixed ...</td>\n",
       "      <td>7</td>\n",
       "    </tr>\n",
       "    <tr>\n",
       "      <th>1</th>\n",
       "      <td>a bit different  breakfast pizza</td>\n",
       "      <td>31490</td>\n",
       "      <td>30</td>\n",
       "      <td>26278</td>\n",
       "      <td>2002-06-17</td>\n",
       "      <td>['30-minutes-or-less', 'time-to-make', 'course...</td>\n",
       "      <td>[173.4, 18.0, 0.0, 17.0, 22.0, 35.0, 1.0]</td>\n",
       "      <td>9</td>\n",
       "      <td>['preheat oven to 425 degrees f', 'press dough...</td>\n",
       "      <td>this recipe calls for the crust to be prebaked...</td>\n",
       "      <td>['prepared pizza crust', 'sausage patty', 'egg...</td>\n",
       "      <td>6</td>\n",
       "    </tr>\n",
       "    <tr>\n",
       "      <th>2</th>\n",
       "      <td>all in the kitchen  chili</td>\n",
       "      <td>112140</td>\n",
       "      <td>130</td>\n",
       "      <td>196586</td>\n",
       "      <td>2005-02-25</td>\n",
       "      <td>['time-to-make', 'course', 'preparation', 'mai...</td>\n",
       "      <td>[269.8, 22.0, 32.0, 48.0, 39.0, 27.0, 5.0]</td>\n",
       "      <td>6</td>\n",
       "      <td>['brown ground beef in large pot', 'add choppe...</td>\n",
       "      <td>this modified version of 'mom's' chili was a h...</td>\n",
       "      <td>['ground beef', 'yellow onions', 'diced tomato...</td>\n",
       "      <td>13</td>\n",
       "    </tr>\n",
       "    <tr>\n",
       "      <th>3</th>\n",
       "      <td>alouette  potatoes</td>\n",
       "      <td>59389</td>\n",
       "      <td>45</td>\n",
       "      <td>68585</td>\n",
       "      <td>2003-04-14</td>\n",
       "      <td>['60-minutes-or-less', 'time-to-make', 'course...</td>\n",
       "      <td>[368.1, 17.0, 10.0, 2.0, 14.0, 8.0, 20.0]</td>\n",
       "      <td>11</td>\n",
       "      <td>['place potatoes in a large pot of lightly sal...</td>\n",
       "      <td>this is a super easy, great tasting, make ahea...</td>\n",
       "      <td>['spreadable cheese with garlic and herbs', 'n...</td>\n",
       "      <td>11</td>\n",
       "    </tr>\n",
       "    <tr>\n",
       "      <th>4</th>\n",
       "      <td>amish  tomato ketchup  for canning</td>\n",
       "      <td>44061</td>\n",
       "      <td>190</td>\n",
       "      <td>41706</td>\n",
       "      <td>2002-10-25</td>\n",
       "      <td>['weeknight', 'time-to-make', 'course', 'main-...</td>\n",
       "      <td>[352.9, 1.0, 337.0, 23.0, 3.0, 0.0, 28.0]</td>\n",
       "      <td>5</td>\n",
       "      <td>['mix all ingredients&amp; boil for 2 1 / 2 hours ...</td>\n",
       "      <td>my dh's amish mother raised him on this recipe...</td>\n",
       "      <td>['tomato juice', 'apple cider vinegar', 'sugar...</td>\n",
       "      <td>8</td>\n",
       "    </tr>\n",
       "  </tbody>\n",
       "</table>\n",
       "</div>"
      ],
      "text/plain": [
       "                                         name      id  minutes  \\\n",
       "0  arriba   baked winter squash mexican style  137739       55   \n",
       "1            a bit different  breakfast pizza   31490       30   \n",
       "2                   all in the kitchen  chili  112140      130   \n",
       "3                          alouette  potatoes   59389       45   \n",
       "4          amish  tomato ketchup  for canning   44061      190   \n",
       "\n",
       "   contributor_id   submitted  \\\n",
       "0           47892  2005-09-16   \n",
       "1           26278  2002-06-17   \n",
       "2          196586  2005-02-25   \n",
       "3           68585  2003-04-14   \n",
       "4           41706  2002-10-25   \n",
       "\n",
       "                                                tags  \\\n",
       "0  ['60-minutes-or-less', 'time-to-make', 'course...   \n",
       "1  ['30-minutes-or-less', 'time-to-make', 'course...   \n",
       "2  ['time-to-make', 'course', 'preparation', 'mai...   \n",
       "3  ['60-minutes-or-less', 'time-to-make', 'course...   \n",
       "4  ['weeknight', 'time-to-make', 'course', 'main-...   \n",
       "\n",
       "                                    nutrition  n_steps  \\\n",
       "0       [51.5, 0.0, 13.0, 0.0, 2.0, 0.0, 4.0]       11   \n",
       "1   [173.4, 18.0, 0.0, 17.0, 22.0, 35.0, 1.0]        9   \n",
       "2  [269.8, 22.0, 32.0, 48.0, 39.0, 27.0, 5.0]        6   \n",
       "3   [368.1, 17.0, 10.0, 2.0, 14.0, 8.0, 20.0]       11   \n",
       "4   [352.9, 1.0, 337.0, 23.0, 3.0, 0.0, 28.0]        5   \n",
       "\n",
       "                                               steps  \\\n",
       "0  ['make a choice and proceed with recipe', 'dep...   \n",
       "1  ['preheat oven to 425 degrees f', 'press dough...   \n",
       "2  ['brown ground beef in large pot', 'add choppe...   \n",
       "3  ['place potatoes in a large pot of lightly sal...   \n",
       "4  ['mix all ingredients& boil for 2 1 / 2 hours ...   \n",
       "\n",
       "                                         description  \\\n",
       "0  autumn is my favorite time of year to cook! th...   \n",
       "1  this recipe calls for the crust to be prebaked...   \n",
       "2  this modified version of 'mom's' chili was a h...   \n",
       "3  this is a super easy, great tasting, make ahea...   \n",
       "4  my dh's amish mother raised him on this recipe...   \n",
       "\n",
       "                                         ingredients  n_ingredients  \n",
       "0  ['winter squash', 'mexican seasoning', 'mixed ...              7  \n",
       "1  ['prepared pizza crust', 'sausage patty', 'egg...              6  \n",
       "2  ['ground beef', 'yellow onions', 'diced tomato...             13  \n",
       "3  ['spreadable cheese with garlic and herbs', 'n...             11  \n",
       "4  ['tomato juice', 'apple cider vinegar', 'sugar...              8  "
      ]
     },
     "execution_count": 8,
     "metadata": {},
     "output_type": "execute_result"
    }
   ],
   "source": [
    "print(\"Length of the raw_recipes\", len(raw_recipes))\n",
    "raw_recipes.head()"
   ]
  },
  {
   "cell_type": "code",
   "execution_count": 9,
   "id": "5d99c32a-a007-4e15-99b1-7bd4bbf12622",
   "metadata": {},
   "outputs": [
    {
     "name": "stdout",
     "output_type": "stream",
     "text": [
      "Length of ingr_map 11659\n"
     ]
    },
    {
     "data": {
      "text/html": [
       "<div>\n",
       "<style scoped>\n",
       "    .dataframe tbody tr th:only-of-type {\n",
       "        vertical-align: middle;\n",
       "    }\n",
       "\n",
       "    .dataframe tbody tr th {\n",
       "        vertical-align: top;\n",
       "    }\n",
       "\n",
       "    .dataframe thead th {\n",
       "        text-align: right;\n",
       "    }\n",
       "</style>\n",
       "<table border=\"1\" class=\"dataframe\">\n",
       "  <thead>\n",
       "    <tr style=\"text-align: right;\">\n",
       "      <th></th>\n",
       "      <th>raw_ingr</th>\n",
       "      <th>raw_words</th>\n",
       "      <th>processed</th>\n",
       "      <th>len_proc</th>\n",
       "      <th>replaced</th>\n",
       "      <th>count</th>\n",
       "      <th>id</th>\n",
       "    </tr>\n",
       "  </thead>\n",
       "  <tbody>\n",
       "    <tr>\n",
       "      <th>0</th>\n",
       "      <td>medium heads bibb or red leaf lettuce, washed,...</td>\n",
       "      <td>13</td>\n",
       "      <td>medium heads bibb or red leaf lettuce, washed,...</td>\n",
       "      <td>73</td>\n",
       "      <td>lettuce</td>\n",
       "      <td>4507</td>\n",
       "      <td>4308</td>\n",
       "    </tr>\n",
       "    <tr>\n",
       "      <th>1</th>\n",
       "      <td>mixed baby lettuces and spring greens</td>\n",
       "      <td>6</td>\n",
       "      <td>mixed baby lettuces and spring green</td>\n",
       "      <td>36</td>\n",
       "      <td>lettuce</td>\n",
       "      <td>4507</td>\n",
       "      <td>4308</td>\n",
       "    </tr>\n",
       "    <tr>\n",
       "      <th>2</th>\n",
       "      <td>romaine lettuce leaf</td>\n",
       "      <td>3</td>\n",
       "      <td>romaine lettuce leaf</td>\n",
       "      <td>20</td>\n",
       "      <td>lettuce</td>\n",
       "      <td>4507</td>\n",
       "      <td>4308</td>\n",
       "    </tr>\n",
       "    <tr>\n",
       "      <th>3</th>\n",
       "      <td>iceberg lettuce leaf</td>\n",
       "      <td>3</td>\n",
       "      <td>iceberg lettuce leaf</td>\n",
       "      <td>20</td>\n",
       "      <td>lettuce</td>\n",
       "      <td>4507</td>\n",
       "      <td>4308</td>\n",
       "    </tr>\n",
       "    <tr>\n",
       "      <th>4</th>\n",
       "      <td>red romaine lettuce</td>\n",
       "      <td>3</td>\n",
       "      <td>red romaine lettuce</td>\n",
       "      <td>19</td>\n",
       "      <td>lettuce</td>\n",
       "      <td>4507</td>\n",
       "      <td>4308</td>\n",
       "    </tr>\n",
       "  </tbody>\n",
       "</table>\n",
       "</div>"
      ],
      "text/plain": [
       "                                            raw_ingr  raw_words  \\\n",
       "0  medium heads bibb or red leaf lettuce, washed,...         13   \n",
       "1              mixed baby lettuces and spring greens          6   \n",
       "2                               romaine lettuce leaf          3   \n",
       "3                               iceberg lettuce leaf          3   \n",
       "4                                red romaine lettuce          3   \n",
       "\n",
       "                                           processed  len_proc replaced  \\\n",
       "0  medium heads bibb or red leaf lettuce, washed,...        73  lettuce   \n",
       "1               mixed baby lettuces and spring green        36  lettuce   \n",
       "2                               romaine lettuce leaf        20  lettuce   \n",
       "3                               iceberg lettuce leaf        20  lettuce   \n",
       "4                                red romaine lettuce        19  lettuce   \n",
       "\n",
       "   count    id  \n",
       "0   4507  4308  \n",
       "1   4507  4308  \n",
       "2   4507  4308  \n",
       "3   4507  4308  \n",
       "4   4507  4308  "
      ]
     },
     "execution_count": 9,
     "metadata": {},
     "output_type": "execute_result"
    }
   ],
   "source": [
    "print(\"Length of ingr_map\", len(ingr_map))\n",
    "ingr_map.head()"
   ]
  },
  {
   "cell_type": "markdown",
   "id": "6e120482-9033-4de2-b4c9-b02ed5ffe685",
   "metadata": {},
   "source": [
    "NOTE: The ingr_map had processed all the ingredients and tokenized them to a more concise label"
   ]
  },
  {
   "cell_type": "markdown",
   "id": "2ca137d1-17a2-4049-8ba7-3ecb19caf974",
   "metadata": {},
   "source": [
    "### Top 20 most common tokenized ingredients"
   ]
  },
  {
   "cell_type": "code",
   "execution_count": 10,
   "id": "660e429d-1eea-4382-9e0f-7de6b13529ae",
   "metadata": {},
   "outputs": [
    {
     "data": {
      "text/html": [
       "<div>\n",
       "<style scoped>\n",
       "    .dataframe tbody tr th:only-of-type {\n",
       "        vertical-align: middle;\n",
       "    }\n",
       "\n",
       "    .dataframe tbody tr th {\n",
       "        vertical-align: top;\n",
       "    }\n",
       "\n",
       "    .dataframe thead th {\n",
       "        text-align: right;\n",
       "    }\n",
       "</style>\n",
       "<table border=\"1\" class=\"dataframe\">\n",
       "  <thead>\n",
       "    <tr style=\"text-align: right;\">\n",
       "      <th></th>\n",
       "      <th>raw_ingr</th>\n",
       "      <th>raw_words</th>\n",
       "      <th>processed</th>\n",
       "      <th>len_proc</th>\n",
       "      <th>replaced</th>\n",
       "      <th>count</th>\n",
       "      <th>id</th>\n",
       "    </tr>\n",
       "  </thead>\n",
       "  <tbody>\n",
       "    <tr>\n",
       "      <th>904</th>\n",
       "      <td>salt</td>\n",
       "      <td>1</td>\n",
       "      <td>salt</td>\n",
       "      <td>4</td>\n",
       "      <td>salt</td>\n",
       "      <td>72848</td>\n",
       "      <td>6270</td>\n",
       "    </tr>\n",
       "    <tr>\n",
       "      <th>6657</th>\n",
       "      <td>butter flavor crisco</td>\n",
       "      <td>3</td>\n",
       "      <td>butter</td>\n",
       "      <td>6</td>\n",
       "      <td>butter</td>\n",
       "      <td>48039</td>\n",
       "      <td>840</td>\n",
       "    </tr>\n",
       "    <tr>\n",
       "      <th>10969</th>\n",
       "      <td>egg</td>\n",
       "      <td>1</td>\n",
       "      <td>egg</td>\n",
       "      <td>3</td>\n",
       "      <td>egg</td>\n",
       "      <td>43350</td>\n",
       "      <td>2499</td>\n",
       "    </tr>\n",
       "    <tr>\n",
       "      <th>10567</th>\n",
       "      <td>durkee onions</td>\n",
       "      <td>2</td>\n",
       "      <td>onion</td>\n",
       "      <td>5</td>\n",
       "      <td>onion</td>\n",
       "      <td>42631</td>\n",
       "      <td>5010</td>\n",
       "    </tr>\n",
       "    <tr>\n",
       "      <th>11018</th>\n",
       "      <td>sugar</td>\n",
       "      <td>1</td>\n",
       "      <td>sugar</td>\n",
       "      <td>5</td>\n",
       "      <td>sugar</td>\n",
       "      <td>37464</td>\n",
       "      <td>6906</td>\n",
       "    </tr>\n",
       "    <tr>\n",
       "      <th>553</th>\n",
       "      <td>chili-flavored olive oil</td>\n",
       "      <td>3</td>\n",
       "      <td>chili olive oil</td>\n",
       "      <td>15</td>\n",
       "      <td>olive oil</td>\n",
       "      <td>34402</td>\n",
       "      <td>5006</td>\n",
       "    </tr>\n",
       "    <tr>\n",
       "      <th>9090</th>\n",
       "      <td>garlic cloves</td>\n",
       "      <td>2</td>\n",
       "      <td>garlic clove</td>\n",
       "      <td>12</td>\n",
       "      <td>garlic clove</td>\n",
       "      <td>29815</td>\n",
       "      <td>3203</td>\n",
       "    </tr>\n",
       "    <tr>\n",
       "      <th>10946</th>\n",
       "      <td>water</td>\n",
       "      <td>1</td>\n",
       "      <td>water</td>\n",
       "      <td>5</td>\n",
       "      <td>water</td>\n",
       "      <td>28592</td>\n",
       "      <td>7655</td>\n",
       "    </tr>\n",
       "    <tr>\n",
       "      <th>6068</th>\n",
       "      <td>nonfat milk</td>\n",
       "      <td>2</td>\n",
       "      <td>milk</td>\n",
       "      <td>4</td>\n",
       "      <td>milk</td>\n",
       "      <td>24114</td>\n",
       "      <td>4717</td>\n",
       "    </tr>\n",
       "    <tr>\n",
       "      <th>4754</th>\n",
       "      <td>flour</td>\n",
       "      <td>1</td>\n",
       "      <td>flmy</td>\n",
       "      <td>4</td>\n",
       "      <td>flmy</td>\n",
       "      <td>23078</td>\n",
       "      <td>2683</td>\n",
       "    </tr>\n",
       "    <tr>\n",
       "      <th>11016</th>\n",
       "      <td>pepper</td>\n",
       "      <td>1</td>\n",
       "      <td>pepper</td>\n",
       "      <td>6</td>\n",
       "      <td>pepper</td>\n",
       "      <td>20027</td>\n",
       "      <td>5319</td>\n",
       "    </tr>\n",
       "    <tr>\n",
       "      <th>9152</th>\n",
       "      <td>brown sugar</td>\n",
       "      <td>2</td>\n",
       "      <td>brown sugar</td>\n",
       "      <td>11</td>\n",
       "      <td>brown sugar</td>\n",
       "      <td>16611</td>\n",
       "      <td>800</td>\n",
       "    </tr>\n",
       "    <tr>\n",
       "      <th>10984</th>\n",
       "      <td>garlic</td>\n",
       "      <td>1</td>\n",
       "      <td>garlic</td>\n",
       "      <td>6</td>\n",
       "      <td>garlic</td>\n",
       "      <td>15393</td>\n",
       "      <td>3184</td>\n",
       "    </tr>\n",
       "    <tr>\n",
       "      <th>3382</th>\n",
       "      <td>baking powder</td>\n",
       "      <td>2</td>\n",
       "      <td>baking powder</td>\n",
       "      <td>13</td>\n",
       "      <td>baking powder</td>\n",
       "      <td>15261</td>\n",
       "      <td>332</td>\n",
       "    </tr>\n",
       "    <tr>\n",
       "      <th>2470</th>\n",
       "      <td>scallion top</td>\n",
       "      <td>2</td>\n",
       "      <td>scallion top</td>\n",
       "      <td>12</td>\n",
       "      <td>scallion</td>\n",
       "      <td>14377</td>\n",
       "      <td>6335</td>\n",
       "    </tr>\n",
       "    <tr>\n",
       "      <th>3392</th>\n",
       "      <td>all-purpose flour</td>\n",
       "      <td>2</td>\n",
       "      <td>all-purpose flmy</td>\n",
       "      <td>16</td>\n",
       "      <td>all-purpose flmy</td>\n",
       "      <td>13834</td>\n",
       "      <td>63</td>\n",
       "    </tr>\n",
       "    <tr>\n",
       "      <th>6053</th>\n",
       "      <td>salt and pepper</td>\n",
       "      <td>3</td>\n",
       "      <td>salt and pepper</td>\n",
       "      <td>15</td>\n",
       "      <td>salt and pepper</td>\n",
       "      <td>13586</td>\n",
       "      <td>6276</td>\n",
       "    </tr>\n",
       "    <tr>\n",
       "      <th>160</th>\n",
       "      <td>aged cheddar cheese</td>\n",
       "      <td>3</td>\n",
       "      <td>aged cheddar cheese</td>\n",
       "      <td>19</td>\n",
       "      <td>cheddar</td>\n",
       "      <td>13304</td>\n",
       "      <td>1168</td>\n",
       "    </tr>\n",
       "    <tr>\n",
       "      <th>3290</th>\n",
       "      <td>lowfat parmesan cheese</td>\n",
       "      <td>3</td>\n",
       "      <td>parmesan cheese</td>\n",
       "      <td>15</td>\n",
       "      <td>parmesan cheese</td>\n",
       "      <td>13005</td>\n",
       "      <td>5180</td>\n",
       "    </tr>\n",
       "    <tr>\n",
       "      <th>9122</th>\n",
       "      <td>baking soda</td>\n",
       "      <td>2</td>\n",
       "      <td>baking soda</td>\n",
       "      <td>11</td>\n",
       "      <td>baking soda</td>\n",
       "      <td>12570</td>\n",
       "      <td>335</td>\n",
       "    </tr>\n",
       "  </tbody>\n",
       "</table>\n",
       "</div>"
      ],
      "text/plain": [
       "                       raw_ingr  raw_words            processed  len_proc  \\\n",
       "904                        salt          1                 salt         4   \n",
       "6657       butter flavor crisco          3               butter         6   \n",
       "10969                       egg          1                  egg         3   \n",
       "10567             durkee onions          2                onion         5   \n",
       "11018                     sugar          1                sugar         5   \n",
       "553    chili-flavored olive oil          3      chili olive oil        15   \n",
       "9090              garlic cloves          2         garlic clove        12   \n",
       "10946                     water          1                water         5   \n",
       "6068                nonfat milk          2                 milk         4   \n",
       "4754                      flour          1                 flmy         4   \n",
       "11016                    pepper          1               pepper         6   \n",
       "9152                brown sugar          2          brown sugar        11   \n",
       "10984                    garlic          1               garlic         6   \n",
       "3382              baking powder          2        baking powder        13   \n",
       "2470               scallion top          2         scallion top        12   \n",
       "3392          all-purpose flour          2     all-purpose flmy        16   \n",
       "6053            salt and pepper          3      salt and pepper        15   \n",
       "160         aged cheddar cheese          3  aged cheddar cheese        19   \n",
       "3290     lowfat parmesan cheese          3      parmesan cheese        15   \n",
       "9122                baking soda          2          baking soda        11   \n",
       "\n",
       "               replaced  count    id  \n",
       "904                salt  72848  6270  \n",
       "6657             butter  48039   840  \n",
       "10969               egg  43350  2499  \n",
       "10567             onion  42631  5010  \n",
       "11018             sugar  37464  6906  \n",
       "553           olive oil  34402  5006  \n",
       "9090       garlic clove  29815  3203  \n",
       "10946             water  28592  7655  \n",
       "6068               milk  24114  4717  \n",
       "4754               flmy  23078  2683  \n",
       "11016            pepper  20027  5319  \n",
       "9152        brown sugar  16611   800  \n",
       "10984            garlic  15393  3184  \n",
       "3382      baking powder  15261   332  \n",
       "2470           scallion  14377  6335  \n",
       "3392   all-purpose flmy  13834    63  \n",
       "6053    salt and pepper  13586  6276  \n",
       "160             cheddar  13304  1168  \n",
       "3290    parmesan cheese  13005  5180  \n",
       "9122        baking soda  12570   335  "
      ]
     },
     "execution_count": 10,
     "metadata": {},
     "output_type": "execute_result"
    }
   ],
   "source": [
    "ingr_map.sort_values(by = ['count'], ascending = False).drop_duplicates(subset = ['replaced']).head(20)"
   ]
  },
  {
   "cell_type": "markdown",
   "id": "d9c1479a-5307-47c3-b738-72cb92ba44ee",
   "metadata": {},
   "source": [
    "### Top 20 least common tokenized ingredients"
   ]
  },
  {
   "cell_type": "code",
   "execution_count": 7,
   "id": "6ace313c-be01-4b76-8f70-438ece267fa4",
   "metadata": {},
   "outputs": [
    {
     "data": {
      "text/html": [
       "<div>\n",
       "<style scoped>\n",
       "    .dataframe tbody tr th:only-of-type {\n",
       "        vertical-align: middle;\n",
       "    }\n",
       "\n",
       "    .dataframe tbody tr th {\n",
       "        vertical-align: top;\n",
       "    }\n",
       "\n",
       "    .dataframe thead th {\n",
       "        text-align: right;\n",
       "    }\n",
       "</style>\n",
       "<table border=\"1\" class=\"dataframe\">\n",
       "  <thead>\n",
       "    <tr style=\"text-align: right;\">\n",
       "      <th></th>\n",
       "      <th>raw_ingr</th>\n",
       "      <th>raw_words</th>\n",
       "      <th>processed</th>\n",
       "      <th>len_proc</th>\n",
       "      <th>replaced</th>\n",
       "      <th>count</th>\n",
       "      <th>id</th>\n",
       "    </tr>\n",
       "  </thead>\n",
       "  <tbody>\n",
       "    <tr>\n",
       "      <th>3883</th>\n",
       "      <td>goat milk yogurt</td>\n",
       "      <td>3</td>\n",
       "      <td>goat milk yogurt</td>\n",
       "      <td>16</td>\n",
       "      <td>goat milk yogurt</td>\n",
       "      <td>2</td>\n",
       "      <td>3297</td>\n",
       "    </tr>\n",
       "    <tr>\n",
       "      <th>8732</th>\n",
       "      <td>jeera seeds</td>\n",
       "      <td>2</td>\n",
       "      <td>jeera seed</td>\n",
       "      <td>10</td>\n",
       "      <td>jeera seed</td>\n",
       "      <td>2</td>\n",
       "      <td>3977</td>\n",
       "    </tr>\n",
       "    <tr>\n",
       "      <th>3755</th>\n",
       "      <td>fresh grape leaves</td>\n",
       "      <td>3</td>\n",
       "      <td>fresh grape leaf</td>\n",
       "      <td>16</td>\n",
       "      <td>fresh grape leaf</td>\n",
       "      <td>2</td>\n",
       "      <td>2812</td>\n",
       "    </tr>\n",
       "    <tr>\n",
       "      <th>3754</th>\n",
       "      <td>dried cranberry beans</td>\n",
       "      <td>3</td>\n",
       "      <td>dried cranberry bean</td>\n",
       "      <td>20</td>\n",
       "      <td>dried cranberry bean</td>\n",
       "      <td>2</td>\n",
       "      <td>2252</td>\n",
       "    </tr>\n",
       "    <tr>\n",
       "      <th>3753</th>\n",
       "      <td>low-carbohydrate baking mix</td>\n",
       "      <td>3</td>\n",
       "      <td>ohydrate baking mix</td>\n",
       "      <td>19</td>\n",
       "      <td>ohydrate baking mix</td>\n",
       "      <td>2</td>\n",
       "      <td>4986</td>\n",
       "    </tr>\n",
       "    <tr>\n",
       "      <th>3752</th>\n",
       "      <td>tangerine juice concentrate</td>\n",
       "      <td>3</td>\n",
       "      <td>tangerine juice concentrate</td>\n",
       "      <td>27</td>\n",
       "      <td>tangerine juice concentrate</td>\n",
       "      <td>2</td>\n",
       "      <td>7085</td>\n",
       "    </tr>\n",
       "    <tr>\n",
       "      <th>3733</th>\n",
       "      <td>onion soup base</td>\n",
       "      <td>3</td>\n",
       "      <td>onion soup base</td>\n",
       "      <td>15</td>\n",
       "      <td>onion soup base</td>\n",
       "      <td>2</td>\n",
       "      <td>5032</td>\n",
       "    </tr>\n",
       "    <tr>\n",
       "      <th>3728</th>\n",
       "      <td>grape juice concentrate</td>\n",
       "      <td>3</td>\n",
       "      <td>grape juice concentrate</td>\n",
       "      <td>23</td>\n",
       "      <td>grape juice concentrate</td>\n",
       "      <td>2</td>\n",
       "      <td>3363</td>\n",
       "    </tr>\n",
       "    <tr>\n",
       "      <th>3710</th>\n",
       "      <td>pomegranate, seeds of</td>\n",
       "      <td>3</td>\n",
       "      <td>pomegranate, seeds of</td>\n",
       "      <td>21</td>\n",
       "      <td>pomegranate, seeds of</td>\n",
       "      <td>2</td>\n",
       "      <td>5544</td>\n",
       "    </tr>\n",
       "    <tr>\n",
       "      <th>3702</th>\n",
       "      <td>hot pepper relish</td>\n",
       "      <td>3</td>\n",
       "      <td>hot pepper relish</td>\n",
       "      <td>17</td>\n",
       "      <td>hot pepper relish</td>\n",
       "      <td>2</td>\n",
       "      <td>3799</td>\n",
       "    </tr>\n",
       "    <tr>\n",
       "      <th>3701</th>\n",
       "      <td>bitter cocoa powder</td>\n",
       "      <td>3</td>\n",
       "      <td>bitter cocoa powder</td>\n",
       "      <td>19</td>\n",
       "      <td>bitter cocoa powder</td>\n",
       "      <td>2</td>\n",
       "      <td>544</td>\n",
       "    </tr>\n",
       "    <tr>\n",
       "      <th>3691</th>\n",
       "      <td>tandoori color powder</td>\n",
       "      <td>3</td>\n",
       "      <td>tandoori color powder</td>\n",
       "      <td>21</td>\n",
       "      <td>tandoori color powder</td>\n",
       "      <td>2</td>\n",
       "      <td>7077</td>\n",
       "    </tr>\n",
       "    <tr>\n",
       "      <th>3688</th>\n",
       "      <td>cheese cracker crumbs</td>\n",
       "      <td>3</td>\n",
       "      <td>cheese cracker crumb</td>\n",
       "      <td>20</td>\n",
       "      <td>cheese cracker crumb</td>\n",
       "      <td>2</td>\n",
       "      <td>1173</td>\n",
       "    </tr>\n",
       "    <tr>\n",
       "      <th>3685</th>\n",
       "      <td>fresh tuna filets</td>\n",
       "      <td>3</td>\n",
       "      <td>fresh tuna filet</td>\n",
       "      <td>16</td>\n",
       "      <td>fresh tuna filet</td>\n",
       "      <td>2</td>\n",
       "      <td>2916</td>\n",
       "    </tr>\n",
       "    <tr>\n",
       "      <th>3772</th>\n",
       "      <td>food coloring paste</td>\n",
       "      <td>3</td>\n",
       "      <td>food coloring paste</td>\n",
       "      <td>19</td>\n",
       "      <td>food coloring paste</td>\n",
       "      <td>2</td>\n",
       "      <td>2697</td>\n",
       "    </tr>\n",
       "    <tr>\n",
       "      <th>8744</th>\n",
       "      <td>aloe juice</td>\n",
       "      <td>2</td>\n",
       "      <td>aloe juice</td>\n",
       "      <td>10</td>\n",
       "      <td>aloe juice</td>\n",
       "      <td>2</td>\n",
       "      <td>91</td>\n",
       "    </tr>\n",
       "    <tr>\n",
       "      <th>3639</th>\n",
       "      <td>concentrated tomato paste</td>\n",
       "      <td>3</td>\n",
       "      <td>concentrated tomato paste</td>\n",
       "      <td>25</td>\n",
       "      <td>concentrated tomato paste</td>\n",
       "      <td>2</td>\n",
       "      <td>1659</td>\n",
       "    </tr>\n",
       "    <tr>\n",
       "      <th>3607</th>\n",
       "      <td>fat-free key lime yogurt</td>\n",
       "      <td>4</td>\n",
       "      <td>key lime yogurt</td>\n",
       "      <td>15</td>\n",
       "      <td>key lime yogurt</td>\n",
       "      <td>2</td>\n",
       "      <td>4058</td>\n",
       "    </tr>\n",
       "    <tr>\n",
       "      <th>3605</th>\n",
       "      <td>cooked short-grain brown rice</td>\n",
       "      <td>4</td>\n",
       "      <td>cooked short-grain brown rice</td>\n",
       "      <td>29</td>\n",
       "      <td>cooked short-grain brown rice</td>\n",
       "      <td>2</td>\n",
       "      <td>1751</td>\n",
       "    </tr>\n",
       "    <tr>\n",
       "      <th>3604</th>\n",
       "      <td>blueberries in light syrup</td>\n",
       "      <td>4</td>\n",
       "      <td>blueberries in light syrup</td>\n",
       "      <td>26</td>\n",
       "      <td>blueberries in light syrup</td>\n",
       "      <td>2</td>\n",
       "      <td>647</td>\n",
       "    </tr>\n",
       "  </tbody>\n",
       "</table>\n",
       "</div>"
      ],
      "text/plain": [
       "                           raw_ingr  raw_words                      processed  \\\n",
       "3883               goat milk yogurt          3               goat milk yogurt   \n",
       "8732                    jeera seeds          2                     jeera seed   \n",
       "3755             fresh grape leaves          3               fresh grape leaf   \n",
       "3754          dried cranberry beans          3           dried cranberry bean   \n",
       "3753    low-carbohydrate baking mix          3            ohydrate baking mix   \n",
       "3752    tangerine juice concentrate          3    tangerine juice concentrate   \n",
       "3733                onion soup base          3                onion soup base   \n",
       "3728        grape juice concentrate          3        grape juice concentrate   \n",
       "3710          pomegranate, seeds of          3          pomegranate, seeds of   \n",
       "3702              hot pepper relish          3              hot pepper relish   \n",
       "3701            bitter cocoa powder          3            bitter cocoa powder   \n",
       "3691          tandoori color powder          3          tandoori color powder   \n",
       "3688          cheese cracker crumbs          3           cheese cracker crumb   \n",
       "3685              fresh tuna filets          3               fresh tuna filet   \n",
       "3772            food coloring paste          3            food coloring paste   \n",
       "8744                     aloe juice          2                     aloe juice   \n",
       "3639      concentrated tomato paste          3      concentrated tomato paste   \n",
       "3607       fat-free key lime yogurt          4                key lime yogurt   \n",
       "3605  cooked short-grain brown rice          4  cooked short-grain brown rice   \n",
       "3604     blueberries in light syrup          4     blueberries in light syrup   \n",
       "\n",
       "      len_proc                       replaced  count    id  \n",
       "3883        16               goat milk yogurt      2  3297  \n",
       "8732        10                     jeera seed      2  3977  \n",
       "3755        16               fresh grape leaf      2  2812  \n",
       "3754        20           dried cranberry bean      2  2252  \n",
       "3753        19            ohydrate baking mix      2  4986  \n",
       "3752        27    tangerine juice concentrate      2  7085  \n",
       "3733        15                onion soup base      2  5032  \n",
       "3728        23        grape juice concentrate      2  3363  \n",
       "3710        21          pomegranate, seeds of      2  5544  \n",
       "3702        17              hot pepper relish      2  3799  \n",
       "3701        19            bitter cocoa powder      2   544  \n",
       "3691        21          tandoori color powder      2  7077  \n",
       "3688        20           cheese cracker crumb      2  1173  \n",
       "3685        16               fresh tuna filet      2  2916  \n",
       "3772        19            food coloring paste      2  2697  \n",
       "8744        10                     aloe juice      2    91  \n",
       "3639        25      concentrated tomato paste      2  1659  \n",
       "3607        15                key lime yogurt      2  4058  \n",
       "3605        29  cooked short-grain brown rice      2  1751  \n",
       "3604        26     blueberries in light syrup      2   647  "
      ]
     },
     "execution_count": 7,
     "metadata": {},
     "output_type": "execute_result"
    }
   ],
   "source": [
    "ingr_map.sort_values(by = ['count'], ascending = True).drop_duplicates(subset = ['replaced']).head(20)"
   ]
  },
  {
   "cell_type": "markdown",
   "id": "8d26e012-9988-4da8-a39e-568e6d4bb71d",
   "metadata": {},
   "source": [
    "## Exploring users and user-recipe interactions"
   ]
  },
  {
   "cell_type": "code",
   "execution_count": 8,
   "id": "08ff5949-3e75-44e4-a190-021a8e9675e8",
   "metadata": {},
   "outputs": [
    {
     "name": "stdout",
     "output_type": "stream",
     "text": [
      "Length of pp_users 25076\n"
     ]
    },
    {
     "data": {
      "text/html": [
       "<div>\n",
       "<style scoped>\n",
       "    .dataframe tbody tr th:only-of-type {\n",
       "        vertical-align: middle;\n",
       "    }\n",
       "\n",
       "    .dataframe tbody tr th {\n",
       "        vertical-align: top;\n",
       "    }\n",
       "\n",
       "    .dataframe thead th {\n",
       "        text-align: right;\n",
       "    }\n",
       "</style>\n",
       "<table border=\"1\" class=\"dataframe\">\n",
       "  <thead>\n",
       "    <tr style=\"text-align: right;\">\n",
       "      <th></th>\n",
       "      <th>u</th>\n",
       "      <th>techniques</th>\n",
       "      <th>items</th>\n",
       "      <th>n_items</th>\n",
       "      <th>ratings</th>\n",
       "      <th>n_ratings</th>\n",
       "    </tr>\n",
       "  </thead>\n",
       "  <tbody>\n",
       "    <tr>\n",
       "      <th>0</th>\n",
       "      <td>0</td>\n",
       "      <td>[8, 0, 0, 5, 6, 0, 0, 1, 0, 9, 1, 0, 0, 0, 1, ...</td>\n",
       "      <td>[1118, 27680, 32541, 137353, 16428, 28815, 658...</td>\n",
       "      <td>31</td>\n",
       "      <td>[5.0, 5.0, 5.0, 5.0, 5.0, 5.0, 5.0, 4.0, 4.0, ...</td>\n",
       "      <td>31</td>\n",
       "    </tr>\n",
       "    <tr>\n",
       "      <th>1</th>\n",
       "      <td>1</td>\n",
       "      <td>[11, 0, 0, 2, 12, 0, 0, 0, 0, 14, 5, 0, 0, 0, ...</td>\n",
       "      <td>[122140, 77036, 156817, 76957, 68818, 155600, ...</td>\n",
       "      <td>39</td>\n",
       "      <td>[5.0, 5.0, 5.0, 5.0, 5.0, 5.0, 5.0, 5.0, 5.0, ...</td>\n",
       "      <td>39</td>\n",
       "    </tr>\n",
       "    <tr>\n",
       "      <th>2</th>\n",
       "      <td>2</td>\n",
       "      <td>[13, 0, 0, 7, 5, 0, 1, 2, 1, 11, 0, 1, 0, 0, 1...</td>\n",
       "      <td>[168054, 87218, 35731, 1, 20475, 9039, 124834,...</td>\n",
       "      <td>27</td>\n",
       "      <td>[3.0, 4.0, 4.0, 4.0, 4.0, 4.0, 4.0, 4.0, 5.0, ...</td>\n",
       "      <td>27</td>\n",
       "    </tr>\n",
       "    <tr>\n",
       "      <th>3</th>\n",
       "      <td>3</td>\n",
       "      <td>[498, 13, 4, 218, 376, 3, 2, 33, 16, 591, 10, ...</td>\n",
       "      <td>[163193, 156352, 102888, 19914, 169438, 55772,...</td>\n",
       "      <td>1513</td>\n",
       "      <td>[5.0, 5.0, 5.0, 5.0, 4.0, 4.0, 5.0, 5.0, 5.0, ...</td>\n",
       "      <td>1513</td>\n",
       "    </tr>\n",
       "    <tr>\n",
       "      <th>4</th>\n",
       "      <td>4</td>\n",
       "      <td>[161, 1, 1, 86, 93, 0, 0, 11, 2, 141, 0, 16, 0...</td>\n",
       "      <td>[72857, 38652, 160427, 55772, 119999, 141777, ...</td>\n",
       "      <td>376</td>\n",
       "      <td>[5.0, 5.0, 5.0, 5.0, 4.0, 4.0, 5.0, 4.0, 5.0, ...</td>\n",
       "      <td>376</td>\n",
       "    </tr>\n",
       "  </tbody>\n",
       "</table>\n",
       "</div>"
      ],
      "text/plain": [
       "   u                                         techniques  \\\n",
       "0  0  [8, 0, 0, 5, 6, 0, 0, 1, 0, 9, 1, 0, 0, 0, 1, ...   \n",
       "1  1  [11, 0, 0, 2, 12, 0, 0, 0, 0, 14, 5, 0, 0, 0, ...   \n",
       "2  2  [13, 0, 0, 7, 5, 0, 1, 2, 1, 11, 0, 1, 0, 0, 1...   \n",
       "3  3  [498, 13, 4, 218, 376, 3, 2, 33, 16, 591, 10, ...   \n",
       "4  4  [161, 1, 1, 86, 93, 0, 0, 11, 2, 141, 0, 16, 0...   \n",
       "\n",
       "                                               items  n_items  \\\n",
       "0  [1118, 27680, 32541, 137353, 16428, 28815, 658...       31   \n",
       "1  [122140, 77036, 156817, 76957, 68818, 155600, ...       39   \n",
       "2  [168054, 87218, 35731, 1, 20475, 9039, 124834,...       27   \n",
       "3  [163193, 156352, 102888, 19914, 169438, 55772,...     1513   \n",
       "4  [72857, 38652, 160427, 55772, 119999, 141777, ...      376   \n",
       "\n",
       "                                             ratings  n_ratings  \n",
       "0  [5.0, 5.0, 5.0, 5.0, 5.0, 5.0, 5.0, 4.0, 4.0, ...         31  \n",
       "1  [5.0, 5.0, 5.0, 5.0, 5.0, 5.0, 5.0, 5.0, 5.0, ...         39  \n",
       "2  [3.0, 4.0, 4.0, 4.0, 4.0, 4.0, 4.0, 4.0, 5.0, ...         27  \n",
       "3  [5.0, 5.0, 5.0, 5.0, 4.0, 4.0, 5.0, 5.0, 5.0, ...       1513  \n",
       "4  [5.0, 5.0, 5.0, 5.0, 4.0, 4.0, 5.0, 4.0, 5.0, ...        376  "
      ]
     },
     "execution_count": 8,
     "metadata": {},
     "output_type": "execute_result"
    }
   ],
   "source": [
    "print(\"Length of pp_users\", len(pp_users))\n",
    "pp_users.head()"
   ]
  },
  {
   "cell_type": "code",
   "execution_count": 20,
   "id": "6250ea31-1d7e-4fcb-ac96-120d1d49b936",
   "metadata": {},
   "outputs": [
    {
     "name": "stdout",
     "output_type": "stream",
     "text": [
      "Length of raw_interactions 1132367\n"
     ]
    },
    {
     "data": {
      "text/html": [
       "<div>\n",
       "<style scoped>\n",
       "    .dataframe tbody tr th:only-of-type {\n",
       "        vertical-align: middle;\n",
       "    }\n",
       "\n",
       "    .dataframe tbody tr th {\n",
       "        vertical-align: top;\n",
       "    }\n",
       "\n",
       "    .dataframe thead th {\n",
       "        text-align: right;\n",
       "    }\n",
       "</style>\n",
       "<table border=\"1\" class=\"dataframe\">\n",
       "  <thead>\n",
       "    <tr style=\"text-align: right;\">\n",
       "      <th></th>\n",
       "      <th>user_id</th>\n",
       "      <th>recipe_id</th>\n",
       "      <th>date</th>\n",
       "      <th>rating</th>\n",
       "      <th>review</th>\n",
       "    </tr>\n",
       "  </thead>\n",
       "  <tbody>\n",
       "    <tr>\n",
       "      <th>0</th>\n",
       "      <td>38094</td>\n",
       "      <td>40893</td>\n",
       "      <td>2003-02-17</td>\n",
       "      <td>4</td>\n",
       "      <td>Great with a salad. Cooked on top of stove for...</td>\n",
       "    </tr>\n",
       "    <tr>\n",
       "      <th>1</th>\n",
       "      <td>1293707</td>\n",
       "      <td>40893</td>\n",
       "      <td>2011-12-21</td>\n",
       "      <td>5</td>\n",
       "      <td>So simple, so delicious! Great for chilly fall...</td>\n",
       "    </tr>\n",
       "    <tr>\n",
       "      <th>2</th>\n",
       "      <td>8937</td>\n",
       "      <td>44394</td>\n",
       "      <td>2002-12-01</td>\n",
       "      <td>4</td>\n",
       "      <td>This worked very well and is EASY.  I used not...</td>\n",
       "    </tr>\n",
       "    <tr>\n",
       "      <th>3</th>\n",
       "      <td>126440</td>\n",
       "      <td>85009</td>\n",
       "      <td>2010-02-27</td>\n",
       "      <td>5</td>\n",
       "      <td>I made the Mexican topping and took it to bunk...</td>\n",
       "    </tr>\n",
       "    <tr>\n",
       "      <th>4</th>\n",
       "      <td>57222</td>\n",
       "      <td>85009</td>\n",
       "      <td>2011-10-01</td>\n",
       "      <td>5</td>\n",
       "      <td>Made the cheddar bacon topping, adding a sprin...</td>\n",
       "    </tr>\n",
       "  </tbody>\n",
       "</table>\n",
       "</div>"
      ],
      "text/plain": [
       "   user_id  recipe_id        date  rating  \\\n",
       "0    38094      40893  2003-02-17       4   \n",
       "1  1293707      40893  2011-12-21       5   \n",
       "2     8937      44394  2002-12-01       4   \n",
       "3   126440      85009  2010-02-27       5   \n",
       "4    57222      85009  2011-10-01       5   \n",
       "\n",
       "                                              review  \n",
       "0  Great with a salad. Cooked on top of stove for...  \n",
       "1  So simple, so delicious! Great for chilly fall...  \n",
       "2  This worked very well and is EASY.  I used not...  \n",
       "3  I made the Mexican topping and took it to bunk...  \n",
       "4  Made the cheddar bacon topping, adding a sprin...  "
      ]
     },
     "execution_count": 20,
     "metadata": {},
     "output_type": "execute_result"
    }
   ],
   "source": [
    "print(\"Length of raw_interactions\", len(raw_inter))\n",
    "raw_inter.head()"
   ]
  },
  {
   "cell_type": "code",
   "execution_count": 50,
   "id": "318b117b-a0f4-4f95-adec-3a2be316ea4d",
   "metadata": {},
   "outputs": [
    {
     "name": "stdout",
     "output_type": "stream",
     "text": [
      "Lenth of interactions_train 698901\n"
     ]
    },
    {
     "data": {
      "text/html": [
       "<div>\n",
       "<style scoped>\n",
       "    .dataframe tbody tr th:only-of-type {\n",
       "        vertical-align: middle;\n",
       "    }\n",
       "\n",
       "    .dataframe tbody tr th {\n",
       "        vertical-align: top;\n",
       "    }\n",
       "\n",
       "    .dataframe thead th {\n",
       "        text-align: right;\n",
       "    }\n",
       "</style>\n",
       "<table border=\"1\" class=\"dataframe\">\n",
       "  <thead>\n",
       "    <tr style=\"text-align: right;\">\n",
       "      <th></th>\n",
       "      <th>user_id</th>\n",
       "      <th>recipe_id</th>\n",
       "      <th>date</th>\n",
       "      <th>rating</th>\n",
       "      <th>u</th>\n",
       "      <th>i</th>\n",
       "    </tr>\n",
       "  </thead>\n",
       "  <tbody>\n",
       "    <tr>\n",
       "      <th>0</th>\n",
       "      <td>2046</td>\n",
       "      <td>4684</td>\n",
       "      <td>2000-02-25</td>\n",
       "      <td>5.0</td>\n",
       "      <td>22095</td>\n",
       "      <td>44367</td>\n",
       "    </tr>\n",
       "    <tr>\n",
       "      <th>1</th>\n",
       "      <td>2046</td>\n",
       "      <td>517</td>\n",
       "      <td>2000-02-25</td>\n",
       "      <td>5.0</td>\n",
       "      <td>22095</td>\n",
       "      <td>87844</td>\n",
       "    </tr>\n",
       "    <tr>\n",
       "      <th>2</th>\n",
       "      <td>1773</td>\n",
       "      <td>7435</td>\n",
       "      <td>2000-03-13</td>\n",
       "      <td>5.0</td>\n",
       "      <td>24732</td>\n",
       "      <td>138181</td>\n",
       "    </tr>\n",
       "    <tr>\n",
       "      <th>3</th>\n",
       "      <td>1773</td>\n",
       "      <td>278</td>\n",
       "      <td>2000-03-13</td>\n",
       "      <td>4.0</td>\n",
       "      <td>24732</td>\n",
       "      <td>93054</td>\n",
       "    </tr>\n",
       "    <tr>\n",
       "      <th>4</th>\n",
       "      <td>2046</td>\n",
       "      <td>3431</td>\n",
       "      <td>2000-04-07</td>\n",
       "      <td>5.0</td>\n",
       "      <td>22095</td>\n",
       "      <td>101723</td>\n",
       "    </tr>\n",
       "  </tbody>\n",
       "</table>\n",
       "</div>"
      ],
      "text/plain": [
       "   user_id  recipe_id        date  rating      u       i\n",
       "0     2046       4684  2000-02-25     5.0  22095   44367\n",
       "1     2046        517  2000-02-25     5.0  22095   87844\n",
       "2     1773       7435  2000-03-13     5.0  24732  138181\n",
       "3     1773        278  2000-03-13     4.0  24732   93054\n",
       "4     2046       3431  2000-04-07     5.0  22095  101723"
      ]
     },
     "execution_count": 50,
     "metadata": {},
     "output_type": "execute_result"
    }
   ],
   "source": [
    "print(\"Lenth of interactions_train\", len(inter_train))\n",
    "inter_train.head()"
   ]
  },
  {
   "cell_type": "markdown",
   "id": "e86a95ca-4df0-4599-8200-33c05de8a7a0",
   "metadata": {},
   "source": [
    "### Plotting distribution of the number of ratings per user"
   ]
  },
  {
   "cell_type": "code",
   "execution_count": 4,
   "id": "535b1237-6ca8-46f0-9645-c3eefad00942",
   "metadata": {},
   "outputs": [],
   "source": [
    "import matplotlib.pyplot as plt\n",
    "import ast\n",
    "plt.rcParams[\"figure.figsize\"] = (8,6)"
   ]
  },
  {
   "cell_type": "code",
   "execution_count": 12,
   "id": "2a323882-7daa-4533-b1d5-a5cbbfb3516a",
   "metadata": {},
   "outputs": [
    {
     "data": {
      "image/png": "[encoded data removed]",
      "text/plain": [
       "<Figure size 576x432 with 1 Axes>"
      ]
     },
     "metadata": {
      "needs_background": "light"
     },
     "output_type": "display_data"
    },
    {
     "data": {
      "text/plain": [
       "count    25076.000000\n",
       "mean        27.871311\n",
       "std        122.729039\n",
       "min          2.000000\n",
       "25%          3.000000\n",
       "50%          6.000000\n",
       "75%         16.000000\n",
       "max       6437.000000\n",
       "dtype: float64"
      ]
     },
     "execution_count": 12,
     "metadata": {},
     "output_type": "execute_result"
    }
   ],
   "source": [
    "n_ratings = np.asarray(pp_users['n_ratings'])\n",
    "plt.hist(n_ratings, bins = 100)\n",
    "plt.title(\"Distribution of Number of Ratings per User\")\n",
    "plt.xlabel(\"Number of Ratings\")\n",
    "plt.ylabel(\"Frequency\")\n",
    "plt.show()\n",
    "n_ratings = dd.from_array(n_ratings)\n",
    "n_ratings.describe().compute()"
   ]
  },
  {
   "cell_type": "markdown",
   "id": "583c7735-430f-46bc-a917-e3fd24885202",
   "metadata": {},
   "source": [
    "Data summary when throwing out users that rated less than or equal to 100 recipes and at least 4 recipes"
   ]
  },
  {
   "cell_type": "code",
   "execution_count": 52,
   "id": "3a1712cb-295f-4003-9680-f86b9e9a74bf",
   "metadata": {},
   "outputs": [
    {
     "data": {
      "image/png": "[encoded data removed]",
      "text/plain": [
       "<Figure size 576x432 with 1 Axes>"
      ]
     },
     "metadata": {
      "needs_background": "light"
     },
     "output_type": "display_data"
    },
    {
     "data": {
      "text/plain": [
       "count    16238.000000\n",
       "mean        16.711541\n",
       "std         17.771352\n",
       "min          4.000000\n",
       "25%          6.000000\n",
       "50%         10.000000\n",
       "75%         20.000000\n",
       "max        100.000000\n",
       "dtype: float64"
      ]
     },
     "execution_count": 52,
     "metadata": {},
     "output_type": "execute_result"
    }
   ],
   "source": [
    "pp_users_cut = pp_users[(pp_users['n_ratings'] <= 100) & (pp_users['n_ratings'] >= 4)]\n",
    "n_ratings = np.asarray(pp_users_cut['n_ratings'])\n",
    "plt.hist(n_ratings, bins = 100)\n",
    "plt.title(\"Distribution of Ratings per User Minus Outliers\")\n",
    "plt.xlabel(\"Number of Ratings\")\n",
    "plt.ylabel(\"Frequency\")\n",
    "plt.show()\n",
    "n_ratings = dd.from_array(n_ratings)\n",
    "n_ratings.describe().compute()"
   ]
  },
  {
   "cell_type": "markdown",
   "id": "4b781ef5-71f4-460a-9116-84c9e52a54a2",
   "metadata": {},
   "source": [
    "### Plotting distribution of the mean rating per user"
   ]
  },
  {
   "cell_type": "code",
   "execution_count": 13,
   "id": "f839ad3c-d679-49a0-894f-b3b0661fe7a7",
   "metadata": {},
   "outputs": [
    {
     "data": {
      "image/png": "[encoded data removed]",
      "text/plain": [
       "<Figure size 576x432 with 1 Axes>"
      ]
     },
     "metadata": {
      "needs_background": "light"
     },
     "output_type": "display_data"
    },
    {
     "data": {
      "text/plain": [
       "count    25076.000000\n",
       "mean         4.451941\n",
       "std          0.723825\n",
       "min          0.000000\n",
       "25%          4.250000\n",
       "50%          4.666667\n",
       "75%          5.000000\n",
       "max          5.000000\n",
       "dtype: float64"
      ]
     },
     "execution_count": 13,
     "metadata": {},
     "output_type": "execute_result"
    }
   ],
   "source": [
    "ratings = list(pp_users['ratings'])\n",
    "ratings = [ast.literal_eval(x) for x in ratings]\n",
    "rating_means = np.asarray([np.mean(x) for x in ratings])\n",
    "plt.hist(rating_means, bins = 50)\n",
    "plt.title(\"Distribution of Rating Mean Per User\")\n",
    "plt.xlabel(\"Rating Means\")\n",
    "plt.ylabel(\"Frequency\")\n",
    "plt.show()\n",
    "rating_means = dd.from_array(rating_means)\n",
    "rating_means.describe().compute()"
   ]
  },
  {
   "cell_type": "markdown",
   "id": "8b6db069-a96d-4cd3-814f-5d7ea1053c38",
   "metadata": {},
   "source": [
    "Data summary when throwing out users who had an average rating less than 2.5"
   ]
  },
  {
   "cell_type": "code",
   "execution_count": 36,
   "id": "c0cd15c7-eb62-4721-8d0e-d06361256c3f",
   "metadata": {},
   "outputs": [
    {
     "data": {
      "image/png": "[encoded data removed]",
      "text/plain": [
       "<Figure size 576x432 with 1 Axes>"
      ]
     },
     "metadata": {
      "needs_background": "light"
     },
     "output_type": "display_data"
    },
    {
     "data": {
      "text/plain": [
       "count    24589.000000\n",
       "mean         4.514601\n",
       "std          0.563590\n",
       "min          2.500000\n",
       "25%          4.285714\n",
       "50%          4.666667\n",
       "75%          5.000000\n",
       "max          5.000000\n",
       "dtype: float64"
      ]
     },
     "execution_count": 36,
     "metadata": {},
     "output_type": "execute_result"
    }
   ],
   "source": [
    "ratings = list(pp_users['ratings'])\n",
    "ratings = [ast.literal_eval(x) for x in ratings]\n",
    "rating_means = np.asarray([np.mean(x) for x in ratings])\n",
    "rating_means = rating_means[rating_means >= 2.5]\n",
    "plt.hist(rating_means, bins = 50)\n",
    "plt.title(\"Distribution of Rating Mean Per User\")\n",
    "plt.xlabel(\"Rating Means\")\n",
    "plt.ylabel(\"Frequency\")\n",
    "plt.show()\n",
    "rating_means = dd.from_array(rating_means)\n",
    "rating_means.describe().compute()"
   ]
  },
  {
   "cell_type": "markdown",
   "id": "90217c39-2767-4846-b92f-bfa85ccf2f60",
   "metadata": {},
   "source": [
    "### Plotting distribution of number ratings per recipe"
   ]
  },
  {
   "cell_type": "code",
   "execution_count": 26,
   "id": "e35e1d35-fba3-4ef1-98fb-4f5538f57761",
   "metadata": {},
   "outputs": [
    {
     "data": {
      "image/png": "[encoded data removed]",
      "text/plain": [
       "<Figure size 576x432 with 1 Axes>"
      ]
     },
     "metadata": {
      "needs_background": "light"
     },
     "output_type": "display_data"
    },
    {
     "data": {
      "text/plain": [
       "count    231637.000000\n",
       "mean          4.888541\n",
       "std          17.532481\n",
       "min           1.000000\n",
       "25%           1.000000\n",
       "50%           2.000000\n",
       "75%           4.000000\n",
       "max        1613.000000\n",
       "dtype: float64"
      ]
     },
     "execution_count": 26,
     "metadata": {},
     "output_type": "execute_result"
    }
   ],
   "source": [
    "recipe_rating_counts = raw_inter.groupby(by = ['recipe_id']).size().compute()\n",
    "plt.hist(recipe_rating_counts, bins = 100)\n",
    "plt.title(\"Distribution of Number of Ratings per Recipe\")\n",
    "plt.xlabel(\"Recipe Rating Counts\")\n",
    "plt.ylabel(\"Frequency\")\n",
    "plt.show()\n",
    "recipe_rating_counts = dd.from_array(recipe_rating_counts)\n",
    "recipe_rating_counts.describe().compute()"
   ]
  },
  {
   "cell_type": "markdown",
   "id": "686de325-b59e-4240-b0b8-55893807bbd6",
   "metadata": {},
   "source": [
    "Data summary when throwing out recipes with more than 40 ratings and at least 4 ratings per recipe"
   ]
  },
  {
   "cell_type": "code",
   "execution_count": 48,
   "id": "41e07633-150b-4146-a773-be11e6d5d60d",
   "metadata": {},
   "outputs": [
    {
     "data": {
      "image/png": "[encoded data removed]",
      "text/plain": [
       "<Figure size 576x432 with 1 Axes>"
      ]
     },
     "metadata": {
      "needs_background": "light"
     },
     "output_type": "display_data"
    },
    {
     "data": {
      "text/plain": [
       "count    137586.000000\n",
       "mean          5.716439\n",
       "std           6.309398\n",
       "min           2.000000\n",
       "25%           2.000000\n",
       "50%           3.000000\n",
       "75%           7.000000\n",
       "max          50.000000\n",
       "dtype: float64"
      ]
     },
     "execution_count": 48,
     "metadata": {},
     "output_type": "execute_result"
    }
   ],
   "source": [
    "recipe_rating_counts = raw_inter.groupby(by = ['recipe_id']).size().compute()\n",
    "recipe_rating_counts = recipe_rating_counts[(recipe_rating_counts <= 50) & (recipe_rating_counts >= 2)]\n",
    "plt.hist(recipe_rating_counts, bins = 100)\n",
    "plt.title(\"Distribution of Number of Ratings per Recipe\")\n",
    "plt.xlabel(\"Recipe Rating Counts\")\n",
    "plt.ylabel(\"Frequency\")\n",
    "plt.show()\n",
    "recipe_rating_counts = dd.from_array(recipe_rating_counts)\n",
    "recipe_rating_counts.describe().compute()"
   ]
  },
  {
   "cell_type": "markdown",
   "id": "7b64387d-2a19-42c5-8436-21546fdf4ff1",
   "metadata": {},
   "source": [
    "### Plotting distribution of mean ratings per recipe"
   ]
  },
  {
   "cell_type": "code",
   "execution_count": 22,
   "id": "9ab718c8-f0c4-4d3f-bd4b-4b25ef3bfffd",
   "metadata": {},
   "outputs": [
    {
     "data": {
      "image/png": "[encoded data removed]",
      "text/plain": [
       "<Figure size 576x432 with 1 Axes>"
      ]
     },
     "metadata": {
      "needs_background": "light"
     },
     "output_type": "display_data"
    },
    {
     "data": {
      "text/plain": [
       "count    231637.000000\n",
       "mean          4.346246\n",
       "std           0.990806\n",
       "min           0.000000\n",
       "25%           4.000000\n",
       "50%           4.833333\n",
       "75%           5.000000\n",
       "max           5.000000\n",
       "dtype: float64"
      ]
     },
     "execution_count": 22,
     "metadata": {},
     "output_type": "execute_result"
    }
   ],
   "source": [
    "recipe_rating_means = raw_inter.groupby(by = ['recipe_id'])['rating'].mean().compute()\n",
    "plt.hist(recipe_rating_means, bins = 100)\n",
    "plt.title(\"Distribution of Mean of Ratings per Recipe\")\n",
    "plt.xlabel(\"Recipe Mean Ratings\")\n",
    "plt.ylabel(\"Frequency\")\n",
    "plt.show()\n",
    "recipe_rating_means = dd.from_array(recipe_rating_means)\n",
    "recipe_rating_means.describe().compute()"
   ]
  },
  {
   "cell_type": "markdown",
   "id": "45f219c2-ad69-461a-b63c-eb706c73c56a",
   "metadata": {},
   "source": [
    "Data summary when throwing out recipes that have a mean rating less than 2.5"
   ]
  },
  {
   "cell_type": "code",
   "execution_count": 58,
   "id": "8ea8e1f3-781e-4e71-85d8-d76f3504b1d7",
   "metadata": {},
   "outputs": [
    {
     "data": {
      "image/png": "[encoded data removed]",
      "text/plain": [
       "<Figure size 576x432 with 1 Axes>"
      ]
     },
     "metadata": {
      "needs_background": "light"
     },
     "output_type": "display_data"
    },
    {
     "data": {
      "text/plain": [
       "count    220934.000000\n",
       "mean          4.514082\n",
       "std           0.616168\n",
       "min           2.500000\n",
       "25%           4.000000\n",
       "50%           5.000000\n",
       "75%           5.000000\n",
       "max           5.000000\n",
       "dtype: float64"
      ]
     },
     "execution_count": 58,
     "metadata": {},
     "output_type": "execute_result"
    }
   ],
   "source": [
    "recipe_rating_means = raw_inter.groupby(by = ['recipe_id'])['rating'].mean().compute()\n",
    "recipe_rating_means = recipe_rating_means[recipe_rating_means >= 2.5]\n",
    "plt.hist(recipe_rating_means, bins = 100)\n",
    "plt.title(\"Distribution of Mean of Ratings per Recipe\")\n",
    "plt.xlabel(\"Recipe Mean Ratings\")\n",
    "plt.ylabel(\"Frequency\")\n",
    "plt.show()\n",
    "recipe_rating_means = dd.from_array(recipe_rating_means)\n",
    "recipe_rating_means.describe().compute()"
   ]
  },
  {
   "cell_type": "markdown",
   "id": "81667932-d7b5-43b2-911f-a479ed0b04d1",
   "metadata": {},
   "source": [
    "## Some EDA of the interactions_train dataset: Distribution of ratings per user"
   ]
  },
  {
   "cell_type": "code",
   "execution_count": 33,
   "id": "a98ee240-acfb-402b-84d7-464f66848f07",
   "metadata": {},
   "outputs": [
    {
     "name": "stdout",
     "output_type": "stream",
     "text": [
      "The total amount of user-recipe ratings in train 698901\n",
      "The total amount of users in the user-recipe ratings train 25076\n",
      "The total amount of recipes in the user-recipe ratings train 160901\n"
     ]
    }
   ],
   "source": [
    "print(\"The total amount of user-recipe ratings in train\", len(inter_train))\n",
    "print(\"The total amount of users in the user-recipe ratings train\", len(inter_train.drop_duplicates(subset = ['user_id'])))\n",
    "print(\"The total amount of recipes in the user-recipe ratings train\", len(inter_train.drop_duplicates(subset = ['recipe_id'])))"
   ]
  },
  {
   "cell_type": "code",
   "execution_count": 5,
   "id": "f579ed74-b8cd-47e1-8e4d-c6836fbd0ea7",
   "metadata": {},
   "outputs": [
    {
     "data": {
      "image/png": "[encoded data removed]",
      "text/plain": [
       "<Figure size 576x432 with 1 Axes>"
      ]
     },
     "metadata": {
      "needs_background": "light"
     },
     "output_type": "display_data"
    },
    {
     "data": {
      "text/plain": [
       "count    25076.000000\n",
       "mean        27.871311\n",
       "std        122.729039\n",
       "min          2.000000\n",
       "25%          3.000000\n",
       "50%          6.000000\n",
       "75%         16.000000\n",
       "max       6437.000000\n",
       "dtype: float64"
      ]
     },
     "execution_count": 5,
     "metadata": {},
     "output_type": "execute_result"
    }
   ],
   "source": [
    "user_rating_counts = inter_train.groupby(by = ['user_id']).size().compute()\n",
    "plt.hist(user_rating_counts, bins = 100)\n",
    "plt.title(\"Distribution of Number of Ratings per User: Train Data\")\n",
    "plt.xlabel(\"Recipe Rating Counts\")\n",
    "plt.ylabel(\"Frequency\")\n",
    "plt.show()\n",
    "user_rating_counts = dd.from_array(user_rating_counts)\n",
    "user_rating_counts.describe().compute()"
   ]
  },
  {
   "cell_type": "markdown",
   "id": "491d90ab-2c7e-482e-91be-e03a028882bd",
   "metadata": {},
   "source": [
    "The interactions_train dataset is the same as the pp_uses, but the pp_users is just more organized"
   ]
  },
  {
   "cell_type": "code",
   "execution_count": 35,
   "id": "ef53567b-a985-4acc-b65d-73216684597a",
   "metadata": {},
   "outputs": [
    {
     "data": {
      "image/png": "[encoded data removed]",
      "text/plain": [
       "<Figure size 576x432 with 1 Axes>"
      ]
     },
     "metadata": {
      "needs_background": "light"
     },
     "output_type": "display_data"
    },
    {
     "data": {
      "text/plain": [
       "count    160901.000000\n",
       "mean          4.343671\n",
       "std          13.421461\n",
       "min           1.000000\n",
       "25%           1.000000\n",
       "50%           2.000000\n",
       "75%           6.000000\n",
       "max        1091.000000\n",
       "dtype: float64"
      ]
     },
     "execution_count": 35,
     "metadata": {},
     "output_type": "execute_result"
    }
   ],
   "source": [
    "recipe_rate_counts = inter_train.groupby(by = ['recipe_id']).size().compute()\n",
    "plt.hist(recipe_rate_counts, bins = 100)\n",
    "plt.title(\"Distribution of Number of Ratings per Recipe: Train Data\")\n",
    "plt.xlabel(\"Recipe Rating Counts\")\n",
    "plt.ylabel(\"Frequency\")\n",
    "plt.show()\n",
    "recipe_rate_counts = dd.from_array(recipe_rate_counts)\n",
    "recipe_rate_counts.describe().compute()"
   ]
  },
  {
   "cell_type": "code",
   "execution_count": 42,
   "id": "b4473136-56f9-476a-a5ae-5d5883927fd5",
   "metadata": {},
   "outputs": [
    {
     "data": {
      "text/plain": [
       "count    698901.000000\n",
       "mean          4.574090\n",
       "std           0.959022\n",
       "min           0.000000\n",
       "25%           5.000000\n",
       "50%           5.000000\n",
       "75%           5.000000\n",
       "max           5.000000\n",
       "dtype: float64"
      ]
     },
     "execution_count": 42,
     "metadata": {},
     "output_type": "execute_result"
    }
   ],
   "source": [
    "train_ratings = np.asarray(inter_train['rating'])\n",
    "recipe_ratings_train = dd.from_array(train_ratings)\n",
    "recipe_ratings_train.describe().compute()"
   ]
  },
  {
   "cell_type": "markdown",
   "id": "23196f4a-a3b6-4dd1-a5fb-79d272aff0cd",
   "metadata": {},
   "source": [
    "### Exploring how much of the raw_interactions dataset gets preserved when I throw out what I want to throw out"
   ]
  },
  {
   "cell_type": "code",
   "execution_count": 44,
   "id": "4fabc9ab-7918-4531-9a7e-b6129d8e1f11",
   "metadata": {},
   "outputs": [
    {
     "data": {
      "text/plain": [
       "count    1.071520e+06\n",
       "mean     4.661499e+00\n",
       "std      7.230534e-01\n",
       "min      1.000000e+00\n",
       "25%      5.000000e+00\n",
       "50%      5.000000e+00\n",
       "75%      5.000000e+00\n",
       "max      5.000000e+00\n",
       "dtype: float64"
      ]
     },
     "execution_count": 44,
     "metadata": {},
     "output_type": "execute_result"
    }
   ],
   "source": [
    "raw_ratings = np.asarray(raw_inter['rating'])\n",
    "raw_ratings = dd.from_array(raw_ratings)\n",
    "raw_ratings.describe().compute()"
   ]
  },
  {
   "cell_type": "markdown",
   "id": "30dce77c-4936-420d-876c-008abf3e263f",
   "metadata": {},
   "source": [
    "What I will throw out ...\n",
    "\n",
    "(1) Users that rated more than 100 recipes and less than 4\n",
    "\n",
    "(2) Users that had an average rating of less than 2.5\n",
    "\n",
    "(3) Recipes that had greater the 50 ratings and less than 2\n",
    "\n",
    "(4) Recipes that had an average rating less than 2.5"
   ]
  },
  {
   "cell_type": "code",
   "execution_count": 45,
   "id": "3b53c268-616d-4f83-a03f-0b3d049377c1",
   "metadata": {},
   "outputs": [],
   "source": [
    "raw_inter = raw_inter[(raw_inter['rating'] != 0)]\n",
    "user_rating_counts = raw_inter.groupby(by = ['user_id']).size().compute()\n",
    "user_rating_means = raw_inter.groupby(by = ['user_id'])['rating'].mean().compute()\n",
    "recipe_rating_counts = raw_inter.groupby(by = ['recipe_id']).size().compute()\n",
    "recipe_rating_means = raw_inter.groupby(by = ['recipe_id'])['rating'].mean().compute()"
   ]
  },
  {
   "cell_type": "markdown",
   "id": "daae58ec-e386-401a-8aaf-21340f15c3e1",
   "metadata": {},
   "source": [
    "First looking at the total amount of users, total amount of recipes, and total interactions in the user-recipe rating dataset"
   ]
  },
  {
   "cell_type": "code",
   "execution_count": 46,
   "id": "4cf75b42-98c6-40ec-a00c-460228657aa5",
   "metadata": {},
   "outputs": [
    {
     "name": "stdout",
     "output_type": "stream",
     "text": [
      "The total amount of user-recipe ratings (no zeros) 1071520\n",
      "The total amount of users in the user-recipe ratings 196098\n",
      "The total amount of recipes in the user-recipe ratings 226590\n"
     ]
    }
   ],
   "source": [
    "print(\"The total amount of user-recipe ratings (no zeros)\", len(raw_inter))\n",
    "print(\"The total amount of users in the user-recipe ratings\", len(raw_inter.drop_duplicates(subset = ['user_id'])))\n",
    "print(\"The total amount of recipes in the user-recipe ratings\", len(raw_inter.drop_duplicates(subset = ['recipe_id'])))"
   ]
  },
  {
   "cell_type": "markdown",
   "id": "0ab16edd-32ce-450f-aad8-59b22021df96",
   "metadata": {},
   "source": [
    "Examining how much the raw interactions dataset get preserved when throwing out data"
   ]
  },
  {
   "cell_type": "code",
   "execution_count": 39,
   "id": "47c64558-a616-4ec8-88ce-a863d9349c46",
   "metadata": {},
   "outputs": [
    {
     "name": "stdout",
     "output_type": "stream",
     "text": [
      "The total amount of clean user-recipe ratings 233683\n",
      "The total amount of clean users in the user-recipe ratings 25205\n",
      "The total amount of clean recipes in the user-recipe ratings 84268\n"
     ]
    }
   ],
   "source": [
    "good_users1 = user_rating_counts[(user_rating_counts <= 100) & (user_rating_counts >= 4)]\n",
    "good_users2 = user_rating_means[user_rating_means >= 2.5]\n",
    "good_users = good_users1.index.intersection(good_users2.index)\n",
    "good_user_ids = [user_id for user_id in good_users]\n",
    "\n",
    "good_recipes1 = recipe_rating_counts[(recipe_rating_counts <= 50) & (recipe_rating_counts >= 2)]\n",
    "good_recipes2 = recipe_rating_means[recipe_rating_means >= 2.5]\n",
    "good_recipes = good_recipes1.index.intersection(good_recipes2.index)\n",
    "good_recipe_ids = [recipe_id for recipe_id in good_recipes]\n",
    "\n",
    "raw_inter_cleaned = raw_inter[(raw_inter['user_id'].isin(good_user_ids)) & (raw_inter['recipe_id'].isin(good_recipe_ids))]\n",
    "\n",
    "print(\"The total amount of clean user-recipe ratings\", len(raw_inter_cleaned))\n",
    "print(\"The total amount of clean users in the user-recipe ratings\", len(raw_inter_cleaned.drop_duplicates(subset = ['user_id'])))\n",
    "print(\"The total amount of clean recipes in the user-recipe ratings\", len(raw_inter_cleaned.drop_duplicates(subset = ['recipe_id'])))"
   ]
  },
  {
   "cell_type": "code",
   "execution_count": 47,
   "id": "41165c05-590c-4d3e-bd26-72bc25aa0a10",
   "metadata": {},
   "outputs": [
    {
     "data": {
      "text/html": [
       "<div>\n",
       "<style scoped>\n",
       "    .dataframe tbody tr th:only-of-type {\n",
       "        vertical-align: middle;\n",
       "    }\n",
       "\n",
       "    .dataframe tbody tr th {\n",
       "        vertical-align: top;\n",
       "    }\n",
       "\n",
       "    .dataframe thead th {\n",
       "        text-align: right;\n",
       "    }\n",
       "</style>\n",
       "<table border=\"1\" class=\"dataframe\">\n",
       "  <thead>\n",
       "    <tr style=\"text-align: right;\">\n",
       "      <th></th>\n",
       "      <th>user_id</th>\n",
       "      <th>recipe_id</th>\n",
       "      <th>date</th>\n",
       "      <th>rating</th>\n",
       "      <th>review</th>\n",
       "    </tr>\n",
       "  </thead>\n",
       "  <tbody>\n",
       "    <tr>\n",
       "      <th>0</th>\n",
       "      <td>38094</td>\n",
       "      <td>40893</td>\n",
       "      <td>2003-02-17</td>\n",
       "      <td>4</td>\n",
       "      <td>Great with a salad. Cooked on top of stove for...</td>\n",
       "    </tr>\n",
       "    <tr>\n",
       "      <th>1</th>\n",
       "      <td>1293707</td>\n",
       "      <td>40893</td>\n",
       "      <td>2011-12-21</td>\n",
       "      <td>5</td>\n",
       "      <td>So simple, so delicious! Great for chilly fall...</td>\n",
       "    </tr>\n",
       "    <tr>\n",
       "      <th>11</th>\n",
       "      <td>190375</td>\n",
       "      <td>134728</td>\n",
       "      <td>2007-03-09</td>\n",
       "      <td>5</td>\n",
       "      <td>These taste absolutely wonderful!!  My son-in-...</td>\n",
       "    </tr>\n",
       "    <tr>\n",
       "      <th>14</th>\n",
       "      <td>1171894</td>\n",
       "      <td>134728</td>\n",
       "      <td>2009-04-21</td>\n",
       "      <td>5</td>\n",
       "      <td>MMMMM! This is so good! I actually soaked the ...</td>\n",
       "    </tr>\n",
       "    <tr>\n",
       "      <th>18</th>\n",
       "      <td>217118</td>\n",
       "      <td>200236</td>\n",
       "      <td>2008-04-18</td>\n",
       "      <td>5</td>\n",
       "      <td>This was a lovely Morrocan style dish. I halve...</td>\n",
       "    </tr>\n",
       "  </tbody>\n",
       "</table>\n",
       "</div>"
      ],
      "text/plain": [
       "    user_id  recipe_id        date  rating  \\\n",
       "0     38094      40893  2003-02-17       4   \n",
       "1   1293707      40893  2011-12-21       5   \n",
       "11   190375     134728  2007-03-09       5   \n",
       "14  1171894     134728  2009-04-21       5   \n",
       "18   217118     200236  2008-04-18       5   \n",
       "\n",
       "                                               review  \n",
       "0   Great with a salad. Cooked on top of stove for...  \n",
       "1   So simple, so delicious! Great for chilly fall...  \n",
       "11  These taste absolutely wonderful!!  My son-in-...  \n",
       "14  MMMMM! This is so good! I actually soaked the ...  \n",
       "18  This was a lovely Morrocan style dish. I halve...  "
      ]
     },
     "execution_count": 47,
     "metadata": {},
     "output_type": "execute_result"
    }
   ],
   "source": [
    "raw_inter_cleaned.head()"
   ]
  },
  {
   "cell_type": "code",
   "execution_count": null,
   "id": "c34adf02-4497-4eb2-9f4d-19fd744d8d2b",
   "metadata": {},
   "outputs": [],
   "source": []
  }
 ],
 "metadata": {
  "kernelspec": {
   "display_name": "Python 3 (ipykernel)",
   "language": "python",
   "name": "python3"
  },
  "language_info": {
   "codemirror_mode": {
    "name": "ipython",
    "version": 3
   },
   "file_extension": ".py",
   "mimetype": "text/x-python",
   "name": "python",
   "nbconvert_exporter": "python",
   "pygments_lexer": "ipython3",
   "version": "3.8.10"
  }
 },
 "nbformat": 4,
 "nbformat_minor": 5
}
