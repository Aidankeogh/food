{
 "cells": [
  {
   "cell_type": "code",
   "execution_count": 1,
   "id": "1302978c-14ab-4b2c-909e-26dacfd7980a",
   "metadata": {},
   "outputs": [],
   "source": [
    "import dask\n",
    "import dask.array as da\n",
    "import dask.dataframe as dd\n",
    "import sparse\n",
    "import dask_ml\n",
    "import time\n",
    "\n",
    "import numpy as np\n",
    "import pandas as pd"
   ]
  },
  {
   "cell_type": "code",
   "execution_count": 2,
   "id": "7f9fa597-4578-4fb6-9d8f-38df6d5dbd3a",
   "metadata": {},
   "outputs": [
    {
     "name": "stdout",
     "output_type": "stream",
     "text": [
      "628841 70060\n"
     ]
    }
   ],
   "source": [
    "seed = 25\n",
    "ddf = dd.read_csv(\"data/interactions_train.csv\")\n",
    "train, val = dask_ml.model_selection.train_test_split(\n",
    "    ddf, \n",
    "    test_size=0.1, \n",
    "    train_size=0.9,\n",
    "    shuffle=True,\n",
    "    random_state=seed)\n",
    "print(len(train), len(val))"
   ]
  },
  {
   "cell_type": "code",
   "execution_count": 3,
   "id": "59926184-328f-4acf-b014-ac45cde43c25",
   "metadata": {},
   "outputs": [
    {
     "name": "stdout",
     "output_type": "stream",
     "text": [
      "4.573866843923981 0.95953785596336\n"
     ]
    }
   ],
   "source": [
    "rating_avg = train.rating.mean().compute()\n",
    "rating_std = train.rating.std().compute()\n",
    "print(rating_avg, rating_std)"
   ]
  },
  {
   "cell_type": "code",
   "execution_count": 4,
   "id": "0d09520f-c644-4dc8-ad69-51a41bbd6796",
   "metadata": {},
   "outputs": [
    {
     "data": {
      "text/plain": [
       "0.9108435745491105"
      ]
     },
     "execution_count": 4,
     "metadata": {},
     "output_type": "execute_result"
    }
   ],
   "source": [
    "# Baseline 1: Predict global avg rating\n",
    "val[\"prediction\"] = rating_avg\n",
    "dask_ml.metrics.mean_squared_error(val.rating.to_dask_array(), val.prediction.to_dask_array())"
   ]
  },
  {
   "cell_type": "code",
   "execution_count": 5,
   "id": "7bc2376d-39a5-4f0f-9385-2fe5b56ceb22",
   "metadata": {},
   "outputs": [
    {
     "name": "stdout",
     "output_type": "stream",
     "text": [
      "        user_id  recipe_id        date  rating      u       i  prediction\n",
      "403988   518302      14471  2009-01-25     4.0  15755   78580    3.750000\n",
      "217140   226316      35132  2007-05-16     5.0  13499  115502    4.962963\n",
      "104255   134011     135101  2005-09-18     4.0    135   85305    4.792899\n",
      "189103   140008      88828  2007-01-24     4.0   1557   19016    4.166667\n",
      "334179   528468      15301  2008-06-11     5.0   1564  151452    4.243590\n"
     ]
    },
    {
     "data": {
      "text/plain": [
       "0.8617040612395044"
      ]
     },
     "execution_count": 5,
     "metadata": {},
     "output_type": "execute_result"
    }
   ],
   "source": [
    "# Baseline 2: Predict using avg rating of each user\n",
    "user_avgs = train.groupby(\"user_id\").rating.mean().compute()\n",
    "val[\"prediction\"] = val.user_id.apply(\n",
    "    lambda x: user_avgs[x] if x in user_avgs else rating_avg, \n",
    "    meta=('user_id', 'int64')\n",
    ")\n",
    "print(val.head())\n",
    "dask_ml.metrics.mean_squared_error(val.rating.to_dask_array(), val.prediction.to_dask_array())"
   ]
  },
  {
   "cell_type": "code",
   "execution_count": 6,
   "id": "76555267-4eca-4f32-879e-a63a8c932683",
   "metadata": {},
   "outputs": [
    {
     "name": "stdout",
     "output_type": "stream",
     "text": [
      "        err    k\n",
      "0  0.825969  6.0\n"
     ]
    }
   ],
   "source": [
    "# Baseline 3: Predict using avg rating of each user, bayesian style\n",
    "import pandas as pd\n",
    "bayesian_df = pd.DataFrame()\n",
    "user_avgs = train.groupby(\"user_id\").rating.mean().compute()\n",
    "user_counts = train.groupby(\"user_id\").rating.count().compute()\n",
    "k = 6\n",
    "val[\"personal_rating\"] = val.user_id.apply(\n",
    "    lambda x: (rating_avg * k + user_avgs[x] * user_counts[x]) / (user_counts[x] + k) if x in user_avgs else rating_avg, \n",
    "    meta=('personal_rating', 'float32')\n",
    ")\n",
    "err = dask_ml.metrics.mean_squared_error(val.rating.to_dask_array(), val.personal_rating.to_dask_array())\n",
    "bayesian_df = bayesian_df.append({\"k\": k, \"err\": err}, ignore_index=True)\n",
    "print(bayesian_df)"
   ]
  },
  {
   "cell_type": "code",
   "execution_count": 7,
   "id": "46cc62e9-fa0e-400d-a5d7-f75cf227a486",
   "metadata": {},
   "outputs": [
    {
     "name": "stdout",
     "output_type": "stream",
     "text": [
      "Generating indices\n",
      "Creating sparse matrix 10.074769973754883\n",
      "Generating dot products 16.371269941329956\n",
      "Raw similarities computed 19.204688787460327\n",
      "Similarities normalized! 23.657227039337158\n",
      "Similarities finished! 35.76487874984741\n"
     ]
    }
   ],
   "source": [
    "train[\"personal_rating\"] = train.user_id.apply(\n",
    "    lambda x: (rating_avg * k + user_avgs[x] * user_counts[x]) / (user_counts[x] + k) if x in user_avgs else rating_avg, \n",
    "    meta=('personal_rating', 'float32')\n",
    ")\n",
    "train[\"person_normalized_rating\"] = train.rating - train.personal_rating\n",
    "\n",
    "class SimilarityScorer:\n",
    "    def __init__(self, interactions):\n",
    "        start = time.time()\n",
    "        print(\"Generating indices\")\n",
    "        user_codes, self.user_idx_to_id = pd.factorize(interactions.user_id.compute())\n",
    "        recipe_codes, self.recipe_idx_to_id = pd.factorize(interactions.recipe_id.compute())\n",
    "        self.user_id_to_idx = {user: idx for idx, user in enumerate(self.user_idx_to_id)}\n",
    "        self.recipe_id_to_idx = {recipe: idx for idx, recipe in enumerate(self.recipe_idx_to_id)}\n",
    "        \n",
    "        print(\"Creating sparse matrix\", time.time() - start)\n",
    "        s = sparse.COO(\n",
    "            [user_codes, recipe_codes],\n",
    "            interactions.person_normalized_rating.compute(),\n",
    "            shape=(len(self.user_idx_to_id), len(self.recipe_idx_to_id)),\n",
    "            fill_value=0\n",
    "        )\n",
    "\n",
    "        self.sparse_mat = da.from_array(s, chunks=(5000, 5000))\n",
    "        print(\"Generating dot products\", time.time() - start)\n",
    "\n",
    "        self.dot_product_similarities = self.sparse_mat @ self.sparse_mat.T\n",
    "        self.dot_product_similarities.compute()\n",
    "        print(\"Raw similarities computed\", time.time() - start)\n",
    "        \n",
    "        sims_eps = self.dot_product_similarities.sum(axis=1) + 1e-20\n",
    "        self.similarities_normalized = (self.dot_product_similarities / sims_eps.reshape(-1, 1))\n",
    "        self.similarities_normalized.compute()\n",
    "        print(\"Similarities normalized!\", time.time() - start)\n",
    "        \n",
    "        self.similarities_normalized = self.similarities_normalized.map_blocks(lambda x: x.todense(), dtype=np.ndarray).compute()\n",
    "        print(\"Similarities finished!\", time.time() - start)\n",
    "\n",
    "    def predict_topk_for_user(self, user_id, k):\n",
    "        user_idx = self.user_id_to_idx[user_id]\n",
    "        similarities_norm = self.similarities_normalized[user_idx]\n",
    "        recs_raw = similarities_norm.reshape(1, -1) @ self.sparse_mat\n",
    "        recs = recs_raw.map_blocks(lambda x: x.todense(), dtype=np.ndarray)\n",
    "        rec_values = recs.topk(k).compute()\n",
    "        rec_idxs = recs.argtopk(k).compute()\n",
    "        recs_ids = [self.recipe_idx_to_id[idx] for idx in rec_idxs]\n",
    "        return recs_ids, rec_values\n",
    "    \n",
    "    def predict_pair(self, user_id, recipe_id):\n",
    "        if recipe_id not in self.recipe_id_to_idx or user_id not in self.user_id_to_idx:\n",
    "            return 0\n",
    "        user_idx = self.user_id_to_idx[user_id]\n",
    "        recipe_idx = self.recipe_id_to_idx[recipe_id]\n",
    "        similarities_norm = self.similarities_normalized[user_idx]\n",
    "        predicted_score = similarities_norm @ self.sparse_mat[:, recipe_idx]\n",
    "        return predicted_score.compute()\n",
    "\n",
    "scorer = SimilarityScorer(train)"
   ]
  },
  {
   "cell_type": "code",
   "execution_count": 10,
   "id": "ffc1129f-8239-4017-9080-a33f547cf79e",
   "metadata": {},
   "outputs": [
    {
     "name": "stdout",
     "output_type": "stream",
     "text": [
      "0.008305788040161133\n"
     ]
    }
   ],
   "source": [
    "start = time.time()\n",
    "all_predictions = scorer.similarities_normalized[1] @ scorer.sparse_mat[:, 2]\n",
    "print(time.time() - start)"
   ]
  },
  {
   "cell_type": "code",
   "execution_count": 12,
   "id": "62ffd545-14c8-4941-98db-0b9c13a9d08e",
   "metadata": {},
   "outputs": [
    {
     "ename": "KeyboardInterrupt",
     "evalue": "",
     "output_type": "error",
     "traceback": [
      "\u001b[0;31m---------------------------------------------------------------------------\u001b[0m",
      "\u001b[0;31mKeyboardInterrupt\u001b[0m                         Traceback (most recent call last)",
      "\u001b[0;32m<ipython-input-12-7d7ff3c3650b>\u001b[0m in \u001b[0;36m<module>\u001b[0;34m\u001b[0m\n\u001b[1;32m      3\u001b[0m \u001b[0;32mfor\u001b[0m \u001b[0m_\u001b[0m\u001b[0;34m,\u001b[0m \u001b[0mrow\u001b[0m \u001b[0;32min\u001b[0m \u001b[0mval\u001b[0m\u001b[0;34m.\u001b[0m\u001b[0miterrows\u001b[0m\u001b[0;34m(\u001b[0m\u001b[0;34m)\u001b[0m\u001b[0;34m:\u001b[0m\u001b[0;34m\u001b[0m\u001b[0;34m\u001b[0m\u001b[0m\n\u001b[1;32m      4\u001b[0m     \u001b[0mi\u001b[0m \u001b[0;34m+=\u001b[0m \u001b[0;36m1\u001b[0m\u001b[0;34m\u001b[0m\u001b[0;34m\u001b[0m\u001b[0m\n\u001b[0;32m----> 5\u001b[0;31m     \u001b[0mscore\u001b[0m \u001b[0;34m=\u001b[0m \u001b[0mscorer\u001b[0m\u001b[0;34m.\u001b[0m\u001b[0mpredict_pair\u001b[0m\u001b[0;34m(\u001b[0m\u001b[0mrow\u001b[0m\u001b[0;34m.\u001b[0m\u001b[0muser_id\u001b[0m\u001b[0;34m,\u001b[0m \u001b[0mrow\u001b[0m\u001b[0;34m.\u001b[0m\u001b[0mrecipe_id\u001b[0m\u001b[0;34m)\u001b[0m\u001b[0;34m\u001b[0m\u001b[0;34m\u001b[0m\u001b[0m\n\u001b[0m\u001b[1;32m      6\u001b[0m     \u001b[0;32mif\u001b[0m \u001b[0mi\u001b[0m \u001b[0;34m%\u001b[0m \u001b[0;36m100\u001b[0m \u001b[0;34m==\u001b[0m \u001b[0;36m0\u001b[0m\u001b[0;34m:\u001b[0m\u001b[0;34m\u001b[0m\u001b[0;34m\u001b[0m\u001b[0m\n\u001b[1;32m      7\u001b[0m         \u001b[0mprint\u001b[0m\u001b[0;34m(\u001b[0m\u001b[0mi\u001b[0m \u001b[0;34m/\u001b[0m \u001b[0mlen\u001b[0m\u001b[0;34m(\u001b[0m\u001b[0mval\u001b[0m\u001b[0;34m)\u001b[0m\u001b[0;34m,\u001b[0m \u001b[0mtime\u001b[0m\u001b[0;34m.\u001b[0m\u001b[0mtime\u001b[0m\u001b[0;34m(\u001b[0m\u001b[0;34m)\u001b[0m \u001b[0;34m-\u001b[0m \u001b[0mstart\u001b[0m\u001b[0;34m,\u001b[0m \u001b[0mscore\u001b[0m\u001b[0;34m)\u001b[0m\u001b[0;34m\u001b[0m\u001b[0;34m\u001b[0m\u001b[0m\n",
      "\u001b[0;32m<ipython-input-7-a46c35ce961a>\u001b[0m in \u001b[0;36mpredict_pair\u001b[0;34m(self, user_id, recipe_id)\u001b[0m\n\u001b[1;32m     54\u001b[0m         \u001b[0msimilarities_norm\u001b[0m \u001b[0;34m=\u001b[0m \u001b[0mself\u001b[0m\u001b[0;34m.\u001b[0m\u001b[0msimilarities_normalized\u001b[0m\u001b[0;34m[\u001b[0m\u001b[0muser_idx\u001b[0m\u001b[0;34m]\u001b[0m\u001b[0;34m\u001b[0m\u001b[0;34m\u001b[0m\u001b[0m\n\u001b[1;32m     55\u001b[0m         \u001b[0mpredicted_score\u001b[0m \u001b[0;34m=\u001b[0m \u001b[0msimilarities_norm\u001b[0m \u001b[0;34m@\u001b[0m \u001b[0mself\u001b[0m\u001b[0;34m.\u001b[0m\u001b[0msparse_mat\u001b[0m\u001b[0;34m[\u001b[0m\u001b[0;34m:\u001b[0m\u001b[0;34m,\u001b[0m \u001b[0mrecipe_idx\u001b[0m\u001b[0;34m]\u001b[0m\u001b[0;34m\u001b[0m\u001b[0;34m\u001b[0m\u001b[0m\n\u001b[0;32m---> 56\u001b[0;31m         \u001b[0;32mreturn\u001b[0m \u001b[0mpredicted_score\u001b[0m\u001b[0;34m.\u001b[0m\u001b[0mcompute\u001b[0m\u001b[0;34m(\u001b[0m\u001b[0;34m)\u001b[0m\u001b[0;34m\u001b[0m\u001b[0;34m\u001b[0m\u001b[0m\n\u001b[0m\u001b[1;32m     57\u001b[0m \u001b[0;34m\u001b[0m\u001b[0m\n\u001b[1;32m     58\u001b[0m \u001b[0mscorer\u001b[0m \u001b[0;34m=\u001b[0m \u001b[0mSimilarityScorer\u001b[0m\u001b[0;34m(\u001b[0m\u001b[0mtrain\u001b[0m\u001b[0;34m)\u001b[0m\u001b[0;34m\u001b[0m\u001b[0;34m\u001b[0m\u001b[0m\n",
      "\u001b[0;32m~/opt/anaconda3/lib/python3.8/site-packages/dask/base.py\u001b[0m in \u001b[0;36mcompute\u001b[0;34m(self, **kwargs)\u001b[0m\n\u001b[1;32m    165\u001b[0m         \u001b[0mdask\u001b[0m\u001b[0;34m.\u001b[0m\u001b[0mbase\u001b[0m\u001b[0;34m.\u001b[0m\u001b[0mcompute\u001b[0m\u001b[0;34m\u001b[0m\u001b[0;34m\u001b[0m\u001b[0m\n\u001b[1;32m    166\u001b[0m         \"\"\"\n\u001b[0;32m--> 167\u001b[0;31m         \u001b[0;34m(\u001b[0m\u001b[0mresult\u001b[0m\u001b[0;34m,\u001b[0m\u001b[0;34m)\u001b[0m \u001b[0;34m=\u001b[0m \u001b[0mcompute\u001b[0m\u001b[0;34m(\u001b[0m\u001b[0mself\u001b[0m\u001b[0;34m,\u001b[0m \u001b[0mtraverse\u001b[0m\u001b[0;34m=\u001b[0m\u001b[0;32mFalse\u001b[0m\u001b[0;34m,\u001b[0m \u001b[0;34m**\u001b[0m\u001b[0mkwargs\u001b[0m\u001b[0;34m)\u001b[0m\u001b[0;34m\u001b[0m\u001b[0;34m\u001b[0m\u001b[0m\n\u001b[0m\u001b[1;32m    168\u001b[0m         \u001b[0;32mreturn\u001b[0m \u001b[0mresult\u001b[0m\u001b[0;34m\u001b[0m\u001b[0;34m\u001b[0m\u001b[0m\n\u001b[1;32m    169\u001b[0m \u001b[0;34m\u001b[0m\u001b[0m\n",
      "\u001b[0;32m~/opt/anaconda3/lib/python3.8/site-packages/dask/base.py\u001b[0m in \u001b[0;36mcompute\u001b[0;34m(*args, **kwargs)\u001b[0m\n\u001b[1;32m    450\u001b[0m         \u001b[0mpostcomputes\u001b[0m\u001b[0;34m.\u001b[0m\u001b[0mappend\u001b[0m\u001b[0;34m(\u001b[0m\u001b[0mx\u001b[0m\u001b[0;34m.\u001b[0m\u001b[0m__dask_postcompute__\u001b[0m\u001b[0;34m(\u001b[0m\u001b[0;34m)\u001b[0m\u001b[0;34m)\u001b[0m\u001b[0;34m\u001b[0m\u001b[0;34m\u001b[0m\u001b[0m\n\u001b[1;32m    451\u001b[0m \u001b[0;34m\u001b[0m\u001b[0m\n\u001b[0;32m--> 452\u001b[0;31m     \u001b[0mresults\u001b[0m \u001b[0;34m=\u001b[0m \u001b[0mschedule\u001b[0m\u001b[0;34m(\u001b[0m\u001b[0mdsk\u001b[0m\u001b[0;34m,\u001b[0m \u001b[0mkeys\u001b[0m\u001b[0;34m,\u001b[0m \u001b[0;34m**\u001b[0m\u001b[0mkwargs\u001b[0m\u001b[0;34m)\u001b[0m\u001b[0;34m\u001b[0m\u001b[0;34m\u001b[0m\u001b[0m\n\u001b[0m\u001b[1;32m    453\u001b[0m     \u001b[0;32mreturn\u001b[0m \u001b[0mrepack\u001b[0m\u001b[0;34m(\u001b[0m\u001b[0;34m[\u001b[0m\u001b[0mf\u001b[0m\u001b[0;34m(\u001b[0m\u001b[0mr\u001b[0m\u001b[0;34m,\u001b[0m \u001b[0;34m*\u001b[0m\u001b[0ma\u001b[0m\u001b[0;34m)\u001b[0m \u001b[0;32mfor\u001b[0m \u001b[0mr\u001b[0m\u001b[0;34m,\u001b[0m \u001b[0;34m(\u001b[0m\u001b[0mf\u001b[0m\u001b[0;34m,\u001b[0m \u001b[0ma\u001b[0m\u001b[0;34m)\u001b[0m \u001b[0;32min\u001b[0m \u001b[0mzip\u001b[0m\u001b[0;34m(\u001b[0m\u001b[0mresults\u001b[0m\u001b[0;34m,\u001b[0m \u001b[0mpostcomputes\u001b[0m\u001b[0;34m)\u001b[0m\u001b[0;34m]\u001b[0m\u001b[0;34m)\u001b[0m\u001b[0;34m\u001b[0m\u001b[0;34m\u001b[0m\u001b[0m\n\u001b[1;32m    454\u001b[0m \u001b[0;34m\u001b[0m\u001b[0m\n",
      "\u001b[0;32m~/opt/anaconda3/lib/python3.8/site-packages/dask/threaded.py\u001b[0m in \u001b[0;36mget\u001b[0;34m(dsk, result, cache, num_workers, pool, **kwargs)\u001b[0m\n\u001b[1;32m     74\u001b[0m                 \u001b[0mpools\u001b[0m\u001b[0;34m[\u001b[0m\u001b[0mthread\u001b[0m\u001b[0;34m]\u001b[0m\u001b[0;34m[\u001b[0m\u001b[0mnum_workers\u001b[0m\u001b[0;34m]\u001b[0m \u001b[0;34m=\u001b[0m \u001b[0mpool\u001b[0m\u001b[0;34m\u001b[0m\u001b[0;34m\u001b[0m\u001b[0m\n\u001b[1;32m     75\u001b[0m \u001b[0;34m\u001b[0m\u001b[0m\n\u001b[0;32m---> 76\u001b[0;31m     results = get_async(\n\u001b[0m\u001b[1;32m     77\u001b[0m         \u001b[0mpool\u001b[0m\u001b[0;34m.\u001b[0m\u001b[0mapply_async\u001b[0m\u001b[0;34m,\u001b[0m\u001b[0;34m\u001b[0m\u001b[0;34m\u001b[0m\u001b[0m\n\u001b[1;32m     78\u001b[0m         \u001b[0mlen\u001b[0m\u001b[0;34m(\u001b[0m\u001b[0mpool\u001b[0m\u001b[0;34m.\u001b[0m\u001b[0m_pool\u001b[0m\u001b[0;34m)\u001b[0m\u001b[0;34m,\u001b[0m\u001b[0;34m\u001b[0m\u001b[0;34m\u001b[0m\u001b[0m\n",
      "\u001b[0;32m~/opt/anaconda3/lib/python3.8/site-packages/dask/local.py\u001b[0m in \u001b[0;36mget_async\u001b[0;34m(apply_async, num_workers, dsk, result, cache, get_id, rerun_exceptions_locally, pack_exception, raise_exception, callbacks, dumps, loads, **kwargs)\u001b[0m\n\u001b[1;32m    492\u001b[0m \u001b[0;34m\u001b[0m\u001b[0m\n\u001b[1;32m    493\u001b[0m                 \u001b[0;32mwhile\u001b[0m \u001b[0mstate\u001b[0m\u001b[0;34m[\u001b[0m\u001b[0;34m\"ready\"\u001b[0m\u001b[0;34m]\u001b[0m \u001b[0;32mand\u001b[0m \u001b[0mlen\u001b[0m\u001b[0;34m(\u001b[0m\u001b[0mstate\u001b[0m\u001b[0;34m[\u001b[0m\u001b[0;34m\"running\"\u001b[0m\u001b[0;34m]\u001b[0m\u001b[0;34m)\u001b[0m \u001b[0;34m<\u001b[0m \u001b[0mnum_workers\u001b[0m\u001b[0;34m:\u001b[0m\u001b[0;34m\u001b[0m\u001b[0;34m\u001b[0m\u001b[0m\n\u001b[0;32m--> 494\u001b[0;31m                     \u001b[0mfire_task\u001b[0m\u001b[0;34m(\u001b[0m\u001b[0;34m)\u001b[0m\u001b[0;34m\u001b[0m\u001b[0;34m\u001b[0m\u001b[0m\n\u001b[0m\u001b[1;32m    495\u001b[0m \u001b[0;34m\u001b[0m\u001b[0m\n\u001b[1;32m    496\u001b[0m             \u001b[0msucceeded\u001b[0m \u001b[0;34m=\u001b[0m \u001b[0;32mTrue\u001b[0m\u001b[0;34m\u001b[0m\u001b[0;34m\u001b[0m\u001b[0m\n",
      "\u001b[0;32m~/opt/anaconda3/lib/python3.8/site-packages/dask/local.py\u001b[0m in \u001b[0;36mfire_task\u001b[0;34m()\u001b[0m\n\u001b[1;32m    445\u001b[0m                 \u001b[0;31m# Choose a good task to compute\u001b[0m\u001b[0;34m\u001b[0m\u001b[0;34m\u001b[0m\u001b[0;34m\u001b[0m\u001b[0m\n\u001b[1;32m    446\u001b[0m                 \u001b[0mkey\u001b[0m \u001b[0;34m=\u001b[0m \u001b[0mstate\u001b[0m\u001b[0;34m[\u001b[0m\u001b[0;34m\"ready\"\u001b[0m\u001b[0;34m]\u001b[0m\u001b[0;34m.\u001b[0m\u001b[0mpop\u001b[0m\u001b[0;34m(\u001b[0m\u001b[0;34m)\u001b[0m\u001b[0;34m\u001b[0m\u001b[0;34m\u001b[0m\u001b[0m\n\u001b[0;32m--> 447\u001b[0;31m                 \u001b[0mstate\u001b[0m\u001b[0;34m[\u001b[0m\u001b[0;34m\"running\"\u001b[0m\u001b[0;34m]\u001b[0m\u001b[0;34m.\u001b[0m\u001b[0madd\u001b[0m\u001b[0;34m(\u001b[0m\u001b[0mkey\u001b[0m\u001b[0;34m)\u001b[0m\u001b[0;34m\u001b[0m\u001b[0;34m\u001b[0m\u001b[0m\n\u001b[0m\u001b[1;32m    448\u001b[0m                 \u001b[0;32mfor\u001b[0m \u001b[0mf\u001b[0m \u001b[0;32min\u001b[0m \u001b[0mpretask_cbs\u001b[0m\u001b[0;34m:\u001b[0m\u001b[0;34m\u001b[0m\u001b[0;34m\u001b[0m\u001b[0m\n\u001b[1;32m    449\u001b[0m                     \u001b[0mf\u001b[0m\u001b[0;34m(\u001b[0m\u001b[0mkey\u001b[0m\u001b[0;34m,\u001b[0m \u001b[0mdsk\u001b[0m\u001b[0;34m,\u001b[0m \u001b[0mstate\u001b[0m\u001b[0;34m)\u001b[0m\u001b[0;34m\u001b[0m\u001b[0;34m\u001b[0m\u001b[0m\n",
      "\u001b[0;31mKeyboardInterrupt\u001b[0m: "
     ]
    }
   ],
   "source": [
    "start = time.time()\n",
    "i = 0\n",
    "for _, row in val.iterrows():\n",
    "    i += 1\n",
    "    score = scorer.predict_pair(row.user_id, row.recipe_id)\n",
    "    if i % 100 == 0:\n",
    "        print(i / len(val), time.time() - start, score)"
   ]
  },
  {
   "cell_type": "code",
   "execution_count": null,
   "id": "765f6d81-4320-49d4-8e37-5dd9dfb8ee20",
   "metadata": {},
   "outputs": [],
   "source": [
    "def get_prediction(row, scorer):\n",
    "    if row.user_id not in user_avgs:\n",
    "        return rating_avg\n",
    "    personal_avg = (rating_avg * k + user_avgs[row.user_id] * user_counts[row.user_id]) / (user_counts[row.user_id] + k)\n",
    "    similarity_delta = scorer.predict_pair(row.user_id, row.recipe_id)\n",
    "    return personal_avg + similarity_delta\n",
    "    \n",
    "preds = val.apply(\n",
    "    lambda x: get_prediction(x, scorer), \n",
    "    axis=1\n",
    ")\n",
    "dask_ml.metrics.mean_squared_error(val.rating.to_dask_array(), preds.to_dask_array())"
   ]
  },
  {
   "cell_type": "code",
   "execution_count": 8,
   "id": "45dab99c-8285-458c-ad95-f0c9eb1d9f71",
   "metadata": {},
   "outputs": [
    {
     "name": "stdout",
     "output_type": "stream",
     "text": [
      "        user_id  recipe_id        date  rating      u       i  prediction\n",
      "403988   518302      14471  2009-01-25     4.0  15755   78580    4.600000\n",
      "217140   226316      35132  2007-05-16     5.0  13499  115502    4.541667\n",
      "104255   134011     135101  2005-09-18     4.0    135   85305    5.000000\n",
      "189103   140008      88828  2007-01-24     4.0   1557   19016    4.573867\n",
      "334179   528468      15301  2008-06-11     5.0   1564  151452    4.800000\n"
     ]
    },
    {
     "data": {
      "text/plain": [
       "1.0679499550909195"
      ]
     },
     "execution_count": 8,
     "metadata": {},
     "output_type": "execute_result"
    }
   ],
   "source": [
    "# Baseline 4: Predict using avg rating of each recipe\n",
    "recipe_avgs = train.groupby(\"recipe_id\").rating.mean().compute()\n",
    "val[\"prediction\"] = val.recipe_id.apply(\n",
    "    lambda x: recipe_avgs[x] if x in recipe_avgs else rating_avg, \n",
    "    meta=('recipe_id', 'int64')\n",
    ")\n",
    "print(val.head())\n",
    "dask_ml.metrics.mean_squared_error(val.rating.to_dask_array(), val.prediction.to_dask_array())"
   ]
  },
  {
   "cell_type": "code",
   "execution_count": 10,
   "id": "9469008c-7138-44c6-9fb4-7ee329be2ed5",
   "metadata": {},
   "outputs": [
    {
     "name": "stdout",
     "output_type": "stream",
     "text": [
      "        err     k\n",
      "0  1.067950   0.0\n",
      "1  0.904832  10.0\n",
      "2  0.902622  20.0\n",
      "3  0.902763  30.0\n",
      "4  0.903214  40.0\n"
     ]
    }
   ],
   "source": [
    "# Baseline 5: Predict using avg rating of each recipe, bayesian style\n",
    "bayesian_df2 = pd.DataFrame()\n",
    "recipe_avgs = train.groupby(\"recipe_id\").rating.mean().compute()\n",
    "recipe_counts = train.groupby(\"recipe_id\").rating.count().compute()\n",
    "for k in range(0, 50, 10):\n",
    "    val[\"prediction\"] = val.recipe_id.apply(\n",
    "        lambda x: (rating_avg * k + recipe_avgs[x] * recipe_counts[x]) / (recipe_counts[x] + k) if x in recipe_avgs else rating_avg, \n",
    "        meta=('user_id', 'int64')\n",
    "    )\n",
    "    err = dask_ml.metrics.mean_squared_error(val.rating.to_dask_array(), val.prediction.to_dask_array())\n",
    "    bayesian_df2 = bayesian_df2.append({\"k\": k, \"err\": err}, ignore_index=True)\n",
    "print(bayesian_df2)"
   ]
  },
  {
   "cell_type": "code",
   "execution_count": 91,
   "id": "7e515a01-c5a2-4238-a4c9-f7c5c8a1441f",
   "metadata": {},
   "outputs": [
    {
     "data": {
      "text/plain": [
       "0.9136329751702902"
      ]
     },
     "execution_count": 91,
     "metadata": {},
     "output_type": "execute_result"
    }
   ],
   "source": [
    "user_id_to_idx = {}\n",
    "recipe_id_to_idx = {}\n",
    "for interaction in train:\n",
    "    user_id = interaction.user_id\n",
    "    recipe_id = interaction.recipe_id\n",
    "    rating_id = interaction.rating"
   ]
  },
  {
   "cell_type": "code",
   "execution_count": 89,
   "id": "818656be-9d6d-49a3-b1f5-679baa7befda",
   "metadata": {},
   "outputs": [
    {
     "name": "stdout",
     "output_type": "stream",
     "text": [
      "Requirement already satisfied: dask-distance in /Users/aidankeogh/opt/anaconda3/lib/python3.8/site-packages (0.2.0)\n",
      "Requirement already satisfied: dask in /Users/aidankeogh/opt/anaconda3/lib/python3.8/site-packages (from dask-distance) (2.30.0)\n",
      "Requirement already satisfied: numpy in /Users/aidankeogh/opt/anaconda3/lib/python3.8/site-packages (from dask-distance) (1.21.0)\n",
      "Requirement already satisfied: pyyaml in /Users/aidankeogh/opt/anaconda3/lib/python3.8/site-packages (from dask->dask-distance) (5.4.1)\n"
     ]
    }
   ],
   "source": [
    "!pip install dask-distance\n",
    "# https://dask-distance.readthedocs.io/en/latest/dask_distance.html\n",
    "\n"
   ]
  },
  {
   "cell_type": "code",
   "execution_count": 16,
   "id": "dfc0bb89-1c43-4cc0-9e42-803b9baac677",
   "metadata": {},
   "outputs": [
    {
     "name": "stdout",
     "output_type": "stream",
     "text": [
      "user_id\n",
      "1533          4.747826\n",
      "1535          4.476117\n",
      "1634          3.875000\n",
      "1676          4.583333\n",
      "1773          4.500000\n",
      "                ...   \n",
      "2002204415    4.500000\n",
      "2002214643    5.000000\n",
      "2002227190    3.666667\n",
      "2002254807    3.000000\n",
      "2002312797    4.500000\n",
      "Name: rating, Length: 25076, dtype: float64\n",
      "user_id\n",
      "1533          0.723581\n",
      "1535          0.775672\n",
      "1634          1.524621\n",
      "1676          0.974308\n",
      "1773          0.707107\n",
      "                ...   \n",
      "2002204415    0.707107\n",
      "2002214643    0.000000\n",
      "2002227190    0.577350\n",
      "2002254807    2.738613\n",
      "2002312797    0.707107\n",
      "Name: rating, Length: 25076, dtype: float64\n"
     ]
    }
   ],
   "source": [
    "def avg_by_user(df):\n",
    "    dfg = df.groupby(\"user_id\")\n",
    "    return dfg.rating.mean().compute(), dfg.rating.std().compute()\n",
    "\n",
    "means, stds = avg_by_user(ddf)\n",
    "print(means)\n",
    "print(stds)"
   ]
  },
  {
   "cell_type": "code",
   "execution_count": null,
   "id": "d8ca9df3-162c-44ca-9846-1d83cac639d3",
   "metadata": {},
   "outputs": [],
   "source": []
  }
 ],
 "metadata": {
  "kernelspec": {
   "display_name": "Python 3",
   "language": "python",
   "name": "python3"
  },
  "language_info": {
   "codemirror_mode": {
    "name": "ipython",
    "version": 3
   },
   "file_extension": ".py",
   "mimetype": "text/x-python",
   "name": "python",
   "nbconvert_exporter": "python",
   "pygments_lexer": "ipython3",
   "version": "3.8.5"
  }
 },
 "nbformat": 4,
 "nbformat_minor": 5
}
