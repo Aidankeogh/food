{
 "cells": [
  {
   "cell_type": "code",
   "execution_count": 58,
   "id": "1302978c-14ab-4b2c-909e-26dacfd7980a",
   "metadata": {},
   "outputs": [],
   "source": [
    "import dask\n",
    "import dask.array as da\n",
    "import dask.dataframe as dd\n",
    "import sparse\n",
    "import dask_ml\n",
    "\n",
    "seed = 25"
   ]
  },
  {
   "cell_type": "code",
   "execution_count": 59,
   "id": "7f9fa597-4578-4fb6-9d8f-38df6d5dbd3a",
   "metadata": {},
   "outputs": [
    {
     "name": "stdout",
     "output_type": "stream",
     "text": [
      "628841 70060\n"
     ]
    }
   ],
   "source": [
    "ddf = dd.read_csv(\"data/interactions_train.csv\")\n",
    "train, val = dask_ml.model_selection.train_test_split(\n",
    "    ddf, \n",
    "    test_size=0.1, \n",
    "    train_size=0.9,\n",
    "    shuffle=True,\n",
    "    random_state=seed)\n",
    "print(len(train), len(val))"
   ]
  },
  {
   "cell_type": "code",
   "execution_count": 60,
   "id": "59926184-328f-4acf-b014-ac45cde43c25",
   "metadata": {},
   "outputs": [
    {
     "name": "stdout",
     "output_type": "stream",
     "text": [
      "4.573866843923981 0.95953785596336\n"
     ]
    }
   ],
   "source": [
    "rating_avg = train.rating.mean().compute()\n",
    "rating_std = train.rating.std().compute()\n",
    "print(rating_avg, rating_std)"
   ]
  },
  {
   "cell_type": "code",
   "execution_count": 62,
   "id": "0d09520f-c644-4dc8-ad69-51a41bbd6796",
   "metadata": {},
   "outputs": [
    {
     "name": "stdout",
     "output_type": "stream",
     "text": [
      "   rating  prediction\n",
      "0     4.0    4.573867\n",
      "1     4.0    4.573867\n",
      "2     0.0    4.573867\n",
      "3     2.0    4.573867\n",
      "4     3.0    4.573867\n"
     ]
    },
    {
     "data": {
      "text/plain": [
       "0.9108435745491105"
      ]
     },
     "execution_count": 62,
     "metadata": {},
     "output_type": "execute_result"
    }
   ],
   "source": [
    "# Baseline 1: Predict global avg rating\n",
    "val[\"prediction\"] = rating_avg\n",
    "print(samples.head())\n",
    "dask_ml.metrics.mean_squared_error(val.rating.to_dask_array(), val.prediction.to_dask_array())"
   ]
  },
  {
   "cell_type": "code",
   "execution_count": 80,
   "id": "7bc2376d-39a5-4f0f-9385-2fe5b56ceb22",
   "metadata": {},
   "outputs": [
    {
     "name": "stdout",
     "output_type": "stream",
     "text": [
      "        user_id  recipe_id        date  rating      u       i  prediction\n",
      "403988   518302      14471  2009-01-25     4.0  15755   78580    3.750000\n",
      "217140   226316      35132  2007-05-16     5.0  13499  115502    4.962963\n",
      "104255   134011     135101  2005-09-18     4.0    135   85305    4.792899\n",
      "189103   140008      88828  2007-01-24     4.0   1557   19016    4.166667\n",
      "334179   528468      15301  2008-06-11     5.0   1564  151452    4.243590\n"
     ]
    },
    {
     "data": {
      "text/plain": [
       "0.8617040612395044"
      ]
     },
     "execution_count": 80,
     "metadata": {},
     "output_type": "execute_result"
    }
   ],
   "source": [
    "# Baseline 2: Predict using avg rating of each user\n",
    "user_avgs = train.groupby(\"user_id\").rating.mean().compute()\n",
    "val[\"prediction\"] = val.user_id.apply(\n",
    "    lambda x: user_avgs[x] if x in user_avgs else rating_avg, \n",
    "    meta=('user_id', 'int64')\n",
    ")\n",
    "print(val.head())\n",
    "dask_ml.metrics.mean_squared_error(val.rating.to_dask_array(), val.prediction.to_dask_array())"
   ]
  },
  {
   "cell_type": "code",
   "execution_count": 81,
   "id": "45dab99c-8285-458c-ad95-f0c9eb1d9f71",
   "metadata": {},
   "outputs": [
    {
     "name": "stdout",
     "output_type": "stream",
     "text": [
      "        user_id  recipe_id        date  rating      u       i  prediction\n",
      "403988   518302      14471  2009-01-25     4.0  15755   78580    4.600000\n",
      "217140   226316      35132  2007-05-16     5.0  13499  115502    4.541667\n",
      "104255   134011     135101  2005-09-18     4.0    135   85305    5.000000\n",
      "189103   140008      88828  2007-01-24     4.0   1557   19016    4.573867\n",
      "334179   528468      15301  2008-06-11     5.0   1564  151452    4.800000\n"
     ]
    },
    {
     "data": {
      "text/plain": [
       "1.0679499550909195"
      ]
     },
     "execution_count": 81,
     "metadata": {},
     "output_type": "execute_result"
    }
   ],
   "source": [
    "# Baseline 3: Predict using avg rating of each recipe\n",
    "recipe_avgs = train.groupby(\"recipe_id\").rating.mean().compute()\n",
    "val[\"prediction\"] = val.recipe_id.apply(\n",
    "    lambda x: recipe_avgs[x] if x in recipe_avgs else rating_avg, \n",
    "    meta=('recipe_id', 'int64')\n",
    ")\n",
    "print(val.head())\n",
    "dask_ml.metrics.mean_squared_error(val.rating.to_dask_array(), val.prediction.to_dask_array())"
   ]
  },
  {
   "cell_type": "code",
   "execution_count": 87,
   "id": "a984cab9-3791-4b9c-b782-798e27912dd4",
   "metadata": {},
   "outputs": [
    {
     "name": "stdout",
     "output_type": "stream",
     "text": [
      "         err     k\n",
      "0   0.861704   0.0\n",
      "1   0.836084   1.0\n",
      "2   0.829757   2.0\n",
      "3   0.827329   3.0\n",
      "4   0.826321   4.0\n",
      "5   0.825972   5.0\n",
      "6   0.825969   6.0\n",
      "7   0.826162   7.0\n",
      "8   0.826473   8.0\n",
      "9   0.826854   9.0\n",
      "10  0.827279  10.0\n",
      "11  0.827729  11.0\n",
      "12  0.828194  12.0\n",
      "13  0.828666  13.0\n",
      "14  0.829140  14.0\n",
      "15  0.829612  15.0\n",
      "16  0.830081  16.0\n",
      "17  0.830544  17.0\n",
      "18  0.831000  18.0\n",
      "19  0.831449  19.0\n"
     ]
    }
   ],
   "source": [
    "# Baseline 4: Predict using avg rating of each user, bayesian style\n",
    "import pandas as pd\n",
    "bayesian_df = pd.DataFrame()\n",
    "user_avgs = train.groupby(\"user_id\").rating.mean().compute()\n",
    "user_countss = train.groupby(\"user_id\").rating.count().compute()\n",
    "for k in range(20):\n",
    "    val[\"prediction\"] = val.user_id.apply(\n",
    "        lambda x: (rating_avg * k + user_avgs[x] * user_counts[x]) / (user_counts[x] + k) if x in user_avgs else rating_avg, \n",
    "        meta=('user_id', 'int64')\n",
    "    )\n",
    "    err = dask_ml.metrics.mean_squared_error(val.rating.to_dask_array(), val.prediction.to_dask_array())\n",
    "    bayesian_df = bayesian_df.append({\"k\": k, \"err\": err}, ignore_index=True)\n",
    "print(bayesian_df)"
   ]
  },
  {
   "cell_type": "code",
   "execution_count": 16,
   "id": "dfc0bb89-1c43-4cc0-9e42-803b9baac677",
   "metadata": {},
   "outputs": [
    {
     "name": "stdout",
     "output_type": "stream",
     "text": [
      "user_id\n",
      "1533          4.747826\n",
      "1535          4.476117\n",
      "1634          3.875000\n",
      "1676          4.583333\n",
      "1773          4.500000\n",
      "                ...   \n",
      "2002204415    4.500000\n",
      "2002214643    5.000000\n",
      "2002227190    3.666667\n",
      "2002254807    3.000000\n",
      "2002312797    4.500000\n",
      "Name: rating, Length: 25076, dtype: float64\n",
      "user_id\n",
      "1533          0.723581\n",
      "1535          0.775672\n",
      "1634          1.524621\n",
      "1676          0.974308\n",
      "1773          0.707107\n",
      "                ...   \n",
      "2002204415    0.707107\n",
      "2002214643    0.000000\n",
      "2002227190    0.577350\n",
      "2002254807    2.738613\n",
      "2002312797    0.707107\n",
      "Name: rating, Length: 25076, dtype: float64\n"
     ]
    }
   ],
   "source": [
    "def avg_by_user(df):\n",
    "    dfg = df.groupby(\"user_id\")\n",
    "    return dfg.rating.mean().compute(), dfg.rating.std().compute()\n",
    "\n",
    "means, stds = avg_by_user(ddf)\n",
    "print(means)\n",
    "print(stds)"
   ]
  },
  {
   "cell_type": "code",
   "execution_count": null,
   "id": "d8ca9df3-162c-44ca-9846-1d83cac639d3",
   "metadata": {},
   "outputs": [],
   "source": []
  }
 ],
 "metadata": {
  "kernelspec": {
   "display_name": "Python 3",
   "language": "python",
   "name": "python3"
  },
  "language_info": {
   "codemirror_mode": {
    "name": "ipython",
    "version": 3
   },
   "file_extension": ".py",
   "mimetype": "text/x-python",
   "name": "python",
   "nbconvert_exporter": "python",
   "pygments_lexer": "ipython3",
   "version": "3.8.5"
  }
 },
 "nbformat": 4,
 "nbformat_minor": 5
}
