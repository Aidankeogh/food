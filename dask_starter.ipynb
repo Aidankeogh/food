{
 "cells": [
  {
   "cell_type": "code",
   "execution_count": 2,
   "id": "1302978c-14ab-4b2c-909e-26dacfd7980a",
   "metadata": {},
   "outputs": [],
   "source": [
    "import dask\n",
    "import dask.array as da\n",
    "import sparse\n",
    "import dask_ml"
   ]
  },
  {
   "cell_type": "code",
   "execution_count": 6,
   "id": "9806680a-0f3d-4b20-850c-304e3e6dcb4c",
   "metadata": {},
   "outputs": [],
   "source": [
    "x = da.random.random((100000, 100000), chunks=(1000, 1000))\n",
    "x[x < 0.95] = 0"
   ]
  },
  {
   "cell_type": "code",
   "execution_count": 3,
   "id": "997efcee-732f-4935-b6bb-cebd2107521e",
   "metadata": {},
   "outputs": [
    {
     "ename": "SyntaxError",
     "evalue": "invalid syntax (<ipython-input-3-410b54726be5>, line 1)",
     "output_type": "error",
     "traceback": [
      "\u001b[0;36m  File \u001b[0;32m\"<ipython-input-3-410b54726be5>\"\u001b[0;36m, line \u001b[0;32m1\u001b[0m\n\u001b[0;31m    from dask_ml import\u001b[0m\n\u001b[0m                        ^\u001b[0m\n\u001b[0;31mSyntaxError\u001b[0m\u001b[0;31m:\u001b[0m invalid syntax\n"
     ]
    }
   ],
   "source": [
    "from dask_ml.decomposition import "
   ]
  },
  {
   "cell_type": "code",
   "execution_count": null,
   "id": "fe4d88e4-d477-4264-93a6-fd39d1effa10",
   "metadata": {},
   "outputs": [],
   "source": []
  }
 ],
 "metadata": {
  "kernelspec": {
   "display_name": "Python 3",
   "language": "python",
   "name": "python3"
  },
  "language_info": {
   "codemirror_mode": {
    "name": "ipython",
    "version": 3
   },
   "file_extension": ".py",
   "mimetype": "text/x-python",
   "name": "python",
   "nbconvert_exporter": "python",
   "pygments_lexer": "ipython3",
   "version": "3.8.5"
  }
 },
 "nbformat": 4,
 "nbformat_minor": 5
}
