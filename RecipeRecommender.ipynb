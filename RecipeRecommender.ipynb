{
 "cells": [
  {
   "cell_type": "markdown",
   "id": "6a3789b4-c4f6-48e5-ad80-f3cb09b8c3b5",
   "metadata": {},
   "source": [
    "# Thought For Food: Providing Qaulity Recipe Recommendations to the Burgeoning Cook"
   ]
  },
  {
   "cell_type": "markdown",
   "id": "d806615e-6db0-4ba7-94e8-3b128a49d375",
   "metadata": {},
   "source": [
    "James Ades, Aidan Keogh, Zach Wallace"
   ]
  },
  {
   "cell_type": "markdown",
   "id": "8801a1a5-3e23-496c-abc8-f746b83b5dce",
   "metadata": {},
   "source": [
    "In this notebook we provide the EDA, data preparation, modeling, results, and evalutation of our recipe recommender system using user-recipe rating data from food.com."
   ]
  },
  {
   "cell_type": "markdown",
   "id": "e8060405-d220-4e4a-bbb2-23cb94b0d06b",
   "metadata": {},
   "source": [
    "# Part 1: Data Loading and EDA"
   ]
  },
  {
   "cell_type": "code",
   "execution_count": 5,
   "id": "68fe8c84-45e3-497a-9f56-15469e5e5f6c",
   "metadata": {},
   "outputs": [],
   "source": [
    "import dask.dataframe as dd\n",
    "import dask.array as da\n",
    "import dask.bag as db\n",
    "import pandas as pd\n",
    "import numpy as np\n",
    "import pickle"
   ]
  },
  {
   "cell_type": "code",
   "execution_count": 2,
   "id": "9c403f66-922d-4c7f-9198-89790a122898",
   "metadata": {},
   "outputs": [],
   "source": [
    "pp_recipes = dd.read_csv('data/PP_recipes.csv')\n",
    "raw_recipes = dd.read_csv('data/RAW_recipes.csv')\n",
    "pp_users = dd.read_csv('data/PP_users.csv')\n",
    "raw_inter = dd.read_csv('data/RAW_interactions.csv')\n",
    "inter_train = dd.read_csv('data/interactions_train.csv')\n",
    "with open('data/ingr_map.pkl', 'rb') as handle:\n",
    "    ingr_map = pickle.load(handle)"
   ]
  },
  {
   "cell_type": "markdown",
   "id": "2cce277d-d438-474d-8df9-4d02f1f525dc",
   "metadata": {},
   "source": [
    "NOTE: The providers of our data offered mulitle datasets. The RAW_interactions data is the raw data for user-recipe ratings and the RAW_recipes data is the raw data for recipes with ingredients.  We primarily care about the user-recipe rating data for building matrix factorization models as desribed downstream.  The othe data are processed versions of the rating and recipe data and the ingr_map provides a tokenized dataset for the recipes"
   ]
  },
  {
   "cell_type": "markdown",
   "id": "9e2f6cc7-cec6-4e9a-a21c-6180a14cd34c",
   "metadata": {},
   "source": [
    "## Checking Out Recipes Data"
   ]
  },
  {
   "cell_type": "code",
   "execution_count": 4,
   "id": "c7a0ef95-e35c-4622-8093-f2a9341ee5c0",
   "metadata": {},
   "outputs": [
    {
     "name": "stdout",
     "output_type": "stream",
     "text": [
      "Length of the raw_recipes 231637\n"
     ]
    },
    {
     "data": {
      "text/html": [
       "<div>\n",
       "<style scoped>\n",
       "    .dataframe tbody tr th:only-of-type {\n",
       "        vertical-align: middle;\n",
       "    }\n",
       "\n",
       "    .dataframe tbody tr th {\n",
       "        vertical-align: top;\n",
       "    }\n",
       "\n",
       "    .dataframe thead th {\n",
       "        text-align: right;\n",
       "    }\n",
       "</style>\n",
       "<table border=\"1\" class=\"dataframe\">\n",
       "  <thead>\n",
       "    <tr style=\"text-align: right;\">\n",
       "      <th></th>\n",
       "      <th>name</th>\n",
       "      <th>id</th>\n",
       "      <th>minutes</th>\n",
       "      <th>contributor_id</th>\n",
       "      <th>submitted</th>\n",
       "      <th>tags</th>\n",
       "      <th>nutrition</th>\n",
       "      <th>n_steps</th>\n",
       "      <th>steps</th>\n",
       "      <th>description</th>\n",
       "      <th>ingredients</th>\n",
       "      <th>n_ingredients</th>\n",
       "    </tr>\n",
       "  </thead>\n",
       "  <tbody>\n",
       "    <tr>\n",
       "      <th>0</th>\n",
       "      <td>arriba   baked winter squash mexican style</td>\n",
       "      <td>137739</td>\n",
       "      <td>55</td>\n",
       "      <td>47892</td>\n",
       "      <td>2005-09-16</td>\n",
       "      <td>['60-minutes-or-less', 'time-to-make', 'course...</td>\n",
       "      <td>[51.5, 0.0, 13.0, 0.0, 2.0, 0.0, 4.0]</td>\n",
       "      <td>11</td>\n",
       "      <td>['make a choice and proceed with recipe', 'dep...</td>\n",
       "      <td>autumn is my favorite time of year to cook! th...</td>\n",
       "      <td>['winter squash', 'mexican seasoning', 'mixed ...</td>\n",
       "      <td>7</td>\n",
       "    </tr>\n",
       "    <tr>\n",
       "      <th>1</th>\n",
       "      <td>a bit different  breakfast pizza</td>\n",
       "      <td>31490</td>\n",
       "      <td>30</td>\n",
       "      <td>26278</td>\n",
       "      <td>2002-06-17</td>\n",
       "      <td>['30-minutes-or-less', 'time-to-make', 'course...</td>\n",
       "      <td>[173.4, 18.0, 0.0, 17.0, 22.0, 35.0, 1.0]</td>\n",
       "      <td>9</td>\n",
       "      <td>['preheat oven to 425 degrees f', 'press dough...</td>\n",
       "      <td>this recipe calls for the crust to be prebaked...</td>\n",
       "      <td>['prepared pizza crust', 'sausage patty', 'egg...</td>\n",
       "      <td>6</td>\n",
       "    </tr>\n",
       "    <tr>\n",
       "      <th>2</th>\n",
       "      <td>all in the kitchen  chili</td>\n",
       "      <td>112140</td>\n",
       "      <td>130</td>\n",
       "      <td>196586</td>\n",
       "      <td>2005-02-25</td>\n",
       "      <td>['time-to-make', 'course', 'preparation', 'mai...</td>\n",
       "      <td>[269.8, 22.0, 32.0, 48.0, 39.0, 27.0, 5.0]</td>\n",
       "      <td>6</td>\n",
       "      <td>['brown ground beef in large pot', 'add choppe...</td>\n",
       "      <td>this modified version of 'mom's' chili was a h...</td>\n",
       "      <td>['ground beef', 'yellow onions', 'diced tomato...</td>\n",
       "      <td>13</td>\n",
       "    </tr>\n",
       "    <tr>\n",
       "      <th>3</th>\n",
       "      <td>alouette  potatoes</td>\n",
       "      <td>59389</td>\n",
       "      <td>45</td>\n",
       "      <td>68585</td>\n",
       "      <td>2003-04-14</td>\n",
       "      <td>['60-minutes-or-less', 'time-to-make', 'course...</td>\n",
       "      <td>[368.1, 17.0, 10.0, 2.0, 14.0, 8.0, 20.0]</td>\n",
       "      <td>11</td>\n",
       "      <td>['place potatoes in a large pot of lightly sal...</td>\n",
       "      <td>this is a super easy, great tasting, make ahea...</td>\n",
       "      <td>['spreadable cheese with garlic and herbs', 'n...</td>\n",
       "      <td>11</td>\n",
       "    </tr>\n",
       "    <tr>\n",
       "      <th>4</th>\n",
       "      <td>amish  tomato ketchup  for canning</td>\n",
       "      <td>44061</td>\n",
       "      <td>190</td>\n",
       "      <td>41706</td>\n",
       "      <td>2002-10-25</td>\n",
       "      <td>['weeknight', 'time-to-make', 'course', 'main-...</td>\n",
       "      <td>[352.9, 1.0, 337.0, 23.0, 3.0, 0.0, 28.0]</td>\n",
       "      <td>5</td>\n",
       "      <td>['mix all ingredients&amp; boil for 2 1 / 2 hours ...</td>\n",
       "      <td>my dh's amish mother raised him on this recipe...</td>\n",
       "      <td>['tomato juice', 'apple cider vinegar', 'sugar...</td>\n",
       "      <td>8</td>\n",
       "    </tr>\n",
       "  </tbody>\n",
       "</table>\n",
       "</div>"
      ],
      "text/plain": [
       "                                         name      id  minutes  \\\n",
       "0  arriba   baked winter squash mexican style  137739       55   \n",
       "1            a bit different  breakfast pizza   31490       30   \n",
       "2                   all in the kitchen  chili  112140      130   \n",
       "3                          alouette  potatoes   59389       45   \n",
       "4          amish  tomato ketchup  for canning   44061      190   \n",
       "\n",
       "   contributor_id   submitted  \\\n",
       "0           47892  2005-09-16   \n",
       "1           26278  2002-06-17   \n",
       "2          196586  2005-02-25   \n",
       "3           68585  2003-04-14   \n",
       "4           41706  2002-10-25   \n",
       "\n",
       "                                                tags  \\\n",
       "0  ['60-minutes-or-less', 'time-to-make', 'course...   \n",
       "1  ['30-minutes-or-less', 'time-to-make', 'course...   \n",
       "2  ['time-to-make', 'course', 'preparation', 'mai...   \n",
       "3  ['60-minutes-or-less', 'time-to-make', 'course...   \n",
       "4  ['weeknight', 'time-to-make', 'course', 'main-...   \n",
       "\n",
       "                                    nutrition  n_steps  \\\n",
       "0       [51.5, 0.0, 13.0, 0.0, 2.0, 0.0, 4.0]       11   \n",
       "1   [173.4, 18.0, 0.0, 17.0, 22.0, 35.0, 1.0]        9   \n",
       "2  [269.8, 22.0, 32.0, 48.0, 39.0, 27.0, 5.0]        6   \n",
       "3   [368.1, 17.0, 10.0, 2.0, 14.0, 8.0, 20.0]       11   \n",
       "4   [352.9, 1.0, 337.0, 23.0, 3.0, 0.0, 28.0]        5   \n",
       "\n",
       "                                               steps  \\\n",
       "0  ['make a choice and proceed with recipe', 'dep...   \n",
       "1  ['preheat oven to 425 degrees f', 'press dough...   \n",
       "2  ['brown ground beef in large pot', 'add choppe...   \n",
       "3  ['place potatoes in a large pot of lightly sal...   \n",
       "4  ['mix all ingredients& boil for 2 1 / 2 hours ...   \n",
       "\n",
       "                                         description  \\\n",
       "0  autumn is my favorite time of year to cook! th...   \n",
       "1  this recipe calls for the crust to be prebaked...   \n",
       "2  this modified version of 'mom's' chili was a h...   \n",
       "3  this is a super easy, great tasting, make ahea...   \n",
       "4  my dh's amish mother raised him on this recipe...   \n",
       "\n",
       "                                         ingredients  n_ingredients  \n",
       "0  ['winter squash', 'mexican seasoning', 'mixed ...              7  \n",
       "1  ['prepared pizza crust', 'sausage patty', 'egg...              6  \n",
       "2  ['ground beef', 'yellow onions', 'diced tomato...             13  \n",
       "3  ['spreadable cheese with garlic and herbs', 'n...             11  \n",
       "4  ['tomato juice', 'apple cider vinegar', 'sugar...              8  "
      ]
     },
     "execution_count": 4,
     "metadata": {},
     "output_type": "execute_result"
    }
   ],
   "source": [
    "print(\"Length of the raw_recipes\", len(raw_recipes))\n",
    "raw_recipes.head()"
   ]
  },
  {
   "cell_type": "code",
   "execution_count": 6,
   "id": "d3507492-a4f3-43e6-9e52-6fa1de681c9f",
   "metadata": {},
   "outputs": [
    {
     "name": "stdout",
     "output_type": "stream",
     "text": [
      "Length of ingr_map 11659\n"
     ]
    },
    {
     "data": {
      "text/html": [
       "<div>\n",
       "<style scoped>\n",
       "    .dataframe tbody tr th:only-of-type {\n",
       "        vertical-align: middle;\n",
       "    }\n",
       "\n",
       "    .dataframe tbody tr th {\n",
       "        vertical-align: top;\n",
       "    }\n",
       "\n",
       "    .dataframe thead th {\n",
       "        text-align: right;\n",
       "    }\n",
       "</style>\n",
       "<table border=\"1\" class=\"dataframe\">\n",
       "  <thead>\n",
       "    <tr style=\"text-align: right;\">\n",
       "      <th></th>\n",
       "      <th>raw_ingr</th>\n",
       "      <th>raw_words</th>\n",
       "      <th>processed</th>\n",
       "      <th>len_proc</th>\n",
       "      <th>replaced</th>\n",
       "      <th>count</th>\n",
       "      <th>id</th>\n",
       "    </tr>\n",
       "  </thead>\n",
       "  <tbody>\n",
       "    <tr>\n",
       "      <th>0</th>\n",
       "      <td>medium heads bibb or red leaf lettuce, washed,...</td>\n",
       "      <td>13</td>\n",
       "      <td>medium heads bibb or red leaf lettuce, washed,...</td>\n",
       "      <td>73</td>\n",
       "      <td>lettuce</td>\n",
       "      <td>4507</td>\n",
       "      <td>4308</td>\n",
       "    </tr>\n",
       "    <tr>\n",
       "      <th>1</th>\n",
       "      <td>mixed baby lettuces and spring greens</td>\n",
       "      <td>6</td>\n",
       "      <td>mixed baby lettuces and spring green</td>\n",
       "      <td>36</td>\n",
       "      <td>lettuce</td>\n",
       "      <td>4507</td>\n",
       "      <td>4308</td>\n",
       "    </tr>\n",
       "    <tr>\n",
       "      <th>2</th>\n",
       "      <td>romaine lettuce leaf</td>\n",
       "      <td>3</td>\n",
       "      <td>romaine lettuce leaf</td>\n",
       "      <td>20</td>\n",
       "      <td>lettuce</td>\n",
       "      <td>4507</td>\n",
       "      <td>4308</td>\n",
       "    </tr>\n",
       "    <tr>\n",
       "      <th>3</th>\n",
       "      <td>iceberg lettuce leaf</td>\n",
       "      <td>3</td>\n",
       "      <td>iceberg lettuce leaf</td>\n",
       "      <td>20</td>\n",
       "      <td>lettuce</td>\n",
       "      <td>4507</td>\n",
       "      <td>4308</td>\n",
       "    </tr>\n",
       "    <tr>\n",
       "      <th>4</th>\n",
       "      <td>red romaine lettuce</td>\n",
       "      <td>3</td>\n",
       "      <td>red romaine lettuce</td>\n",
       "      <td>19</td>\n",
       "      <td>lettuce</td>\n",
       "      <td>4507</td>\n",
       "      <td>4308</td>\n",
       "    </tr>\n",
       "  </tbody>\n",
       "</table>\n",
       "</div>"
      ],
      "text/plain": [
       "                                            raw_ingr  raw_words  \\\n",
       "0  medium heads bibb or red leaf lettuce, washed,...         13   \n",
       "1              mixed baby lettuces and spring greens          6   \n",
       "2                               romaine lettuce leaf          3   \n",
       "3                               iceberg lettuce leaf          3   \n",
       "4                                red romaine lettuce          3   \n",
       "\n",
       "                                           processed  len_proc replaced  \\\n",
       "0  medium heads bibb or red leaf lettuce, washed,...        73  lettuce   \n",
       "1               mixed baby lettuces and spring green        36  lettuce   \n",
       "2                               romaine lettuce leaf        20  lettuce   \n",
       "3                               iceberg lettuce leaf        20  lettuce   \n",
       "4                                red romaine lettuce        19  lettuce   \n",
       "\n",
       "   count    id  \n",
       "0   4507  4308  \n",
       "1   4507  4308  \n",
       "2   4507  4308  \n",
       "3   4507  4308  \n",
       "4   4507  4308  "
      ]
     },
     "execution_count": 6,
     "metadata": {},
     "output_type": "execute_result"
    }
   ],
   "source": [
    "print(\"Length of ingr_map\", len(ingr_map))\n",
    "ingr_map.head()"
   ]
  },
  {
   "cell_type": "markdown",
   "id": "b35d6b22-877e-4a85-9002-d6eff0cd88e6",
   "metadata": {},
   "source": [
    "NOTE: The ingr_map had processed all the ingredients and tokenized them to a more concise label"
   ]
  },
  {
   "cell_type": "markdown",
   "id": "f1264f55-898b-4271-bdcb-1d531883b7ff",
   "metadata": {},
   "source": [
    "## Checking Out User-Recipes Ratings Data"
   ]
  },
  {
   "cell_type": "code",
   "execution_count": 8,
   "id": "13f0be33-23c3-4589-bcd1-7f85977b3213",
   "metadata": {},
   "outputs": [
    {
     "name": "stdout",
     "output_type": "stream",
     "text": [
      "Length of raw_interactions 1132367\n"
     ]
    },
    {
     "data": {
      "text/html": [
       "<div>\n",
       "<style scoped>\n",
       "    .dataframe tbody tr th:only-of-type {\n",
       "        vertical-align: middle;\n",
       "    }\n",
       "\n",
       "    .dataframe tbody tr th {\n",
       "        vertical-align: top;\n",
       "    }\n",
       "\n",
       "    .dataframe thead th {\n",
       "        text-align: right;\n",
       "    }\n",
       "</style>\n",
       "<table border=\"1\" class=\"dataframe\">\n",
       "  <thead>\n",
       "    <tr style=\"text-align: right;\">\n",
       "      <th></th>\n",
       "      <th>user_id</th>\n",
       "      <th>recipe_id</th>\n",
       "      <th>date</th>\n",
       "      <th>rating</th>\n",
       "      <th>review</th>\n",
       "    </tr>\n",
       "  </thead>\n",
       "  <tbody>\n",
       "    <tr>\n",
       "      <th>0</th>\n",
       "      <td>38094</td>\n",
       "      <td>40893</td>\n",
       "      <td>2003-02-17</td>\n",
       "      <td>4</td>\n",
       "      <td>Great with a salad. Cooked on top of stove for...</td>\n",
       "    </tr>\n",
       "    <tr>\n",
       "      <th>1</th>\n",
       "      <td>1293707</td>\n",
       "      <td>40893</td>\n",
       "      <td>2011-12-21</td>\n",
       "      <td>5</td>\n",
       "      <td>So simple, so delicious! Great for chilly fall...</td>\n",
       "    </tr>\n",
       "    <tr>\n",
       "      <th>2</th>\n",
       "      <td>8937</td>\n",
       "      <td>44394</td>\n",
       "      <td>2002-12-01</td>\n",
       "      <td>4</td>\n",
       "      <td>This worked very well and is EASY.  I used not...</td>\n",
       "    </tr>\n",
       "    <tr>\n",
       "      <th>3</th>\n",
       "      <td>126440</td>\n",
       "      <td>85009</td>\n",
       "      <td>2010-02-27</td>\n",
       "      <td>5</td>\n",
       "      <td>I made the Mexican topping and took it to bunk...</td>\n",
       "    </tr>\n",
       "    <tr>\n",
       "      <th>4</th>\n",
       "      <td>57222</td>\n",
       "      <td>85009</td>\n",
       "      <td>2011-10-01</td>\n",
       "      <td>5</td>\n",
       "      <td>Made the cheddar bacon topping, adding a sprin...</td>\n",
       "    </tr>\n",
       "  </tbody>\n",
       "</table>\n",
       "</div>"
      ],
      "text/plain": [
       "   user_id  recipe_id        date  rating  \\\n",
       "0    38094      40893  2003-02-17       4   \n",
       "1  1293707      40893  2011-12-21       5   \n",
       "2     8937      44394  2002-12-01       4   \n",
       "3   126440      85009  2010-02-27       5   \n",
       "4    57222      85009  2011-10-01       5   \n",
       "\n",
       "                                              review  \n",
       "0  Great with a salad. Cooked on top of stove for...  \n",
       "1  So simple, so delicious! Great for chilly fall...  \n",
       "2  This worked very well and is EASY.  I used not...  \n",
       "3  I made the Mexican topping and took it to bunk...  \n",
       "4  Made the cheddar bacon topping, adding a sprin...  "
      ]
     },
     "execution_count": 8,
     "metadata": {},
     "output_type": "execute_result"
    }
   ],
   "source": [
    "print(\"Length of raw_interactions\", len(raw_inter))\n",
    "raw_inter.head()"
   ]
  },
  {
   "cell_type": "code",
   "execution_count": 9,
   "id": "8acdf82b-b808-438c-8af8-0a792169db99",
   "metadata": {},
   "outputs": [
    {
     "name": "stdout",
     "output_type": "stream",
     "text": [
      "Lenth of interactions_train 698901\n"
     ]
    },
    {
     "data": {
      "text/html": [
       "<div>\n",
       "<style scoped>\n",
       "    .dataframe tbody tr th:only-of-type {\n",
       "        vertical-align: middle;\n",
       "    }\n",
       "\n",
       "    .dataframe tbody tr th {\n",
       "        vertical-align: top;\n",
       "    }\n",
       "\n",
       "    .dataframe thead th {\n",
       "        text-align: right;\n",
       "    }\n",
       "</style>\n",
       "<table border=\"1\" class=\"dataframe\">\n",
       "  <thead>\n",
       "    <tr style=\"text-align: right;\">\n",
       "      <th></th>\n",
       "      <th>user_id</th>\n",
       "      <th>recipe_id</th>\n",
       "      <th>date</th>\n",
       "      <th>rating</th>\n",
       "      <th>u</th>\n",
       "      <th>i</th>\n",
       "    </tr>\n",
       "  </thead>\n",
       "  <tbody>\n",
       "    <tr>\n",
       "      <th>0</th>\n",
       "      <td>2046</td>\n",
       "      <td>4684</td>\n",
       "      <td>2000-02-25</td>\n",
       "      <td>5.0</td>\n",
       "      <td>22095</td>\n",
       "      <td>44367</td>\n",
       "    </tr>\n",
       "    <tr>\n",
       "      <th>1</th>\n",
       "      <td>2046</td>\n",
       "      <td>517</td>\n",
       "      <td>2000-02-25</td>\n",
       "      <td>5.0</td>\n",
       "      <td>22095</td>\n",
       "      <td>87844</td>\n",
       "    </tr>\n",
       "    <tr>\n",
       "      <th>2</th>\n",
       "      <td>1773</td>\n",
       "      <td>7435</td>\n",
       "      <td>2000-03-13</td>\n",
       "      <td>5.0</td>\n",
       "      <td>24732</td>\n",
       "      <td>138181</td>\n",
       "    </tr>\n",
       "    <tr>\n",
       "      <th>3</th>\n",
       "      <td>1773</td>\n",
       "      <td>278</td>\n",
       "      <td>2000-03-13</td>\n",
       "      <td>4.0</td>\n",
       "      <td>24732</td>\n",
       "      <td>93054</td>\n",
       "    </tr>\n",
       "    <tr>\n",
       "      <th>4</th>\n",
       "      <td>2046</td>\n",
       "      <td>3431</td>\n",
       "      <td>2000-04-07</td>\n",
       "      <td>5.0</td>\n",
       "      <td>22095</td>\n",
       "      <td>101723</td>\n",
       "    </tr>\n",
       "  </tbody>\n",
       "</table>\n",
       "</div>"
      ],
      "text/plain": [
       "   user_id  recipe_id        date  rating      u       i\n",
       "0     2046       4684  2000-02-25     5.0  22095   44367\n",
       "1     2046        517  2000-02-25     5.0  22095   87844\n",
       "2     1773       7435  2000-03-13     5.0  24732  138181\n",
       "3     1773        278  2000-03-13     4.0  24732   93054\n",
       "4     2046       3431  2000-04-07     5.0  22095  101723"
      ]
     },
     "execution_count": 9,
     "metadata": {},
     "output_type": "execute_result"
    }
   ],
   "source": [
    "print(\"Lenth of interactions_train\", len(inter_train))\n",
    "inter_train.head()"
   ]
  },
  {
   "cell_type": "markdown",
   "id": "ebf2276b-904c-4436-89bd-6b03348f1ec2",
   "metadata": {},
   "source": [
    "## EDA"
   ]
  },
  {
   "cell_type": "markdown",
   "id": "e82afba2-5440-4ab2-8f3a-282f483327d2",
   "metadata": {},
   "source": [
    "### Distribution of ratings per user: raw data"
   ]
  },
  {
   "cell_type": "code",
   "execution_count": 10,
   "id": "c39cc505-9c0a-4c46-b96e-3014c471dde3",
   "metadata": {},
   "outputs": [],
   "source": [
    "import matplotlib.pyplot as plt\n",
    "import ast\n",
    "plt.rcParams[\"figure.figsize\"] = (8,6)"
   ]
  },
  {
   "cell_type": "code",
   "execution_count": 12,
   "id": "ae917f6a-51a8-4064-bcf1-645a5dba4d3d",
   "metadata": {},
   "outputs": [
    {
     "data": {
      "image/png": "[encoded data removed]",
      "text/plain": [
       "<Figure size 576x432 with 1 Axes>"
      ]
     },
     "metadata": {
      "needs_background": "light"
     },
     "output_type": "display_data"
    },
    {
     "data": {
      "text/plain": [
       "count    226570.000000\n",
       "mean          4.997868\n",
       "std          49.663111\n",
       "min           1.000000\n",
       "25%           1.000000\n",
       "50%           1.000000\n",
       "75%           4.000000\n",
       "max        7671.000000\n",
       "dtype: float64"
      ]
     },
     "execution_count": 12,
     "metadata": {},
     "output_type": "execute_result"
    }
   ],
   "source": [
    "user_rating_counts = raw_inter.groupby(by = ['user_id']).size().compute()\n",
    "plt.hist(user_rating_counts, bins = 100)\n",
    "plt.title(\"Distribution of Number of Ratings per User\")\n",
    "plt.xlabel(\"User Rating Counts\")\n",
    "plt.ylabel(\"Frequency\")\n",
    "plt.show()\n",
    "user_rating_counts = dd.from_array(user_rating_counts)\n",
    "user_rating_counts.describe().compute()"
   ]
  },
  {
   "cell_type": "markdown",
   "id": "c9f49e0e-92fe-4bbe-afb1-8ca6b0b1b840",
   "metadata": {},
   "source": [
    "### Distribution of ratings per recipe: raw data"
   ]
  },
  {
   "cell_type": "code",
   "execution_count": 13,
   "id": "d4bf11ee-3d4f-42e2-ad5a-5f97c585ecb8",
   "metadata": {},
   "outputs": [
    {
     "data": {
      "image/png": "[encoded data removed]",
      "text/plain": [
       "<Figure size 576x432 with 1 Axes>"
      ]
     },
     "metadata": {
      "needs_background": "light"
     },
     "output_type": "display_data"
    },
    {
     "data": {
      "text/plain": [
       "count    231637.000000\n",
       "mean          4.888541\n",
       "std          17.532481\n",
       "min           1.000000\n",
       "25%           1.000000\n",
       "50%           2.000000\n",
       "75%           4.000000\n",
       "max        1613.000000\n",
       "dtype: float64"
      ]
     },
     "execution_count": 13,
     "metadata": {},
     "output_type": "execute_result"
    }
   ],
   "source": [
    "recipe_rating_counts = raw_inter.groupby(by = ['recipe_id']).size().compute()\n",
    "plt.hist(recipe_rating_counts, bins = 100)\n",
    "plt.title(\"Distribution of Number of Ratings per Recipe\")\n",
    "plt.xlabel(\"Recipe Rating Counts\")\n",
    "plt.ylabel(\"Frequency\")\n",
    "plt.show()\n",
    "recipe_rating_counts = dd.from_array(recipe_rating_counts)\n",
    "recipe_rating_counts.describe().compute()"
   ]
  },
  {
   "cell_type": "markdown",
   "id": "f52647aa-c050-4a33-bde2-9114e8676e63",
   "metadata": {},
   "source": [
    "### Distribution of mean rating per user: raw data"
   ]
  },
  {
   "cell_type": "code",
   "execution_count": 14,
   "id": "91335b23-1835-4e33-b6e2-2e3327ea45e5",
   "metadata": {},
   "outputs": [
    {
     "data": {
      "image/png": "[encoded data removed]",
      "text/plain": [
       "<Figure size 576x432 with 1 Axes>"
      ]
     },
     "metadata": {
      "needs_background": "light"
     },
     "output_type": "display_data"
    },
    {
     "data": {
      "text/plain": [
       "count    226570.000000\n",
       "mean          3.873031\n",
       "std           1.773173\n",
       "min           0.000000\n",
       "25%           4.000000\n",
       "50%           5.000000\n",
       "75%           5.000000\n",
       "max           5.000000\n",
       "dtype: float64"
      ]
     },
     "execution_count": 14,
     "metadata": {},
     "output_type": "execute_result"
    }
   ],
   "source": [
    "user_rating_means = raw_inter.groupby(by = ['user_id'])['rating'].mean().compute()\n",
    "plt.hist(user_rating_means, bins = 100)\n",
    "plt.title(\"Distribution of Mean of Ratings per User\")\n",
    "plt.xlabel(\"User Mean Ratings\")\n",
    "plt.ylabel(\"Frequency\")\n",
    "plt.show()\n",
    "user_rating_means = dd.from_array(user_rating_means)\n",
    "user_rating_means.describe().compute()"
   ]
  },
  {
   "cell_type": "markdown",
   "id": "e20fcb7a-cd22-45cb-b087-44073c269d78",
   "metadata": {},
   "source": [
    "### Distribution of mean rating per recipe: raw data"
   ]
  },
  {
   "cell_type": "code",
   "execution_count": 15,
   "id": "a2ba7032-a292-45ff-b680-6d728e0a754c",
   "metadata": {},
   "outputs": [
    {
     "data": {
      "image/png": "[encoded data removed]",
      "text/plain": [
       "<Figure size 576x432 with 1 Axes>"
      ]
     },
     "metadata": {
      "needs_background": "light"
     },
     "output_type": "display_data"
    },
    {
     "data": {
      "text/plain": [
       "count    231637.000000\n",
       "mean          4.346246\n",
       "std           0.990806\n",
       "min           0.000000\n",
       "25%           4.000000\n",
       "50%           4.833333\n",
       "75%           5.000000\n",
       "max           5.000000\n",
       "dtype: float64"
      ]
     },
     "execution_count": 15,
     "metadata": {},
     "output_type": "execute_result"
    }
   ],
   "source": [
    "recipe_rating_means = raw_inter.groupby(by = ['recipe_id'])['rating'].mean().compute()\n",
    "plt.hist(recipe_rating_means, bins = 100)\n",
    "plt.title(\"Distribution of Mean of Ratings per Recipe\")\n",
    "plt.xlabel(\"Recipe Mean Ratings\")\n",
    "plt.ylabel(\"Frequency\")\n",
    "plt.show()\n",
    "recipe_rating_means = dd.from_array(recipe_rating_means)\n",
    "recipe_rating_means.describe().compute()"
   ]
  },
  {
   "cell_type": "markdown",
   "id": "35358af3-87d6-4d57-a9c4-9ba59bbad230",
   "metadata": {},
   "source": [
    "### Distribution of Ratings: raw data"
   ]
  },
  {
   "cell_type": "code",
   "execution_count": 16,
   "id": "d045ab33-7132-42e5-b3e2-3d6e284d773e",
   "metadata": {},
   "outputs": [
    {
     "data": {
      "image/png": "[encoded data removed]",
      "text/plain": [
       "<Figure size 576x432 with 1 Axes>"
      ]
     },
     "metadata": {
      "needs_background": "light"
     },
     "output_type": "display_data"
    },
    {
     "data": {
      "text/html": [
       "<div>\n",
       "<style scoped>\n",
       "    .dataframe tbody tr th:only-of-type {\n",
       "        vertical-align: middle;\n",
       "    }\n",
       "\n",
       "    .dataframe tbody tr th {\n",
       "        vertical-align: top;\n",
       "    }\n",
       "\n",
       "    .dataframe thead th {\n",
       "        text-align: right;\n",
       "    }\n",
       "</style>\n",
       "<table border=\"1\" class=\"dataframe\">\n",
       "  <thead>\n",
       "    <tr style=\"text-align: right;\">\n",
       "      <th></th>\n",
       "      <th>0</th>\n",
       "    </tr>\n",
       "  </thead>\n",
       "  <tbody>\n",
       "    <tr>\n",
       "      <th>count</th>\n",
       "      <td>1.132367e+06</td>\n",
       "    </tr>\n",
       "    <tr>\n",
       "      <th>mean</th>\n",
       "      <td>4.411016e+00</td>\n",
       "    </tr>\n",
       "    <tr>\n",
       "      <th>std</th>\n",
       "      <td>1.264752e+00</td>\n",
       "    </tr>\n",
       "    <tr>\n",
       "      <th>min</th>\n",
       "      <td>0.000000e+00</td>\n",
       "    </tr>\n",
       "    <tr>\n",
       "      <th>25%</th>\n",
       "      <td>4.000000e+00</td>\n",
       "    </tr>\n",
       "    <tr>\n",
       "      <th>50%</th>\n",
       "      <td>5.000000e+00</td>\n",
       "    </tr>\n",
       "    <tr>\n",
       "      <th>75%</th>\n",
       "      <td>5.000000e+00</td>\n",
       "    </tr>\n",
       "    <tr>\n",
       "      <th>max</th>\n",
       "      <td>5.000000e+00</td>\n",
       "    </tr>\n",
       "  </tbody>\n",
       "</table>\n",
       "</div>"
      ],
      "text/plain": [
       "                  0\n",
       "count  1.132367e+06\n",
       "mean   4.411016e+00\n",
       "std    1.264752e+00\n",
       "min    0.000000e+00\n",
       "25%    4.000000e+00\n",
       "50%    5.000000e+00\n",
       "75%    5.000000e+00\n",
       "max    5.000000e+00"
      ]
     },
     "execution_count": 16,
     "metadata": {},
     "output_type": "execute_result"
    }
   ],
   "source": [
    "recipe_ratings = list(raw_inter['rating'])\n",
    "plt.hist(recipe_ratings, bins = 100)\n",
    "plt.title(\"Distribution Ratings\")\n",
    "plt.xlabel(\"Recipe Ratings\")\n",
    "plt.ylabel(\"Frequency\")\n",
    "plt.show()\n",
    "recipe_ratings = pd.DataFrame(recipe_ratings)\n",
    "recipe_ratings.describe()"
   ]
  },
  {
   "cell_type": "markdown",
   "id": "4ad2213c-d690-4a3d-a02d-4eb2403bee80",
   "metadata": {},
   "source": [
    "### Some exploring of \"interactions_train\" data"
   ]
  },
  {
   "cell_type": "code",
   "execution_count": 17,
   "id": "92003cdb-bc27-4189-a665-f8cbd78697b9",
   "metadata": {},
   "outputs": [
    {
     "name": "stdout",
     "output_type": "stream",
     "text": [
      "The total amount of user-recipe ratings in train 698901\n",
      "The total amount of users in the user-recipe ratings train 25076\n",
      "The total amount of recipes in the user-recipe ratings train 160901\n"
     ]
    }
   ],
   "source": [
    "print(\"The total amount of user-recipe ratings in train\", len(inter_train))\n",
    "print(\"The total amount of users in the user-recipe ratings train\", len(inter_train.drop_duplicates(subset = ['user_id'])))\n",
    "print(\"The total amount of recipes in the user-recipe ratings train\", len(inter_train.drop_duplicates(subset = ['recipe_id'])))"
   ]
  },
  {
   "cell_type": "code",
   "execution_count": 18,
   "id": "88b15d34-583d-4997-ba34-d690e8f9c312",
   "metadata": {},
   "outputs": [
    {
     "data": {
      "image/png": "[encoded data removed]",
      "text/plain": [
       "<Figure size 576x432 with 1 Axes>"
      ]
     },
     "metadata": {
      "needs_background": "light"
     },
     "output_type": "display_data"
    },
    {
     "data": {
      "text/plain": [
       "count    25076.000000\n",
       "mean        27.871311\n",
       "std        122.729039\n",
       "min          2.000000\n",
       "25%          3.000000\n",
       "50%          6.000000\n",
       "75%         16.000000\n",
       "max       6437.000000\n",
       "dtype: float64"
      ]
     },
     "execution_count": 18,
     "metadata": {},
     "output_type": "execute_result"
    }
   ],
   "source": [
    "user_rating_counts = inter_train.groupby(by = ['user_id']).size().compute()\n",
    "plt.hist(user_rating_counts, bins = 100)\n",
    "plt.title(\"Distribution of Number of Ratings per User: Train Data\")\n",
    "plt.xlabel(\"Recipe Rating Counts\")\n",
    "plt.ylabel(\"Frequency\")\n",
    "plt.show()\n",
    "user_rating_counts = dd.from_array(user_rating_counts)\n",
    "user_rating_counts.describe().compute()"
   ]
  },
  {
   "cell_type": "code",
   "execution_count": 19,
   "id": "329bc956-c0bd-4313-aef0-734d647fdaf9",
   "metadata": {},
   "outputs": [
    {
     "data": {
      "image/png": "[encoded data removed]",
      "text/plain": [
       "<Figure size 576x432 with 1 Axes>"
      ]
     },
     "metadata": {
      "needs_background": "light"
     },
     "output_type": "display_data"
    },
    {
     "data": {
      "text/plain": [
       "count    160901.000000\n",
       "mean          4.343671\n",
       "std          13.421461\n",
       "min           1.000000\n",
       "25%           1.000000\n",
       "50%           2.000000\n",
       "75%           6.000000\n",
       "max        1091.000000\n",
       "dtype: float64"
      ]
     },
     "execution_count": 19,
     "metadata": {},
     "output_type": "execute_result"
    }
   ],
   "source": [
    "recipe_rate_counts = inter_train.groupby(by = ['recipe_id']).size().compute()\n",
    "plt.hist(recipe_rate_counts, bins = 100)\n",
    "plt.title(\"Distribution of Number of Ratings per Recipe: Train Data\")\n",
    "plt.xlabel(\"Recipe Rating Counts\")\n",
    "plt.ylabel(\"Frequency\")\n",
    "plt.show()\n",
    "recipe_rate_counts = dd.from_array(recipe_rate_counts)\n",
    "recipe_rate_counts.describe().compute()"
   ]
  },
  {
   "cell_type": "markdown",
   "id": "f8bfd762-f5a9-4d81-b161-4adef301cac9",
   "metadata": {},
   "source": [
    "CONCLUSION OF EDA: It appears the supplied \"interactions_train.csv\" is already a cleaned version of the raw_interactions data, but since it still has outliers rating counts and recipes that only recieved one rating, we are going to provide our own quality control and clean the raw_interactions data ourselves."
   ]
  },
  {
   "cell_type": "markdown",
   "id": "7f6a102f-8c7c-4710-a50e-b1d235addc27",
   "metadata": {},
   "source": [
    "# Part 2: Data Preparation"
   ]
  },
  {
   "cell_type": "markdown",
   "id": "05670f88-8625-496d-9412-f40d00313712",
   "metadata": {},
   "source": [
    "### Using that Information from EDA to clean the user-recipe interactions dataset"
   ]
  },
  {
   "cell_type": "markdown",
   "id": "007db849-d2e9-4fb3-87c7-3633ba53ad76",
   "metadata": {},
   "source": [
    "What we will throw out ...\n",
    "\n",
    "(1) Users that rated more than 100 recipes and less than 4\n",
    "\n",
    "(2) Users that had an average rating of less than 2.5\n",
    "\n",
    "(3) Recipes that had less than 2 ratings\n",
    "\n",
    "(4) Recipes that had an average rating less than 2.5"
   ]
  },
  {
   "cell_type": "code",
   "execution_count": 21,
   "id": "5c8eb770-995b-48b8-92f1-e1b9ecf05af8",
   "metadata": {},
   "outputs": [],
   "source": [
    "user_rating_counts = raw_inter.groupby(by = ['user_id']).size().compute()\n",
    "user_rating_means = raw_inter.groupby(by = ['user_id'])['rating'].mean().compute()\n",
    "recipe_rating_counts = raw_inter.groupby(by = ['recipe_id']).size().compute()\n",
    "recipe_rating_means = raw_inter.groupby(by = ['recipe_id'])['rating'].mean().compute()"
   ]
  },
  {
   "cell_type": "markdown",
   "id": "f197f8f5-0e97-4461-b27e-e7c4c0528079",
   "metadata": {},
   "source": [
    "First looking at the total amount of users, total amount of recipes, and total interactions in the user-recipe rating dataset"
   ]
  },
  {
   "cell_type": "code",
   "execution_count": 23,
   "id": "24454e9b-57a5-4743-aad5-d744b84ee606",
   "metadata": {},
   "outputs": [
    {
     "name": "stdout",
     "output_type": "stream",
     "text": [
      "The total amount of user-recipe ratings 1132367\n",
      "The total amount of users in the user-recipe ratings 226570\n",
      "The total amount of recipes in the user-recipe ratings 231637\n"
     ]
    }
   ],
   "source": [
    "print(\"The total amount of user-recipe ratings\", len(raw_inter))\n",
    "print(\"The total amount of users in the user-recipe ratings\", len(raw_inter.drop_duplicates(subset = ['user_id'])))\n",
    "print(\"The total amount of recipes in the user-recipe ratings\", len(raw_inter.drop_duplicates(subset = ['recipe_id'])))"
   ]
  },
  {
   "cell_type": "markdown",
   "id": "4394076e-f797-4116-991b-3ba7ebe97114",
   "metadata": {},
   "source": [
    "Cleaning and examining how much the raw interactions dataset get preserved when throwing out data"
   ]
  },
  {
   "cell_type": "code",
   "execution_count": 24,
   "id": "1dc3c9cd-acab-474e-be86-b5d1146cb866",
   "metadata": {},
   "outputs": [
    {
     "name": "stdout",
     "output_type": "stream",
     "text": [
      "The total amount of clean user-recipe ratings 353281\n",
      "The total amount of clean users in the user-recipe ratings 26329\n",
      "The total amount of clean recipes in the user-recipe ratings 87595\n"
     ]
    }
   ],
   "source": [
    "good_users1 = user_rating_counts[(user_rating_counts <= 100) & (user_rating_counts >= 4)]\n",
    "good_users2 = user_rating_means[user_rating_means >= 2.5]\n",
    "good_users = good_users1.index.intersection(good_users2.index)\n",
    "good_user_ids = [user_id for user_id in good_users]\n",
    "\n",
    "good_recipes1 = recipe_rating_counts[(recipe_rating_counts >= 2)]\n",
    "good_recipes2 = recipe_rating_means[recipe_rating_means >= 2.5]\n",
    "good_recipes = good_recipes1.index.intersection(good_recipes2.index)\n",
    "good_recipe_ids = [recipe_id for recipe_id in good_recipes]\n",
    "\n",
    "raw_inter_cleaned = raw_inter[(raw_inter['user_id'].isin(good_user_ids)) & (raw_inter['recipe_id'].isin(good_recipe_ids))]\n",
    "raw_inter_cleaned = raw_inter_cleaned.drop(columns = ['date', 'review'])\n",
    "raw_inter_cleaned = raw_inter_cleaned.dropna()\n",
    "\n",
    "print(\"The total amount of clean user-recipe ratings\", len(raw_inter_cleaned))\n",
    "print(\"The total amount of clean users in the user-recipe ratings\", len(raw_inter_cleaned.drop_duplicates(subset = ['user_id'])))\n",
    "print(\"The total amount of clean recipes in the user-recipe ratings\", len(raw_inter_cleaned.drop_duplicates(subset = ['recipe_id'])))"
   ]
  },
  {
   "cell_type": "markdown",
   "id": "813fc7a0-c042-42ff-b97f-f5d0a9fb0321",
   "metadata": {},
   "source": [
    "Convert the cleaned interactions dask dataframe to pandas and save as a CSV. This will be loaded into a pyspark or dask dataframe later for creating the recommender system"
   ]
  },
  {
   "cell_type": "code",
   "execution_count": 25,
   "id": "5b89e31f-0339-44a4-a9ac-7f58321c9f39",
   "metadata": {},
   "outputs": [],
   "source": [
    "raw_inter_cleaned = raw_inter_cleaned.compute()\n",
    "raw_inter_cleaned.to_csv(\"data/interactions_train_cleaned.csv\", index = False)"
   ]
  },
  {
   "cell_type": "markdown",
   "id": "49439fdd-cc51-42cd-8592-ef3d19c8e035",
   "metadata": {},
   "source": [
    "# Part 3: Recipe Recommender Modeling"
   ]
  },
  {
   "cell_type": "markdown",
   "id": "e278673b-99e0-4d3b-b39b-3f2988d3161d",
   "metadata": {},
   "source": [
    "This runs the recommender models on the cleaned user-recipes interactions datasets and applies the various evaluation metrics for evaluating the results of our recommendations."
   ]
  },
  {
   "cell_type": "markdown",
   "id": "acfe085e-7fb3-497f-9281-974a3f365194",
   "metadata": {},
   "source": [
    "### Start Spark Session"
   ]
  },
  {
   "cell_type": "code",
   "execution_count": 1,
   "id": "fca97642-c220-4abe-9715-c1d3ca144135",
   "metadata": {},
   "outputs": [
    {
     "name": "stderr",
     "output_type": "stream",
     "text": [
      "WARNING: An illegal reflective access operation has occurred\n",
      "WARNING: Illegal reflective access by org.apache.spark.unsafe.Platform (file:/usr/spark-3.2.1/jars/spark-unsafe_2.12-3.2.1.jar) to constructor java.nio.DirectByteBuffer(long,int)\n",
      "WARNING: Please consider reporting this to the maintainers of org.apache.spark.unsafe.Platform\n",
      "WARNING: Use --illegal-access=warn to enable warnings of further illegal reflective access operations\n",
      "WARNING: All illegal access operations will be denied in a future release\n",
      "Setting default log level to \"WARN\".\n",
      "To adjust logging level use sc.setLogLevel(newLevel). For SparkR, use setLogLevel(newLevel).\n",
      "2022-05-26 20:56:52,658 WARN util.NativeCodeLoader: Unable to load native-hadoop library for your platform... using builtin-java classes where applicable\n"
     ]
    }
   ],
   "source": [
    "# Code from https://spark.apache.org/docs/2.2.0/ml-collaborative-filtering.html\n",
    "import pyspark\n",
    "from pyspark.ml.evaluation import RegressionEvaluator\n",
    "from pyspark.ml.recommendation import ALS\n",
    "from pyspark.sql import Row\n",
    "from pyspark.sql import SparkSession\n",
    "from pyspark.sql.functions import col\n",
    "\n",
    "\n",
    "conf = pyspark.SparkConf().setAll([('spark.master', 'local[2]'),\n",
    "                                   ('spark.app.name', 'Recommender Results')])\n",
    "spark = SparkSession.builder.config(conf=conf).getOrCreate()"
   ]
  },
  {
   "cell_type": "markdown",
   "id": "b12725ea-7ddb-4b52-961c-d1ccfe163988",
   "metadata": {},
   "source": [
    "### Read in cleaned user-recipes interactions data frame"
   ]
  },
  {
   "cell_type": "code",
   "execution_count": 2,
   "id": "f9446bfa-c35f-4f42-bb8c-bcc126be3c83",
   "metadata": {},
   "outputs": [
    {
     "name": "stderr",
     "output_type": "stream",
     "text": [
      "                                                                                \r"
     ]
    },
    {
     "name": "stdout",
     "output_type": "stream",
     "text": [
      "+-------+---------+------+\n",
      "|user_id|recipe_id|rating|\n",
      "+-------+---------+------+\n",
      "|  38094|    40893|     4|\n",
      "|1293707|    40893|     5|\n",
      "| 190375|   134728|     5|\n",
      "|1171894|   134728|     5|\n",
      "| 217118|   200236|     5|\n",
      "| 202555|   225241|     5|\n",
      "| 684460|   225241|     5|\n",
      "| 135017|   254596|     5|\n",
      "| 224088|   254596|     4|\n",
      "| 582223|   254596|     5|\n",
      "| 935485|   321038|     5|\n",
      "| 102602|    20930|     5|\n",
      "| 172467|    29093|     5|\n",
      "|  58332|    41090|     4|\n",
      "| 160497|    41090|     5|\n",
      "| 183565|    79222|     5|\n",
      "| 349752|    79222|     5|\n",
      "| 226989|    79222|     4|\n",
      "| 868654|    79222|     5|\n",
      "| 302867|    79222|     5|\n",
      "+-------+---------+------+\n",
      "only showing top 20 rows\n",
      "\n"
     ]
    }
   ],
   "source": [
    "file_path = 'file:///home/work/data/interactions_train_cleaned.csv'\n",
    "ratings = spark.read.csv(file_path, inferSchema = True, header = True)\n",
    "ratings.show()"
   ]
  },
  {
   "cell_type": "markdown",
   "id": "6d39fcaf-827f-42ad-8d5f-d5924b56c8c3",
   "metadata": {},
   "source": [
    "### Random split and normalize training and testing"
   ]
  },
  {
   "cell_type": "code",
   "execution_count": 3,
   "id": "f9c1390e-70b8-43c4-b77e-70cf23005e5b",
   "metadata": {},
   "outputs": [
    {
     "name": "stderr",
     "output_type": "stream",
     "text": [
      "[Stage 6:=============================>                             (1 + 1) / 2]\r"
     ]
    },
    {
     "name": "stdout",
     "output_type": "stream",
     "text": [
      "4.528296282676417 1.0749342175231047\n"
     ]
    },
    {
     "name": "stderr",
     "output_type": "stream",
     "text": [
      "                                                                                \r"
     ]
    }
   ],
   "source": [
    "(unnorm_training, unnorm_test) = ratings.randomSplit([0.8, 0.2])\n",
    "mean = unnorm_training.agg({'rating': 'mean'}).collect()[0][0]\n",
    "std = unnorm_training.agg({'rating': 'std'}).collect()[0][0]\n",
    "print(mean, std)\n",
    "training = unnorm_training.withColumn(\"rating\", (col(\"rating\") - mean) / std)\n",
    "test = unnorm_test.withColumn(\"rating\", (col(\"rating\") - mean) / std)"
   ]
  },
  {
   "cell_type": "markdown",
   "id": "ce58b811-8483-45a3-a28a-4aa5e89b6d99",
   "metadata": {},
   "source": [
    "## (3a) Modeling With the ALS Collaborative Filtering, pyspark"
   ]
  },
  {
   "cell_type": "markdown",
   "id": "920001a9-a524-4735-a88a-19e250450144",
   "metadata": {},
   "source": [
    "This was our first model that we tried out for building the recommender system.  It take the user-recipe rating data and build and ALS collaborative filtering model to predict the rating a user will give a recipe.  The predicted ratings can be used for choosing recommendations"
   ]
  },
  {
   "cell_type": "markdown",
   "id": "475250e7-69d3-4dec-b19e-707fd36c620c",
   "metadata": {},
   "source": [
    "### Generate recipe recommendations with the collaborative filtering model and evaluate with RMSE"
   ]
  },
  {
   "cell_type": "markdown",
   "id": "97a5d8f5-90de-4c16-9ab7-fabcc31297a5",
   "metadata": {},
   "source": [
    "Fit collaborative filtering model"
   ]
  },
  {
   "cell_type": "code",
   "execution_count": 4,
   "id": "3bceeae7-ed5b-483d-b253-5a2a75c35175",
   "metadata": {},
   "outputs": [
    {
     "name": "stderr",
     "output_type": "stream",
     "text": [
      "2022-05-26 20:57:26,122 WARN netlib.InstanceBuilder$NativeBLAS: Failed to load implementation from:dev.ludovic.netlib.blas.JNIBLAS\n",
      "2022-05-26 20:57:26,126 WARN netlib.InstanceBuilder$NativeBLAS: Failed to load implementation from:dev.ludovic.netlib.blas.ForeignLinkerBLAS\n",
      "2022-05-26 20:57:26,875 WARN netlib.InstanceBuilder$NativeLAPACK: Failed to load implementation from:dev.ludovic.netlib.lapack.JNILAPACK\n",
      "                                                                                \r"
     ]
    }
   ],
   "source": [
    "# Setting cold start strategy to 'drop' to ensure we don't get NaN evaluation metrics\n",
    "als = ALS(rank=200, maxIter=20, regParam=0.125, userCol=\"user_id\", itemCol=\"recipe_id\", ratingCol=\"rating\",\n",
    "          coldStartStrategy=\"drop\")\n",
    "model = als.fit(training)"
   ]
  },
  {
   "cell_type": "markdown",
   "id": "43c8cbe8-9783-489c-8f71-22f3d1a0bb7d",
   "metadata": {},
   "source": [
    "Evaluate model with MSE"
   ]
  },
  {
   "cell_type": "code",
   "execution_count": 5,
   "id": "298fc57d-289a-4e67-aafb-cc7c91ce4f7d",
   "metadata": {},
   "outputs": [
    {
     "name": "stderr",
     "output_type": "stream",
     "text": [
      "                                                                                \r"
     ]
    },
    {
     "name": "stdout",
     "output_type": "stream",
     "text": [
      "The MSE of the recommender model is 1.1653953509773878\n"
     ]
    },
    {
     "name": "stderr",
     "output_type": "stream",
     "text": [
      "[Stage 250:============================>                            (1 + 1) / 2]\r"
     ]
    },
    {
     "name": "stdout",
     "output_type": "stream",
     "text": [
      "+-------+---------+------+------------------+\n",
      "|user_id|recipe_id|rating|        prediction|\n",
      "+-------+---------+------+------------------+\n",
      "| 269153|       81|   5.0| 4.602834605888442|\n",
      "| 194829|       91|   5.0|  4.69349830451431|\n",
      "| 983811|       94|   5.0| 4.560909103137501|\n",
      "| 242779|      112|   4.0| 4.372207505898415|\n",
      "| 985729|      120|   5.0| 4.541292287770022|\n",
      "| 210805|      120|   4.0|4.5235986752559985|\n",
      "| 244432|      120|   5.0| 4.712666014702365|\n",
      "| 797995|      142|   5.0|  4.47969147076047|\n",
      "| 121354|      142|   2.0| 4.537968124371443|\n",
      "| 914114|      142|   4.0| 4.692453817895429|\n",
      "|1386579|      142|   5.0| 4.668417234807098|\n",
      "| 983723|      185|   5.0| 4.551251476210506|\n",
      "| 804978|      191|   5.0|4.6429283126809615|\n",
      "|  91326|      192|   4.0| 4.555030978703609|\n",
      "|  94740|      192|   5.0|  4.63869515295898|\n",
      "| 126469|      192|   5.0| 4.595370566244551|\n",
      "|  91724|      197|   5.0| 4.366695663770921|\n",
      "|  27452|      210|   5.0| 4.576294329525376|\n",
      "| 340099|      232|   5.0|  4.66982663821765|\n",
      "|  34357|      246|   4.0| 4.577215339174815|\n",
      "+-------+---------+------+------------------+\n",
      "only showing top 20 rows\n",
      "\n"
     ]
    },
    {
     "name": "stderr",
     "output_type": "stream",
     "text": [
      "                                                                                \r"
     ]
    }
   ],
   "source": [
    "normalized_predictions = model.transform(test)\n",
    "predictions = normalized_predictions.withColumn(\n",
    "    \"rating\",col(\"rating\") * std + mean\n",
    ").withColumn(\n",
    "    \"prediction\",col(\"prediction\") * std + mean\n",
    ")\n",
    "evaluator = RegressionEvaluator(metricName=\"mse\", labelCol=\"rating\",\n",
    "                                predictionCol=\"prediction\")\n",
    "\n",
    "mse = evaluator.evaluate(predictions)\n",
    "print(\"The MSE of the recommender model is\", mse)\n",
    "predictions.show()"
   ]
  },
  {
   "cell_type": "markdown",
   "id": "980eaac0-e734-4f8f-a4c2-922660684683",
   "metadata": {},
   "source": [
    "## Evaluation Metrics"
   ]
  },
  {
   "cell_type": "markdown",
   "id": "ccd2f498-5b55-4522-89b2-5ecd53eb5c85",
   "metadata": {},
   "source": [
    "We will load in the RecEvalMetrics object and thoroughly evaluate the recipe recommender system with various evaluation metrics."
   ]
  },
  {
   "cell_type": "code",
   "execution_count": 3,
   "id": "2f0c8063-e655-4c74-b906-67878947c302",
   "metadata": {},
   "outputs": [
    {
     "name": "stdout",
     "output_type": "stream",
     "text": [
      "Collecting rbo\n",
      "  Downloading rbo-0.1.2-py3-none-any.whl (7.5 kB)\n",
      "Requirement already satisfied: numpy<2.0,>=1.18 in /usr/local/lib/python3.8/dist-packages (from rbo) (1.21.0)\n",
      "Installing collected packages: rbo\n",
      "Successfully installed rbo-0.1.2\n",
      "Note: you may need to restart the kernel to use updated packages.\n"
     ]
    }
   ],
   "source": [
    "pip install rbo"
   ]
  },
  {
   "cell_type": "code",
   "execution_count": 4,
   "id": "d6b8ae6a-244a-48e8-8903-ff88519cc2b9",
   "metadata": {},
   "outputs": [],
   "source": [
    "# !pip install rbo\n",
    "\n",
    "from functools import reduce\n",
    "from scipy.stats import kendalltau\n",
    "from scipy.stats import spearmanr\n",
    "from sklearn.metrics import mean_squared_error, ndcg_score\n",
    "import pandas as pd\n",
    "import numpy as np\n",
    "import rbo\n",
    "\n",
    "class RecEvalMetrics(object):\n",
    "\n",
    "\n",
    "    # Takes user-recipe rating predictions dataframe, returns mean squarred error for top k\n",
    "    # recipes of each user predicted ratings\n",
    "    \"\"\" Parameters:\n",
    "        predictions: Dataframe of true and predicted ratings, default 20\n",
    "        k: Top k predicted ratings to evaluate with mse\n",
    "    \"\"\"\n",
    "    @staticmethod\n",
    "    def top_k_evaluation(predictions, k = 20):\n",
    "        users = list(predictions.drop_duplicates(subset = ['user_id'])['user_id'])\n",
    "        top_k_predictions = []\n",
    "        \n",
    "        for user in users:\n",
    "            user_ratings = predictions[(predictions['user_id'] == user)]\n",
    "            top_k_user_ratings =  user_ratings.sort_values(by = ['prediction'], ascending = False).head(k)\n",
    "            top_k_predictions.append(top_k_user_ratings)\n",
    "        top_k_predictions_df = pd.concat(top_k_predictions, ignore_index = True)\n",
    "        \n",
    "        k_mse = mean_squared_error(list(top_k_predictions_df['rating']), list(top_k_predictions_df['prediction']))\n",
    "        \n",
    "        return(k_mse) \n",
    "\n",
    "\n",
    "    # Takes in user-recipe rating predictions dataframe, returns percent of recipes that ended\n",
    "    # up in someone's top k.  Larger value means more personalization\n",
    "    \"\"\" Parameters:\n",
    "        predictions: Dataframe of true and predicted ratings\n",
    "        k: Top k recipes to count in percentage, default 20\n",
    "    \"\"\"\n",
    "    @staticmethod\n",
    "    def percent_in_top_ratings(predictions, k = 20):\n",
    "        total_recipes = len(predictions.drop_duplicates(subset = ['recipe_id']))\n",
    "        users = list(predictions.drop_duplicates(subset = ['user_id'])['user_id'])\n",
    "\n",
    "        top_k_predictions = set()\n",
    "        for user in users:\n",
    "            user_ratings = predictions[(predictions['user_id'] == user)]\n",
    "            user_pred_ordered = list(user_ratings.sort_values(by = ['prediction'], ascending = False)['recipe_id'])\n",
    "            top_k_user_recipes = user_pred_ordered[:k]\n",
    "            top_k_predictions.update(top_k_user_recipes)\n",
    "\n",
    "        top_recipes_count = len(top_k_predictions)\n",
    "\n",
    "        return(top_recipes_count/total_recipes)\n",
    "\n",
    "\n",
    "    # Take in user-recipe rating predictios dataframe, returns ranked biased overlap\n",
    "    # between top k predicted ratings and top k actual ratings\n",
    "    # Refer to: https://github.com/changyaochen/rbo\n",
    "    \"\"\" Parametes:\n",
    "        predictions: Dataframe of true and predicted ratings\n",
    "        k: Number of k recipes in the ranked list to evaluate with RBO, default 20\n",
    "    \"\"\"\n",
    "    @staticmethod\n",
    "    def rbo_evaluation(predictions, k = 20):\n",
    "        users = list(predictions.drop_duplicates(subset = ['user_id'])['user_id'])\n",
    "\n",
    "        rbos = []\n",
    "        for user in users:\n",
    "            user_ratings = predictions[(predictions['user_id'] == user)]\n",
    "            user_actual_ordered = list(user_ratings.sort_values(by = ['rating'], ascending = False)['recipe_id'])\n",
    "            user_pred_ordered = list(user_ratings.sort_values(by = ['prediction'], ascending = False)['recipe_id'])\n",
    "            top_k_user_actual = user_actual_ordered[:k]\n",
    "            top_k_user_pred = user_pred_ordered[:k]\n",
    "            user_rbo = rbo.RankingSimilarity(top_k_user_actual, top_k_user_pred).rbo()\n",
    "            rbos.append(user_rbo)\n",
    "        \n",
    "        rbos_describe = pd.DataFrame(rbos)\n",
    "        return(rbos_describe.describe())\n",
    "\n",
    "\n",
    "    # Takes in user-recipe rating predictions dataframe, returns the Kendalls Tau evaluation\n",
    "    # between actual ratings and predicted ratings\n",
    "    \"\"\" Parameters:\n",
    "        predictions: Dataframe of true and predicted ratings\t\n",
    "    \"\"\"\n",
    "    @staticmethod\n",
    "    def kendalls_tau(predictions):\n",
    "        users = list(predictions.drop_duplicates(subset = ['user_id'])['user_id'])\n",
    "\n",
    "        tau = []\n",
    "        i = 0\n",
    "        for user in users:\n",
    "            user_ratings = predictions[(predictions['user_id'] == user)]\n",
    "            # Kendall's Tau will not work with list of size 1\n",
    "            if (len(user_ratings) > 1):\n",
    "                user_actual_ordered = list(user_ratings.sort_values(by = ['rating'], ascending = False)['recipe_id'])\n",
    "                user_pred_ordered = list(user_ratings.sort_values(by = ['prediction'], ascending = False)['recipe_id'])\n",
    "                user_tau, user_p_value = kendalltau(user_actual_ordered, user_pred_ordered)\n",
    "                tau.append(user_tau)\n",
    "    \n",
    "        tau_describe = pd.DataFrame(tau)\n",
    "        return(tau_describe.describe())\n",
    "\n",
    "\n",
    "    # Takes in user-recipe rating predictions dataframe, returns the normalized discounted cummulative gain\n",
    "    # evaluation between actual ratings and predicted ratings\n",
    "    \"\"\" Parameters:\n",
    "        predictions: Dataframe of ture and predicted ratings\n",
    "        k: Number of k recipes in the ranked list to evaluate, default None\t\n",
    "    \"\"\"\n",
    "    @staticmethod\n",
    "    def nDCG_evaluation(predictions, k = None):\n",
    "        users = list(predictions.drop_duplicates(subset = ['user_id'])['user_id'])\n",
    "\n",
    "        ndcg = []\n",
    "        for user in users:\n",
    "            user_ratings = predictions[(predictions['user_id'] == user)]\n",
    "            if (len(user_ratings) > 1):\n",
    "                relevance = np.asarray([list(user_ratings['rating'])])\n",
    "                preds = np.asarray([list(user_ratings['prediction'])])\n",
    "                score = ndcg_score(relevance, preds, k=k)\n",
    "                ndcg.append(score)\n",
    "        \n",
    "        ndcg_describe = pd.DataFrame(ndcg)\n",
    "        return(ndcg_describe.describe())\n",
    "    \n",
    "    # Takes in user-recipe rating predictions dataframe, returns the Spearman Rank Correlation\n",
    "    # evaluation between actual ratings and predicted ratings\n",
    "    \"\"\" Parameters:\n",
    "        predictions: Dataframe of ture and predicted ratings\n",
    "    \"\"\"\n",
    "    @staticmethod\n",
    "    def spearman_evaluation(predictions, k = None):\n",
    "        users = list(predictions.drop_duplicates(subset = ['user_id'])['user_id'])\n",
    "\n",
    "        rhos = []\n",
    "        for user in users:\n",
    "            user_ratings = predictions[(predictions['user_id'] == user)]\n",
    "            if (len(user_ratings) > 1):\n",
    "                ratings = np.asarray(user_ratings['rating'])\n",
    "                preds = np.asarray(user_ratings['prediction'])\n",
    "                rho, pval = spearmanr(ratings, preds)\n",
    "                rhos.append(rho)\n",
    "        \n",
    "        rho_describe = pd.DataFrame(rhos)\n",
    "        return(rho_describe.describe())"
   ]
  },
  {
   "cell_type": "markdown",
   "id": "595de524-035e-4d09-b7e1-8b2b2678ee2f",
   "metadata": {},
   "source": [
    "Conver the predictions pyspark dataframe to a pandas dataframe for feeding into metrics evaluations. NOTE: We're doing this to keep the eval_metrics object generalized so that it could also accept dask results following conversion"
   ]
  },
  {
   "cell_type": "code",
   "execution_count": 8,
   "id": "55b8594c-ca91-4a22-9121-22c9b5e9e79d",
   "metadata": {},
   "outputs": [
    {
     "name": "stderr",
     "output_type": "stream",
     "text": [
      "                                                                                \r"
     ]
    }
   ],
   "source": [
    "predictions_df = predictions.toPandas()"
   ]
  },
  {
   "cell_type": "markdown",
   "id": "7d5385dc-04b0-4706-93e2-8a481f57b0fe",
   "metadata": {},
   "source": [
    "### Top 10 MSE"
   ]
  },
  {
   "cell_type": "code",
   "execution_count": 9,
   "id": "f93e6407-d2da-4218-b9e7-196da986e854",
   "metadata": {},
   "outputs": [
    {
     "name": "stdout",
     "output_type": "stream",
     "text": [
      "The top 10 MSE: 1.1704301836355948\n"
     ]
    }
   ],
   "source": [
    "k_mse = RecEvalMetrics.top_k_evaluation(predictions_df, 10)\n",
    "print(\"The top 10 MSE:\", k_mse)"
   ]
  },
  {
   "cell_type": "markdown",
   "id": "ab60e3b6-1c39-4fe9-96d4-8ea4b13c0859",
   "metadata": {},
   "source": [
    "### Percent in top 10 (Personalization Assessment)"
   ]
  },
  {
   "cell_type": "code",
   "execution_count": 10,
   "id": "b8f030be-36fa-4969-a11d-843275186214",
   "metadata": {},
   "outputs": [
    {
     "name": "stdout",
     "output_type": "stream",
     "text": [
      "The percent of recipes that are in some users top 10: 0.9667492451807695\n"
     ]
    }
   ],
   "source": [
    "percent_in_top = RecEvalMetrics.percent_in_top_ratings(predictions_df, 10)\n",
    "print(\"The percent of recipes that are in some users top 10:\", percent_in_top)"
   ]
  },
  {
   "cell_type": "markdown",
   "id": "9f329733-f764-4545-b894-aa49e3433245",
   "metadata": {},
   "source": [
    "### Ranked Biased Overlap, top 10"
   ]
  },
  {
   "cell_type": "code",
   "execution_count": 11,
   "id": "20f86f4f-9195-451e-9559-047b3193cbdf",
   "metadata": {},
   "outputs": [
    {
     "name": "stdout",
     "output_type": "stream",
     "text": [
      "                  0\n",
      "count  19689.000000\n",
      "mean       0.789514\n",
      "std        0.237714\n",
      "min        0.074722\n",
      "25%        0.500000\n",
      "50%        1.000000\n",
      "75%        1.000000\n",
      "max        1.000000\n"
     ]
    }
   ],
   "source": [
    "rbo_summary = RecEvalMetrics.rbo_evaluation(predictions_df, 10)\n",
    "print(rbo_summary)"
   ]
  },
  {
   "cell_type": "markdown",
   "id": "01e1adb5-0a5e-4388-bbba-a5c95b98eed1",
   "metadata": {},
   "source": [
    "### Kendall's Tau"
   ]
  },
  {
   "cell_type": "code",
   "execution_count": 12,
   "id": "af09b974-bd94-44b5-a6ad-e125ff653470",
   "metadata": {},
   "outputs": [
    {
     "name": "stdout",
     "output_type": "stream",
     "text": [
      "                  0\n",
      "count  12307.000000\n",
      "mean       0.022708\n",
      "std        0.719843\n",
      "min       -1.000000\n",
      "25%       -0.523810\n",
      "50%        0.000000\n",
      "75%        0.666667\n",
      "max        1.000000\n"
     ]
    }
   ],
   "source": [
    "kendalls_tau_summary = RecEvalMetrics.kendalls_tau(predictions_df)\n",
    "print(kendalls_tau_summary)"
   ]
  },
  {
   "cell_type": "markdown",
   "id": "835a285b-413a-4d62-85db-4bbac2e77d94",
   "metadata": {},
   "source": [
    "### Normalized Discounted Cummulative Gain"
   ]
  },
  {
   "cell_type": "code",
   "execution_count": 13,
   "id": "538b9d9e-6c2c-4de0-b8c2-5654d354b21c",
   "metadata": {},
   "outputs": [
    {
     "name": "stdout",
     "output_type": "stream",
     "text": [
      "                  0\n",
      "count  12307.000000\n",
      "mean       0.968341\n",
      "std        0.072958\n",
      "min        0.000000\n",
      "25%        0.962559\n",
      "50%        1.000000\n",
      "75%        1.000000\n",
      "max        1.000000\n"
     ]
    }
   ],
   "source": [
    "ndcg_summary = RecEvalMetrics.nDCG_evaluation(predictions_df, 10)\n",
    "print(ndcg_summary)"
   ]
  },
  {
   "cell_type": "markdown",
   "id": "e544dc8e-dd61-4d3f-8803-861afc4c272e",
   "metadata": {},
   "source": [
    "### Spearman Rank Correlation"
   ]
  },
  {
   "cell_type": "code",
   "execution_count": 14,
   "id": "6b868e2f-bc4e-4f5e-9605-4eda68998b90",
   "metadata": {},
   "outputs": [
    {
     "name": "stderr",
     "output_type": "stream",
     "text": [
      "/usr/local/lib/python3.8/dist-packages/scipy/stats/_stats_py.py:4529: SpearmanRConstantInputWarning: An input array is constant; the correlation coefficient is not defined.\n",
      "  warnings.warn(SpearmanRConstantInputWarning())\n"
     ]
    },
    {
     "name": "stdout",
     "output_type": "stream",
     "text": [
      "                 0\n",
      "count  6546.000000\n",
      "mean      0.024474\n",
      "std       0.679178\n",
      "min      -1.000000\n",
      "25%      -0.518637\n",
      "50%       0.000000\n",
      "75%       0.632456\n",
      "max       1.000000\n"
     ]
    }
   ],
   "source": [
    "spearman_summary = RecEvalMetrics.spearman_evaluation(predictions_df)\n",
    "print(spearman_summary)"
   ]
  },
  {
   "cell_type": "markdown",
   "id": "b3be5fb7-23a2-403d-97eb-7a4f62ed8815",
   "metadata": {},
   "source": [
    "## (3b) Modeling with the Similarity Scorer and Averaging, dask"
   ]
  },
  {
   "cell_type": "markdown",
   "id": "7a740208-9306-4758-8718-fcc0efd9776e",
   "metadata": {},
   "source": [
    "This uses an alternative approach to predicting user ratings through similarity scoring metrics and includes different types of rating averaging for baseline evaluation.  This part is done in dask."
   ]
  },
  {
   "cell_type": "code",
   "execution_count": 5,
   "id": "902d2e33-20b7-464b-94c0-7fa492f98f80",
   "metadata": {},
   "outputs": [
    {
     "name": "stdout",
     "output_type": "stream",
     "text": [
      "Collecting sparse\n",
      "  Downloading sparse-0.13.0-py2.py3-none-any.whl (77 kB)\n",
      "\u001b[K     |████████████████████████████████| 77 kB 6.1 MB/s eta 0:00:011\n",
      "\u001b[?25hRequirement already satisfied: numba>=0.49 in /usr/local/lib/python3.8/dist-packages (from sparse) (0.55.1)\n",
      "Requirement already satisfied: numpy>=1.17 in /usr/local/lib/python3.8/dist-packages (from sparse) (1.21.0)\n",
      "Requirement already satisfied: scipy>=0.19 in /usr/local/lib/python3.8/dist-packages (from sparse) (1.8.0)\n",
      "Requirement already satisfied: llvmlite<0.39,>=0.38.0rc1 in /usr/local/lib/python3.8/dist-packages (from numba>=0.49->sparse) (0.38.0)\n",
      "Requirement already satisfied: setuptools in /usr/lib/python3/dist-packages (from numba>=0.49->sparse) (45.2.0)\n",
      "Installing collected packages: sparse\n",
      "Successfully installed sparse-0.13.0\n",
      "Note: you may need to restart the kernel to use updated packages.\n"
     ]
    }
   ],
   "source": [
    "pip install sparse"
   ]
  },
  {
   "cell_type": "code",
   "execution_count": 1,
   "id": "c6c87ec0-6fee-4c93-9d68-36cae314fafb",
   "metadata": {},
   "outputs": [
    {
     "name": "stderr",
     "output_type": "stream",
     "text": [
      "2022-05-26 00:20:47,486 - distributed.diskutils - INFO - Found stale lock file and directory '/home/work/dask-worker-space/worker-1k2guxok', purging\n",
      "2022-05-26 00:20:47,496 - distributed.diskutils - INFO - Found stale lock file and directory '/home/work/dask-worker-space/worker-ab10wnq0', purging\n",
      "2022-05-26 00:20:47,509 - distributed.diskutils - INFO - Found stale lock file and directory '/home/work/dask-worker-space/worker-k8nzx1qj', purging\n"
     ]
    }
   ],
   "source": [
    "import dask\n",
    "import dask.array as da\n",
    "import dask.dataframe as dd\n",
    "import sparse\n",
    "import dask_ml\n",
    "import time\n",
    "\n",
    "import numpy as np\n",
    "import pandas as pd\n",
    "\n",
    "from dask.distributed import Client\n",
    "client = Client(memory_limit='6GB')"
   ]
  },
  {
   "cell_type": "code",
   "execution_count": 2,
   "id": "dce05280-3b58-4acc-b646-9b280b4e066d",
   "metadata": {},
   "outputs": [
    {
     "name": "stdout",
     "output_type": "stream",
     "text": [
      "308015 34001\n"
     ]
    }
   ],
   "source": [
    "seed = 25\n",
    "ddf = dd.read_csv(\"data/interactions_train_cleaned.csv\")\n",
    "train, val = dask_ml.model_selection.train_test_split(ddf, test_size=0.1, train_size=0.9,shuffle=True,random_state=seed)\n",
    "print(len(train), len(val))"
   ]
  },
  {
   "cell_type": "markdown",
   "id": "92a1885c-4aef-469a-8359-b3e0c604f8e2",
   "metadata": {},
   "source": [
    "### Using Averages as Predicted Ratings:"
   ]
  },
  {
   "cell_type": "markdown",
   "id": "38bf6eab-39e5-40ea-96d1-fe5f5a77d267",
   "metadata": {},
   "source": [
    "Computing rating average and rating standard deviation ..."
   ]
  },
  {
   "cell_type": "code",
   "execution_count": 3,
   "id": "0e5b7672-8166-4ed9-ae4d-0422b28f9375",
   "metadata": {},
   "outputs": [
    {
     "name": "stdout",
     "output_type": "stream",
     "text": [
      "4.671889356037855 0.7121078429179404\n"
     ]
    }
   ],
   "source": [
    "rating_avg = train.rating.mean().compute()\n",
    "rating_std = train.rating.std().compute()\n",
    "print(rating_avg, rating_std)"
   ]
  },
  {
   "cell_type": "markdown",
   "id": "f74f70e5-ef70-4660-b8c0-fb92111a9f17",
   "metadata": {},
   "source": [
    "### Baseline 1: Predict using global average rating among all users"
   ]
  },
  {
   "cell_type": "markdown",
   "id": "c0c45f80-9b78-46e9-ba5d-79d71f3f58ee",
   "metadata": {},
   "source": [
    "How well would a model perform with just rating averages as predictions?"
   ]
  },
  {
   "cell_type": "code",
   "execution_count": 4,
   "id": "023f8425-0435-476c-831f-d346b9e82114",
   "metadata": {},
   "outputs": [
    {
     "name": "stdout",
     "output_type": "stream",
     "text": [
      "0.5169555594737777\n"
     ]
    }
   ],
   "source": [
    "val[\"prediction\"] = rating_avg\n",
    "print(dask_ml.metrics.mean_squared_error(val.rating.to_dask_array(), val.prediction.to_dask_array()))"
   ]
  },
  {
   "cell_type": "markdown",
   "id": "6d1e5f70-8092-4a73-a09c-cd8bb9e903b8",
   "metadata": {},
   "source": [
    "### Baseline 2: Predict using average rating for each user"
   ]
  },
  {
   "cell_type": "code",
   "execution_count": 5,
   "id": "9c6c0160-4186-403a-8eb9-8f9f45e8c5d8",
   "metadata": {},
   "outputs": [
    {
     "name": "stdout",
     "output_type": "stream",
     "text": [
      "0.4964676076844779\n"
     ]
    }
   ],
   "source": [
    "user_avgs = train.groupby(\"user_id\").rating.mean().compute()\n",
    "val[\"prediction\"] = val.user_id.apply(\n",
    "    lambda x: user_avgs[x] if x in user_avgs else rating_avg, \n",
    "    meta=('user_id', 'int64')\n",
    ")\n",
    "print(dask_ml.metrics.mean_squared_error(val.rating.to_dask_array(), val.prediction.to_dask_array()))"
   ]
  },
  {
   "cell_type": "markdown",
   "id": "d2cbf648-a754-4e80-8260-2263d6ea095c",
   "metadata": {},
   "source": [
    "### Baseline 3: Predict using average rating for each user, bayesian style"
   ]
  },
  {
   "cell_type": "code",
   "execution_count": 6,
   "id": "8e59adc4-9380-42f4-9201-36c3ffe55e88",
   "metadata": {},
   "outputs": [
    {
     "name": "stdout",
     "output_type": "stream",
     "text": [
      "     k       err\n",
      "0  6.0  0.470208\n"
     ]
    },
    {
     "name": "stderr",
     "output_type": "stream",
     "text": [
      "/tmp/ipykernel_398/612394044.py:10: FutureWarning: The frame.append method is deprecated and will be removed from pandas in a future version. Use pandas.concat instead.\n",
      "  bayesian_df = bayesian_df.append({\"k\": k, \"err\": err}, ignore_index=True)\n"
     ]
    }
   ],
   "source": [
    "bayesian_df = pd.DataFrame()\n",
    "user_avgs = train.groupby(\"user_id\").rating.mean().compute()\n",
    "user_counts = train.groupby(\"user_id\").rating.count().compute()\n",
    "k = 6\n",
    "val[\"personal_rating\"] = val.user_id.apply(\n",
    "    lambda x: (rating_avg * k + user_avgs[x] * user_counts[x]) / (user_counts[x] + k) if x in user_avgs else rating_avg, \n",
    "    meta=('personal_rating', 'float32')\n",
    ")\n",
    "err = dask_ml.metrics.mean_squared_error(val.rating.to_dask_array(), val.personal_rating.to_dask_array())\n",
    "bayesian_df = bayesian_df.append({\"k\": k, \"err\": err}, ignore_index=True)\n",
    "print(bayesian_df)"
   ]
  },
  {
   "cell_type": "markdown",
   "id": "5d74d290-9bcb-4d22-81c4-3e3ac03ab079",
   "metadata": {},
   "source": [
    "### Similarity Scorer Recommender Modeling"
   ]
  },
  {
   "cell_type": "code",
   "execution_count": 7,
   "id": "9130a2d2-c931-4242-87e8-ab941bcd1519",
   "metadata": {},
   "outputs": [
    {
     "name": "stdout",
     "output_type": "stream",
     "text": [
      "Generating indices\n",
      "Creating sparse matrix 12.197404861450195\n",
      "Generating dot products 20.847816228866577\n"
     ]
    },
    {
     "ename": "AttributeError",
     "evalue": "'COO' object has no attribute 'squeeze'",
     "output_type": "error",
     "traceback": [
      "\u001b[0;31m---------------------------------------------------------------------------\u001b[0m",
      "\u001b[0;31mTypeError\u001b[0m                                 Traceback (most recent call last)",
      "File \u001b[0;32m/usr/local/lib/python3.8/dist-packages/dask/array/reductions.py:346\u001b[0m, in \u001b[0;36mpartial_reduce\u001b[0;34m(func, x, split_every, keepdims, dtype, name, reduced_meta)\u001b[0m\n\u001b[1;32m    345\u001b[0m \u001b[38;5;28;01mtry\u001b[39;00m:\n\u001b[0;32m--> 346\u001b[0m     meta \u001b[38;5;241m=\u001b[39m \u001b[43mfunc\u001b[49m\u001b[43m(\u001b[49m\u001b[43mreduced_meta\u001b[49m\u001b[43m,\u001b[49m\u001b[43m \u001b[49m\u001b[43mcomputing_meta\u001b[49m\u001b[38;5;241;43m=\u001b[39;49m\u001b[38;5;28;43;01mTrue\u001b[39;49;00m\u001b[43m)\u001b[49m\n\u001b[1;32m    347\u001b[0m \u001b[38;5;66;03m# no meta keyword argument exists for func, and it isn't required\u001b[39;00m\n",
      "\u001b[0;31mTypeError\u001b[0m: _chunk_sum() got an unexpected keyword argument 'computing_meta'",
      "\nDuring handling of the above exception, another exception occurred:\n",
      "\u001b[0;31mAttributeError\u001b[0m                            Traceback (most recent call last)",
      "Input \u001b[0;32mIn [7]\u001b[0m, in \u001b[0;36m<cell line: 52>\u001b[0;34m()\u001b[0m\n\u001b[1;32m     49\u001b[0m         predicted_score \u001b[38;5;241m=\u001b[39m \u001b[38;5;28mself\u001b[39m\u001b[38;5;241m.\u001b[39msimilarities[user_idx] \u001b[38;5;241m@\u001b[39m \u001b[38;5;28mself\u001b[39m\u001b[38;5;241m.\u001b[39msparse_mat[:, recipe_idx]\n\u001b[1;32m     50\u001b[0m         \u001b[38;5;28;01mreturn\u001b[39;00m predicted_score\n\u001b[0;32m---> 52\u001b[0m scorer \u001b[38;5;241m=\u001b[39m \u001b[43mSimilarityScorer\u001b[49m\u001b[43m(\u001b[49m\u001b[43mtrain\u001b[49m\u001b[43m)\u001b[49m\n",
      "Input \u001b[0;32mIn [7]\u001b[0m, in \u001b[0;36mSimilarityScorer.__init__\u001b[0;34m(self, interactions)\u001b[0m\n\u001b[1;32m     23\u001b[0m \u001b[38;5;28mself\u001b[39m\u001b[38;5;241m.\u001b[39msparse_mat \u001b[38;5;241m=\u001b[39m da\u001b[38;5;241m.\u001b[39mfrom_array(s, chunks\u001b[38;5;241m=\u001b[39m(\u001b[38;5;241m5000\u001b[39m, \u001b[38;5;241m5000\u001b[39m))\n\u001b[1;32m     24\u001b[0m \u001b[38;5;28mprint\u001b[39m(\u001b[38;5;124m\"\u001b[39m\u001b[38;5;124mGenerating dot products\u001b[39m\u001b[38;5;124m\"\u001b[39m, time\u001b[38;5;241m.\u001b[39mtime() \u001b[38;5;241m-\u001b[39m start)\n\u001b[0;32m---> 26\u001b[0m dot_product_similarities \u001b[38;5;241m=\u001b[39m (\u001b[38;5;28;43mself\u001b[39;49m\u001b[38;5;241;43m.\u001b[39;49m\u001b[43msparse_mat\u001b[49m\u001b[43m \u001b[49m\u001b[38;5;241;43m@\u001b[39;49m\u001b[43m \u001b[49m\u001b[38;5;28;43mself\u001b[39;49m\u001b[38;5;241;43m.\u001b[39;49m\u001b[43msparse_mat\u001b[49m\u001b[38;5;241;43m.\u001b[39;49m\u001b[43mT\u001b[49m)\u001b[38;5;241m.\u001b[39mcompute()\n\u001b[1;32m     27\u001b[0m \u001b[38;5;28mprint\u001b[39m(\u001b[38;5;124m\"\u001b[39m\u001b[38;5;124mRaw similarities computed\u001b[39m\u001b[38;5;124m\"\u001b[39m, time\u001b[38;5;241m.\u001b[39mtime() \u001b[38;5;241m-\u001b[39m start)\n\u001b[1;32m     29\u001b[0m dense_similarities \u001b[38;5;241m=\u001b[39m dot_product_similarities\u001b[38;5;241m.\u001b[39mtodense()\n",
      "File \u001b[0;32m/usr/local/lib/python3.8/dist-packages/dask/array/core.py:218\u001b[0m, in \u001b[0;36mcheck_if_handled_given_other.<locals>.wrapper\u001b[0;34m(self, other)\u001b[0m\n\u001b[1;32m    216\u001b[0m     \u001b[38;5;28;01mreturn\u001b[39;00m \u001b[38;5;28mNotImplemented\u001b[39m\n\u001b[1;32m    217\u001b[0m \u001b[38;5;28;01melse\u001b[39;00m:\n\u001b[0;32m--> 218\u001b[0m     \u001b[38;5;28;01mreturn\u001b[39;00m \u001b[43mf\u001b[49m\u001b[43m(\u001b[49m\u001b[38;5;28;43mself\u001b[39;49m\u001b[43m,\u001b[49m\u001b[43m \u001b[49m\u001b[43mother\u001b[49m\u001b[43m)\u001b[49m\n",
      "File \u001b[0;32m/usr/local/lib/python3.8/dist-packages/dask/array/core.py:2301\u001b[0m, in \u001b[0;36mArray.__matmul__\u001b[0;34m(self, other)\u001b[0m\n\u001b[1;32m   2297\u001b[0m \u001b[38;5;129m@check_if_handled_given_other\u001b[39m\n\u001b[1;32m   2298\u001b[0m \u001b[38;5;28;01mdef\u001b[39;00m \u001b[38;5;21m__matmul__\u001b[39m(\u001b[38;5;28mself\u001b[39m, other):\n\u001b[1;32m   2299\u001b[0m     \u001b[38;5;28;01mfrom\u001b[39;00m \u001b[38;5;21;01mdask\u001b[39;00m\u001b[38;5;21;01m.\u001b[39;00m\u001b[38;5;21;01marray\u001b[39;00m\u001b[38;5;21;01m.\u001b[39;00m\u001b[38;5;21;01mroutines\u001b[39;00m \u001b[38;5;28;01mimport\u001b[39;00m matmul\n\u001b[0;32m-> 2301\u001b[0m     \u001b[38;5;28;01mreturn\u001b[39;00m \u001b[43mmatmul\u001b[49m\u001b[43m(\u001b[49m\u001b[38;5;28;43mself\u001b[39;49m\u001b[43m,\u001b[49m\u001b[43m \u001b[49m\u001b[43mother\u001b[49m\u001b[43m)\u001b[49m\n",
      "File \u001b[0;32m/usr/local/lib/python3.8/dist-packages/dask/array/routines.py:464\u001b[0m, in \u001b[0;36mmatmul\u001b[0;34m(a, b)\u001b[0m\n\u001b[1;32m    446\u001b[0m out \u001b[38;5;241m=\u001b[39m blockwise(\n\u001b[1;32m    447\u001b[0m     _matmul,\n\u001b[1;32m    448\u001b[0m     out_ind,\n\u001b[0;32m   (...)\u001b[0m\n\u001b[1;32m    455\u001b[0m     concatenate\u001b[38;5;241m=\u001b[39m\u001b[38;5;28;01mFalse\u001b[39;00m,\n\u001b[1;32m    456\u001b[0m )\n\u001b[1;32m    458\u001b[0m \u001b[38;5;66;03m# Because contraction + concatenate in blockwise leads to high\u001b[39;00m\n\u001b[1;32m    459\u001b[0m \u001b[38;5;66;03m# memory footprints, we want to avoid them. Instead we will perform\u001b[39;00m\n\u001b[1;32m    460\u001b[0m \u001b[38;5;66;03m# blockwise (without contraction) followed by reduction. More about\u001b[39;00m\n\u001b[1;32m    461\u001b[0m \u001b[38;5;66;03m# this issue: https://github.com/dask/dask/issues/6874\u001b[39;00m\n\u001b[1;32m    462\u001b[0m \n\u001b[1;32m    463\u001b[0m \u001b[38;5;66;03m# We will also perform the reduction without concatenation\u001b[39;00m\n\u001b[0;32m--> 464\u001b[0m out \u001b[38;5;241m=\u001b[39m \u001b[43m_sum_wo_cat\u001b[49m\u001b[43m(\u001b[49m\u001b[43mout\u001b[49m\u001b[43m,\u001b[49m\u001b[43m \u001b[49m\u001b[43maxis\u001b[49m\u001b[38;5;241;43m=\u001b[39;49m\u001b[38;5;241;43m-\u001b[39;49m\u001b[38;5;241;43m2\u001b[39;49m\u001b[43m)\u001b[49m\n\u001b[1;32m    466\u001b[0m \u001b[38;5;28;01mif\u001b[39;00m a_is_1d:\n\u001b[1;32m    467\u001b[0m     out \u001b[38;5;241m=\u001b[39m out\u001b[38;5;241m.\u001b[39msqueeze(\u001b[38;5;241m-\u001b[39m\u001b[38;5;241m2\u001b[39m)\n",
      "File \u001b[0;32m/usr/local/lib/python3.8/dist-packages/dask/array/routines.py:384\u001b[0m, in \u001b[0;36m_sum_wo_cat\u001b[0;34m(a, axis, dtype)\u001b[0m\n\u001b[1;32m    381\u001b[0m \u001b[38;5;28;01mif\u001b[39;00m a\u001b[38;5;241m.\u001b[39mshape[axis] \u001b[38;5;241m==\u001b[39m \u001b[38;5;241m1\u001b[39m:\n\u001b[1;32m    382\u001b[0m     \u001b[38;5;28;01mreturn\u001b[39;00m a\u001b[38;5;241m.\u001b[39msqueeze(axis)\n\u001b[0;32m--> 384\u001b[0m \u001b[38;5;28;01mreturn\u001b[39;00m \u001b[43mreduction\u001b[49m\u001b[43m(\u001b[49m\n\u001b[1;32m    385\u001b[0m \u001b[43m    \u001b[49m\u001b[43ma\u001b[49m\u001b[43m,\u001b[49m\u001b[43m \u001b[49m\u001b[43m_chunk_sum\u001b[49m\u001b[43m,\u001b[49m\u001b[43m \u001b[49m\u001b[43m_chunk_sum\u001b[49m\u001b[43m,\u001b[49m\u001b[43m \u001b[49m\u001b[43maxis\u001b[49m\u001b[38;5;241;43m=\u001b[39;49m\u001b[43maxis\u001b[49m\u001b[43m,\u001b[49m\u001b[43m \u001b[49m\u001b[43mdtype\u001b[49m\u001b[38;5;241;43m=\u001b[39;49m\u001b[43mdtype\u001b[49m\u001b[43m,\u001b[49m\u001b[43m \u001b[49m\u001b[43mconcatenate\u001b[49m\u001b[38;5;241;43m=\u001b[39;49m\u001b[38;5;28;43;01mFalse\u001b[39;49;00m\n\u001b[1;32m    386\u001b[0m \u001b[43m\u001b[49m\u001b[43m)\u001b[49m\n",
      "File \u001b[0;32m/usr/local/lib/python3.8/dist-packages/dask/array/reductions.py:218\u001b[0m, in \u001b[0;36mreduction\u001b[0;34m(x, chunk, aggregate, axis, keepdims, dtype, split_every, combine, name, out, concatenate, output_size, meta, weights)\u001b[0m\n\u001b[1;32m    215\u001b[0m \u001b[38;5;28;01melse\u001b[39;00m:\n\u001b[1;32m    216\u001b[0m     reduced_meta \u001b[38;5;241m=\u001b[39m \u001b[38;5;28;01mNone\u001b[39;00m\n\u001b[0;32m--> 218\u001b[0m result \u001b[38;5;241m=\u001b[39m \u001b[43m_tree_reduce\u001b[49m\u001b[43m(\u001b[49m\n\u001b[1;32m    219\u001b[0m \u001b[43m    \u001b[49m\u001b[43mtmp\u001b[49m\u001b[43m,\u001b[49m\n\u001b[1;32m    220\u001b[0m \u001b[43m    \u001b[49m\u001b[43maggregate\u001b[49m\u001b[43m,\u001b[49m\n\u001b[1;32m    221\u001b[0m \u001b[43m    \u001b[49m\u001b[43maxis\u001b[49m\u001b[43m,\u001b[49m\n\u001b[1;32m    222\u001b[0m \u001b[43m    \u001b[49m\u001b[43mkeepdims\u001b[49m\u001b[43m,\u001b[49m\n\u001b[1;32m    223\u001b[0m \u001b[43m    \u001b[49m\u001b[43mdtype\u001b[49m\u001b[43m,\u001b[49m\n\u001b[1;32m    224\u001b[0m \u001b[43m    \u001b[49m\u001b[43msplit_every\u001b[49m\u001b[43m,\u001b[49m\n\u001b[1;32m    225\u001b[0m \u001b[43m    \u001b[49m\u001b[43mcombine\u001b[49m\u001b[43m,\u001b[49m\n\u001b[1;32m    226\u001b[0m \u001b[43m    \u001b[49m\u001b[43mname\u001b[49m\u001b[38;5;241;43m=\u001b[39;49m\u001b[43mname\u001b[49m\u001b[43m,\u001b[49m\n\u001b[1;32m    227\u001b[0m \u001b[43m    \u001b[49m\u001b[43mconcatenate\u001b[49m\u001b[38;5;241;43m=\u001b[39;49m\u001b[43mconcatenate\u001b[49m\u001b[43m,\u001b[49m\n\u001b[1;32m    228\u001b[0m \u001b[43m    \u001b[49m\u001b[43mreduced_meta\u001b[49m\u001b[38;5;241;43m=\u001b[39;49m\u001b[43mreduced_meta\u001b[49m\u001b[43m,\u001b[49m\n\u001b[1;32m    229\u001b[0m \u001b[43m\u001b[49m\u001b[43m)\u001b[49m\n\u001b[1;32m    230\u001b[0m \u001b[38;5;28;01mif\u001b[39;00m keepdims \u001b[38;5;129;01mand\u001b[39;00m output_size \u001b[38;5;241m!=\u001b[39m \u001b[38;5;241m1\u001b[39m:\n\u001b[1;32m    231\u001b[0m     result\u001b[38;5;241m.\u001b[39m_chunks \u001b[38;5;241m=\u001b[39m \u001b[38;5;28mtuple\u001b[39m(\n\u001b[1;32m    232\u001b[0m         (output_size,) \u001b[38;5;28;01mif\u001b[39;00m i \u001b[38;5;129;01min\u001b[39;00m axis \u001b[38;5;28;01melse\u001b[39;00m c \u001b[38;5;28;01mfor\u001b[39;00m i, c \u001b[38;5;129;01min\u001b[39;00m \u001b[38;5;28menumerate\u001b[39m(tmp\u001b[38;5;241m.\u001b[39mchunks)\n\u001b[1;32m    233\u001b[0m     )\n",
      "File \u001b[0;32m/usr/local/lib/python3.8/dist-packages/dask/array/reductions.py:286\u001b[0m, in \u001b[0;36m_tree_reduce\u001b[0;34m(x, aggregate, axis, keepdims, dtype, split_every, combine, name, concatenate, reduced_meta)\u001b[0m\n\u001b[1;32m    284\u001b[0m \u001b[38;5;28;01mif\u001b[39;00m concatenate:\n\u001b[1;32m    285\u001b[0m     func \u001b[38;5;241m=\u001b[39m compose(func, partial(_concatenate2, axes\u001b[38;5;241m=\u001b[39m\u001b[38;5;28msorted\u001b[39m(axis)))\n\u001b[0;32m--> 286\u001b[0m \u001b[38;5;28;01mreturn\u001b[39;00m \u001b[43mpartial_reduce\u001b[49m\u001b[43m(\u001b[49m\n\u001b[1;32m    287\u001b[0m \u001b[43m    \u001b[49m\u001b[43mfunc\u001b[49m\u001b[43m,\u001b[49m\n\u001b[1;32m    288\u001b[0m \u001b[43m    \u001b[49m\u001b[43mx\u001b[49m\u001b[43m,\u001b[49m\n\u001b[1;32m    289\u001b[0m \u001b[43m    \u001b[49m\u001b[43msplit_every\u001b[49m\u001b[43m,\u001b[49m\n\u001b[1;32m    290\u001b[0m \u001b[43m    \u001b[49m\u001b[43mkeepdims\u001b[49m\u001b[38;5;241;43m=\u001b[39;49m\u001b[43mkeepdims\u001b[49m\u001b[43m,\u001b[49m\n\u001b[1;32m    291\u001b[0m \u001b[43m    \u001b[49m\u001b[43mdtype\u001b[49m\u001b[38;5;241;43m=\u001b[39;49m\u001b[43mdtype\u001b[49m\u001b[43m,\u001b[49m\n\u001b[1;32m    292\u001b[0m \u001b[43m    \u001b[49m\u001b[43mname\u001b[49m\u001b[38;5;241;43m=\u001b[39;49m\u001b[43m(\u001b[49m\u001b[43mname\u001b[49m\u001b[43m \u001b[49m\u001b[38;5;129;43;01mor\u001b[39;49;00m\u001b[43m \u001b[49m\u001b[43mfuncname\u001b[49m\u001b[43m(\u001b[49m\u001b[43maggregate\u001b[49m\u001b[43m)\u001b[49m\u001b[43m)\u001b[49m\u001b[43m \u001b[49m\u001b[38;5;241;43m+\u001b[39;49m\u001b[43m \u001b[49m\u001b[38;5;124;43m\"\u001b[39;49m\u001b[38;5;124;43m-aggregate\u001b[39;49m\u001b[38;5;124;43m\"\u001b[39;49m\u001b[43m,\u001b[49m\n\u001b[1;32m    293\u001b[0m \u001b[43m    \u001b[49m\u001b[43mreduced_meta\u001b[49m\u001b[38;5;241;43m=\u001b[39;49m\u001b[43mreduced_meta\u001b[49m\u001b[43m,\u001b[49m\n\u001b[1;32m    294\u001b[0m \u001b[43m\u001b[49m\u001b[43m)\u001b[49m\n",
      "File \u001b[0;32m/usr/local/lib/python3.8/dist-packages/dask/array/reductions.py:350\u001b[0m, in \u001b[0;36mpartial_reduce\u001b[0;34m(func, x, split_every, keepdims, dtype, name, reduced_meta)\u001b[0m\n\u001b[1;32m    348\u001b[0m \u001b[38;5;28;01mexcept\u001b[39;00m \u001b[38;5;167;01mTypeError\u001b[39;00m:\n\u001b[1;32m    349\u001b[0m     \u001b[38;5;28;01mtry\u001b[39;00m:\n\u001b[0;32m--> 350\u001b[0m         meta \u001b[38;5;241m=\u001b[39m \u001b[43mfunc\u001b[49m\u001b[43m(\u001b[49m\u001b[43mreduced_meta\u001b[49m\u001b[43m)\u001b[49m\n\u001b[1;32m    351\u001b[0m     \u001b[38;5;28;01mexcept\u001b[39;00m \u001b[38;5;167;01mValueError\u001b[39;00m \u001b[38;5;28;01mas\u001b[39;00m e:\n\u001b[1;32m    352\u001b[0m         \u001b[38;5;66;03m# min/max functions have no identity, don't apply function to meta\u001b[39;00m\n\u001b[1;32m    353\u001b[0m         \u001b[38;5;28;01mif\u001b[39;00m \u001b[38;5;124m\"\u001b[39m\u001b[38;5;124mzero-size array to reduction operation\u001b[39m\u001b[38;5;124m\"\u001b[39m \u001b[38;5;129;01min\u001b[39;00m \u001b[38;5;28mstr\u001b[39m(e):\n",
      "File \u001b[0;32m/usr/local/lib/python3.8/dist-packages/dask/array/routines.py:374\u001b[0m, in \u001b[0;36m_chunk_sum\u001b[0;34m(a, axis, dtype, keepdims)\u001b[0m\n\u001b[1;32m    372\u001b[0m     \u001b[38;5;28;01mreturn\u001b[39;00m out\n\u001b[1;32m    373\u001b[0m \u001b[38;5;28;01melse\u001b[39;00m:\n\u001b[0;32m--> 374\u001b[0m     \u001b[38;5;28;01mreturn\u001b[39;00m \u001b[43mout\u001b[49m\u001b[38;5;241;43m.\u001b[39;49m\u001b[43msqueeze\u001b[49m(axis[\u001b[38;5;241m0\u001b[39m])\n",
      "\u001b[0;31mAttributeError\u001b[0m: 'COO' object has no attribute 'squeeze'"
     ]
    }
   ],
   "source": [
    "train[\"personal_rating\"] = train.user_id.apply(\n",
    "    lambda x: (rating_avg * k + user_avgs[x] * user_counts[x]) / (user_counts[x] + k) if x in user_avgs else rating_avg, \n",
    "    meta=('personal_rating', 'float32')\n",
    ")\n",
    "train[\"person_normalized_rating\"] = train.rating - train.personal_rating\n",
    "\n",
    "class SimilarityScorer:\n",
    "    def __init__(self, interactions):\n",
    "        start = time.time()\n",
    "        print(\"Generating indices\")\n",
    "        user_codes, self.user_idx_to_id = pd.factorize(interactions.user_id.compute())\n",
    "        recipe_codes, self.recipe_idx_to_id = pd.factorize(interactions.recipe_id.compute())\n",
    "        self.user_id_to_idx = {user: idx for idx, user in enumerate(self.user_idx_to_id)}\n",
    "        self.recipe_id_to_idx = {recipe: idx for idx, recipe in enumerate(self.recipe_idx_to_id)}\n",
    "        \n",
    "        print(\"Creating sparse matrix\", time.time() - start)\n",
    "        s = sparse.COO(\n",
    "            [user_codes, recipe_codes],\n",
    "            interactions.person_normalized_rating.compute(),\n",
    "            shape=(len(self.user_idx_to_id), len(self.recipe_idx_to_id)),\n",
    "            fill_value=0\n",
    "        )\n",
    "        self.sparse_mat = da.from_array(s, chunks=(5000, 5000))\n",
    "        print(\"Generating dot products\", time.time() - start)\n",
    "\n",
    "        dot_product_similarities = (self.sparse_mat @ self.sparse_mat.T).compute()\n",
    "        print(\"Raw similarities computed\", time.time() - start)\n",
    "        \n",
    "        dense_similarities = dot_product_similarities.todense()\n",
    "        sims_summed = dense_similarities.sum(axis=1) + 1e-20\n",
    "        self.similarities = dense_similarities / sims_summed.reshape(-1, 1)\n",
    "        self.sparse_mat = self.sparse_mat.compute()\n",
    "        print(\"Similarities normalized!\", time.time() - start)\n",
    "\n",
    "    def predict_topk_for_user(self, user_id, k):\n",
    "        user_idx = self.user_id_to_idx[user_id]\n",
    "        similarities_norm = self.similarities_normalized[user_idx]\n",
    "        recs = self.similarities[user_idx] @ self.sparse_mat\n",
    "        rec_values = recs.topk(k)\n",
    "        rec_idxs = recs.argtopk(k)\n",
    "        recs_ids = [self.recipe_idx_to_id[idx] for idx in rec_idxs]\n",
    "        return recs_ids, rec_values\n",
    "    \n",
    "    def predict_pair(self, user_id, recipe_id):\n",
    "        if recipe_id not in self.recipe_id_to_idx or user_id not in self.user_id_to_idx:\n",
    "            return 0\n",
    "        user_idx = self.user_id_to_idx[user_id]\n",
    "        recipe_idx = self.recipe_id_to_idx[recipe_id]\n",
    "        predicted_score = self.similarities[user_idx] @ self.sparse_mat[:, recipe_idx]\n",
    "        return predicted_score\n",
    "\n",
    "scorer = SimilarityScorer(train)"
   ]
  },
  {
   "cell_type": "code",
   "execution_count": 8,
   "id": "7aba48ce-13a8-497d-a7ae-3f5e81b12628",
   "metadata": {},
   "outputs": [],
   "source": [
    "predictions_df = []\n",
    "for _, row in val.iterrows():\n",
    "    pred = row.personal_rating + scorer.predict_pair(row.user_id, row.recipe_id)\n",
    "    prediction = pd.DataFrame({\"user_id\": [row.user_id], \"recipe_id\": [row.recipe_id], \"rating\": [row.rating], \"prediction\": pred})\n",
    "    predictions_df.append(prediction)\n",
    "predictions_df = np.concat(predictions_df, ignore_index = True)"
   ]
  },
  {
   "cell_type": "markdown",
   "id": "8fb919db-a046-4eb6-91f9-d6d81bad2e99",
   "metadata": {},
   "source": [
    "## Evaluating Different Results of Recomender System from val_user_similarity.csv"
   ]
  },
  {
   "cell_type": "markdown",
   "id": "3cb7f750-06f3-4853-bd6d-5e28a5cd0591",
   "metadata": {},
   "source": [
    "Aidan got a bunch of recommendation scores based on different baseline methods.  These resuts are in val_user_similarity.csv and val_als.csv\n",
    "\n",
    "This data will be loaded and broken up to perform evaluation\n",
    "\n",
    "The best model was an als model trained on top of the baselines, i.e. training the delta between the baseline and the predictions. To replicate run baselines.ipynb to generate train_baselines.csv, and then run pyspark_als.ipynb to generate val_als.csv. To train the user similarity model on top of our baselines, run user_similarity.ipynb after installing sparse==0.13.0"
   ]
  },
  {
   "cell_type": "code",
   "execution_count": 8,
   "id": "24392da9-abf7-4fce-b4c5-11a932e4afd9",
   "metadata": {},
   "outputs": [
    {
     "data": {
      "text/html": [
       "<div>\n",
       "<style scoped>\n",
       "    .dataframe tbody tr th:only-of-type {\n",
       "        vertical-align: middle;\n",
       "    }\n",
       "\n",
       "    .dataframe tbody tr th {\n",
       "        vertical-align: top;\n",
       "    }\n",
       "\n",
       "    .dataframe thead th {\n",
       "        text-align: right;\n",
       "    }\n",
       "</style>\n",
       "<table border=\"1\" class=\"dataframe\">\n",
       "  <thead>\n",
       "    <tr style=\"text-align: right;\">\n",
       "      <th></th>\n",
       "      <th>Unnamed: 0.1</th>\n",
       "      <th>Unnamed: 0</th>\n",
       "      <th>user_id</th>\n",
       "      <th>recipe_id</th>\n",
       "      <th>date</th>\n",
       "      <th>rating</th>\n",
       "      <th>u</th>\n",
       "      <th>i</th>\n",
       "      <th>global_avg</th>\n",
       "      <th>user_avg</th>\n",
       "      <th>user_bayesian_avg</th>\n",
       "      <th>user_bayesian_avg_delta</th>\n",
       "      <th>recipe_avg</th>\n",
       "      <th>recipe_bayesian_avg</th>\n",
       "      <th>dual_bayesian_avg</th>\n",
       "      <th>dual_bayesian_avg_delta</th>\n",
       "      <th>similarity_rating</th>\n",
       "      <th>similarity_rating_clipped</th>\n",
       "    </tr>\n",
       "  </thead>\n",
       "  <tbody>\n",
       "    <tr>\n",
       "      <th>0</th>\n",
       "      <td>0</td>\n",
       "      <td>403988</td>\n",
       "      <td>518302</td>\n",
       "      <td>14471</td>\n",
       "      <td>2009-01-25</td>\n",
       "      <td>4.0</td>\n",
       "      <td>15755</td>\n",
       "      <td>78580</td>\n",
       "      <td>4.573867</td>\n",
       "      <td>3.750000</td>\n",
       "      <td>4.244320</td>\n",
       "      <td>-0.244320</td>\n",
       "      <td>4.600000</td>\n",
       "      <td>4.579093</td>\n",
       "      <td>4.261359</td>\n",
       "      <td>-0.261359</td>\n",
       "      <td>4.261359</td>\n",
       "      <td>4.261359</td>\n",
       "    </tr>\n",
       "    <tr>\n",
       "      <th>1</th>\n",
       "      <td>1</td>\n",
       "      <td>217140</td>\n",
       "      <td>226316</td>\n",
       "      <td>35132</td>\n",
       "      <td>2007-05-16</td>\n",
       "      <td>5.0</td>\n",
       "      <td>13499</td>\n",
       "      <td>115502</td>\n",
       "      <td>4.573867</td>\n",
       "      <td>4.962963</td>\n",
       "      <td>4.892218</td>\n",
       "      <td>0.107782</td>\n",
       "      <td>4.541667</td>\n",
       "      <td>4.556303</td>\n",
       "      <td>4.892321</td>\n",
       "      <td>0.107679</td>\n",
       "      <td>4.892321</td>\n",
       "      <td>4.892321</td>\n",
       "    </tr>\n",
       "    <tr>\n",
       "      <th>2</th>\n",
       "      <td>2</td>\n",
       "      <td>104255</td>\n",
       "      <td>134011</td>\n",
       "      <td>135101</td>\n",
       "      <td>2005-09-18</td>\n",
       "      <td>4.0</td>\n",
       "      <td>135</td>\n",
       "      <td>85305</td>\n",
       "      <td>4.573867</td>\n",
       "      <td>4.792899</td>\n",
       "      <td>4.785390</td>\n",
       "      <td>-0.785390</td>\n",
       "      <td>5.000000</td>\n",
       "      <td>4.629449</td>\n",
       "      <td>4.809834</td>\n",
       "      <td>-0.809834</td>\n",
       "      <td>4.803865</td>\n",
       "      <td>4.803865</td>\n",
       "    </tr>\n",
       "    <tr>\n",
       "      <th>3</th>\n",
       "      <td>3</td>\n",
       "      <td>189103</td>\n",
       "      <td>140008</td>\n",
       "      <td>88828</td>\n",
       "      <td>2007-01-24</td>\n",
       "      <td>4.0</td>\n",
       "      <td>1557</td>\n",
       "      <td>19016</td>\n",
       "      <td>4.573867</td>\n",
       "      <td>4.166667</td>\n",
       "      <td>4.181210</td>\n",
       "      <td>-0.181210</td>\n",
       "      <td>4.573867</td>\n",
       "      <td>4.573867</td>\n",
       "      <td>4.181210</td>\n",
       "      <td>-0.181210</td>\n",
       "      <td>4.181210</td>\n",
       "      <td>4.181210</td>\n",
       "    </tr>\n",
       "    <tr>\n",
       "      <th>4</th>\n",
       "      <td>4</td>\n",
       "      <td>334179</td>\n",
       "      <td>528468</td>\n",
       "      <td>15301</td>\n",
       "      <td>2008-06-11</td>\n",
       "      <td>5.0</td>\n",
       "      <td>1564</td>\n",
       "      <td>151452</td>\n",
       "      <td>4.573867</td>\n",
       "      <td>4.243590</td>\n",
       "      <td>4.267181</td>\n",
       "      <td>0.732819</td>\n",
       "      <td>4.800000</td>\n",
       "      <td>4.717770</td>\n",
       "      <td>4.272837</td>\n",
       "      <td>0.727163</td>\n",
       "      <td>4.281097</td>\n",
       "      <td>4.281097</td>\n",
       "    </tr>\n",
       "  </tbody>\n",
       "</table>\n",
       "</div>"
      ],
      "text/plain": [
       "   Unnamed: 0.1  Unnamed: 0  user_id  recipe_id        date  rating      u  \\\n",
       "0             0      403988   518302      14471  2009-01-25     4.0  15755   \n",
       "1             1      217140   226316      35132  2007-05-16     5.0  13499   \n",
       "2             2      104255   134011     135101  2005-09-18     4.0    135   \n",
       "3             3      189103   140008      88828  2007-01-24     4.0   1557   \n",
       "4             4      334179   528468      15301  2008-06-11     5.0   1564   \n",
       "\n",
       "        i  global_avg  user_avg  user_bayesian_avg  user_bayesian_avg_delta  \\\n",
       "0   78580    4.573867  3.750000           4.244320                -0.244320   \n",
       "1  115502    4.573867  4.962963           4.892218                 0.107782   \n",
       "2   85305    4.573867  4.792899           4.785390                -0.785390   \n",
       "3   19016    4.573867  4.166667           4.181210                -0.181210   \n",
       "4  151452    4.573867  4.243590           4.267181                 0.732819   \n",
       "\n",
       "   recipe_avg  recipe_bayesian_avg  dual_bayesian_avg  \\\n",
       "0    4.600000             4.579093           4.261359   \n",
       "1    4.541667             4.556303           4.892321   \n",
       "2    5.000000             4.629449           4.809834   \n",
       "3    4.573867             4.573867           4.181210   \n",
       "4    4.800000             4.717770           4.272837   \n",
       "\n",
       "   dual_bayesian_avg_delta  similarity_rating  similarity_rating_clipped  \n",
       "0                -0.261359           4.261359                   4.261359  \n",
       "1                 0.107679           4.892321                   4.892321  \n",
       "2                -0.809834           4.803865                   4.803865  \n",
       "3                -0.181210           4.181210                   4.181210  \n",
       "4                 0.727163           4.281097                   4.281097  "
      ]
     },
     "execution_count": 8,
     "metadata": {},
     "output_type": "execute_result"
    }
   ],
   "source": [
    "val_user_similarity = pd.read_csv(\"val_user_similarity.csv\")\n",
    "val_user_similarity.head()"
   ]
  },
  {
   "cell_type": "code",
   "execution_count": 9,
   "id": "cc1f824e-33c7-40a3-ab42-39194fe8d3d7",
   "metadata": {},
   "outputs": [
    {
     "data": {
      "text/html": [
       "<div>\n",
       "<style scoped>\n",
       "    .dataframe tbody tr th:only-of-type {\n",
       "        vertical-align: middle;\n",
       "    }\n",
       "\n",
       "    .dataframe tbody tr th {\n",
       "        vertical-align: top;\n",
       "    }\n",
       "\n",
       "    .dataframe thead th {\n",
       "        text-align: right;\n",
       "    }\n",
       "</style>\n",
       "<table border=\"1\" class=\"dataframe\">\n",
       "  <thead>\n",
       "    <tr style=\"text-align: right;\">\n",
       "      <th></th>\n",
       "      <th>Unnamed: 0</th>\n",
       "      <th>_c0</th>\n",
       "      <th>user_id</th>\n",
       "      <th>recipe_id</th>\n",
       "      <th>date</th>\n",
       "      <th>rating</th>\n",
       "      <th>u</th>\n",
       "      <th>i</th>\n",
       "      <th>global_avg</th>\n",
       "      <th>user_avg</th>\n",
       "      <th>user_bayesian_avg</th>\n",
       "      <th>user_bayesian_avg_delta</th>\n",
       "      <th>recipe_avg</th>\n",
       "      <th>recipe_bayesian_avg</th>\n",
       "      <th>dual_bayesian_avg</th>\n",
       "      <th>dual_bayesian_avg_delta</th>\n",
       "      <th>prediction</th>\n",
       "      <th>als_prediction</th>\n",
       "    </tr>\n",
       "  </thead>\n",
       "  <tbody>\n",
       "    <tr>\n",
       "      <th>0</th>\n",
       "      <td>0</td>\n",
       "      <td>199139</td>\n",
       "      <td>222564</td>\n",
       "      <td>243</td>\n",
       "      <td>2007-03-06</td>\n",
       "      <td>4.0</td>\n",
       "      <td>132</td>\n",
       "      <td>53241</td>\n",
       "      <td>4.573867</td>\n",
       "      <td>4.700667</td>\n",
       "      <td>4.700161</td>\n",
       "      <td>-0.700161</td>\n",
       "      <td>5.000000</td>\n",
       "      <td>4.612606</td>\n",
       "      <td>4.750939</td>\n",
       "      <td>-0.750939</td>\n",
       "      <td>-0.038689</td>\n",
       "      <td>4.712250</td>\n",
       "    </tr>\n",
       "    <tr>\n",
       "      <th>1</th>\n",
       "      <td>1</td>\n",
       "      <td>529052</td>\n",
       "      <td>296050</td>\n",
       "      <td>271</td>\n",
       "      <td>2010-04-27</td>\n",
       "      <td>5.0</td>\n",
       "      <td>6140</td>\n",
       "      <td>103878</td>\n",
       "      <td>4.573867</td>\n",
       "      <td>4.839080</td>\n",
       "      <td>4.821970</td>\n",
       "      <td>0.178030</td>\n",
       "      <td>4.900000</td>\n",
       "      <td>4.682578</td>\n",
       "      <td>4.842231</td>\n",
       "      <td>0.157769</td>\n",
       "      <td>0.038522</td>\n",
       "      <td>4.880754</td>\n",
       "    </tr>\n",
       "    <tr>\n",
       "      <th>2</th>\n",
       "      <td>2</td>\n",
       "      <td>290364</td>\n",
       "      <td>703740</td>\n",
       "      <td>916</td>\n",
       "      <td>2008-01-22</td>\n",
       "      <td>5.0</td>\n",
       "      <td>22810</td>\n",
       "      <td>104686</td>\n",
       "      <td>4.573867</td>\n",
       "      <td>4.700000</td>\n",
       "      <td>4.652700</td>\n",
       "      <td>0.347300</td>\n",
       "      <td>3.933333</td>\n",
       "      <td>4.130421</td>\n",
       "      <td>4.642462</td>\n",
       "      <td>0.357538</td>\n",
       "      <td>-0.036666</td>\n",
       "      <td>4.605796</td>\n",
       "    </tr>\n",
       "    <tr>\n",
       "      <th>3</th>\n",
       "      <td>3</td>\n",
       "      <td>687092</td>\n",
       "      <td>1924722</td>\n",
       "      <td>916</td>\n",
       "      <td>2015-09-13</td>\n",
       "      <td>5.0</td>\n",
       "      <td>15776</td>\n",
       "      <td>104686</td>\n",
       "      <td>4.573867</td>\n",
       "      <td>4.000000</td>\n",
       "      <td>4.344320</td>\n",
       "      <td>0.655680</td>\n",
       "      <td>3.933333</td>\n",
       "      <td>4.130421</td>\n",
       "      <td>4.334082</td>\n",
       "      <td>0.665918</td>\n",
       "      <td>-0.101093</td>\n",
       "      <td>4.232989</td>\n",
       "    </tr>\n",
       "    <tr>\n",
       "      <th>4</th>\n",
       "      <td>4</td>\n",
       "      <td>503521</td>\n",
       "      <td>934536</td>\n",
       "      <td>916</td>\n",
       "      <td>2010-01-16</td>\n",
       "      <td>5.0</td>\n",
       "      <td>6387</td>\n",
       "      <td>104686</td>\n",
       "      <td>4.573867</td>\n",
       "      <td>5.000000</td>\n",
       "      <td>4.744320</td>\n",
       "      <td>0.255680</td>\n",
       "      <td>3.933333</td>\n",
       "      <td>4.130421</td>\n",
       "      <td>4.734082</td>\n",
       "      <td>0.265918</td>\n",
       "      <td>0.081901</td>\n",
       "      <td>4.815983</td>\n",
       "    </tr>\n",
       "  </tbody>\n",
       "</table>\n",
       "</div>"
      ],
      "text/plain": [
       "   Unnamed: 0     _c0  user_id  recipe_id        date  rating      u       i  \\\n",
       "0           0  199139   222564        243  2007-03-06     4.0    132   53241   \n",
       "1           1  529052   296050        271  2010-04-27     5.0   6140  103878   \n",
       "2           2  290364   703740        916  2008-01-22     5.0  22810  104686   \n",
       "3           3  687092  1924722        916  2015-09-13     5.0  15776  104686   \n",
       "4           4  503521   934536        916  2010-01-16     5.0   6387  104686   \n",
       "\n",
       "   global_avg  user_avg  user_bayesian_avg  user_bayesian_avg_delta  \\\n",
       "0    4.573867  4.700667           4.700161                -0.700161   \n",
       "1    4.573867  4.839080           4.821970                 0.178030   \n",
       "2    4.573867  4.700000           4.652700                 0.347300   \n",
       "3    4.573867  4.000000           4.344320                 0.655680   \n",
       "4    4.573867  5.000000           4.744320                 0.255680   \n",
       "\n",
       "   recipe_avg  recipe_bayesian_avg  dual_bayesian_avg  \\\n",
       "0    5.000000             4.612606           4.750939   \n",
       "1    4.900000             4.682578           4.842231   \n",
       "2    3.933333             4.130421           4.642462   \n",
       "3    3.933333             4.130421           4.334082   \n",
       "4    3.933333             4.130421           4.734082   \n",
       "\n",
       "   dual_bayesian_avg_delta  prediction  als_prediction  \n",
       "0                -0.750939   -0.038689        4.712250  \n",
       "1                 0.157769    0.038522        4.880754  \n",
       "2                 0.357538   -0.036666        4.605796  \n",
       "3                 0.665918   -0.101093        4.232989  \n",
       "4                 0.265918    0.081901        4.815983  "
      ]
     },
     "execution_count": 9,
     "metadata": {},
     "output_type": "execute_result"
    }
   ],
   "source": [
    "val_als = pd.read_csv(\"val_als.csv\")\n",
    "val_als.head()"
   ]
  },
  {
   "cell_type": "code",
   "execution_count": 10,
   "id": "ff918781-881a-44fd-b0ac-668f161de375",
   "metadata": {},
   "outputs": [],
   "source": [
    "user_avg = val_user_similarity[['user_id', 'recipe_id', 'rating', 'user_avg']].copy()\n",
    "user_bayesian = val_user_similarity[['user_id', 'recipe_id', 'rating', 'user_bayesian_avg']].copy()\n",
    "recipe_avg = val_user_similarity[['user_id', 'recipe_id', 'rating', 'recipe_avg']].copy()\n",
    "recipe_bayesian = val_user_similarity[['user_id', 'recipe_id', 'rating', 'recipe_bayesian_avg']].copy()\n",
    "dual_bayesian = val_user_similarity[['user_id', 'recipe_id', 'rating', 'dual_bayesian_avg']].copy()\n",
    "rating_clipped = val_user_similarity[['user_id', 'recipe_id', 'rating', 'similarity_rating_clipped']].copy()\n",
    "als_prediction = val_als[['user_id', 'recipe_id', 'rating', 'als_prediction']].copy()"
   ]
  },
  {
   "cell_type": "markdown",
   "id": "471413c4-ce32-4218-b4bd-7bca987d337d",
   "metadata": {},
   "source": [
    "### Quick run of MSE"
   ]
  },
  {
   "cell_type": "code",
   "execution_count": 14,
   "id": "f66d72b3-1160-4b16-be23-e1b2bf04a70b",
   "metadata": {},
   "outputs": [
    {
     "name": "stdout",
     "output_type": "stream",
     "text": [
      "0.8617040612395043\n",
      "0.8259685786006747\n",
      "1.0679499550909195\n",
      "0.9026219371353884\n",
      "0.8232466157842618\n",
      "0.848890510543224\n",
      "0.815401146162544\n"
     ]
    }
   ],
   "source": [
    "print(mean_squared_error(list(user_avg['rating']), list(user_avg['user_avg'])))\n",
    "print(mean_squared_error(list(user_bayesian['rating']), list(user_bayesian['user_bayesian_avg'])))\n",
    "print(mean_squared_error(list(recipe_avg['rating']), list(recipe_avg['recipe_avg'])))\n",
    "print(mean_squared_error(list(recipe_bayesian['rating']), list(recipe_bayesian['recipe_bayesian_avg'])))\n",
    "print(mean_squared_error(list(dual_bayesian['rating']), list(dual_bayesian['dual_bayesian_avg'])))\n",
    "print(mean_squared_error(list(rating_clipped['rating']), list(rating_clipped['similarity_rating_clipped'])))\n",
    "print(mean_squared_error(list(als_prediction['rating']), list(als_prediction['als_prediction'])))"
   ]
  },
  {
   "cell_type": "markdown",
   "id": "540326a6-6eee-4f82-aa84-7bba066281da",
   "metadata": {},
   "source": [
    "### Evaluations"
   ]
  },
  {
   "cell_type": "markdown",
   "id": "e5222f8e-89a9-4cda-8446-a8b5afff6cf0",
   "metadata": {},
   "source": [
    "user_avg"
   ]
  },
  {
   "cell_type": "code",
   "execution_count": 30,
   "id": "5e1d5bd4-2ff9-4482-a3bf-7d698da8841e",
   "metadata": {},
   "outputs": [
    {
     "name": "stdout",
     "output_type": "stream",
     "text": [
      "The top ten MSE: 1.100601827096874\n",
      "\n",
      "\n",
      "Percent of recipes in someones top 10: 0.5667583329382201\n",
      "\n",
      "\n",
      "Top 10 Ranked Biased Overlap summary:\n",
      "                  0\n",
      "count  13463.000000\n",
      "mean       0.909110\n",
      "std        0.185619\n",
      "min        0.000000\n",
      "25%        0.982143\n",
      "50%        1.000000\n",
      "75%        1.000000\n",
      "max        1.000000\n",
      "\n",
      "\n",
      "Kendall's Tau Summary:\n",
      "                 0\n",
      "count  7236.000000\n",
      "mean      0.474164\n",
      "std       0.650240\n",
      "min      -1.000000\n",
      "25%       0.000000\n",
      "50%       1.000000\n",
      "75%       1.000000\n",
      "max       1.000000\n",
      "\n",
      "\n",
      "Top 10 Normalized Discounted Cummulative Gain:\n",
      "                 0\n",
      "count  7236.000000\n",
      "mean      0.961062\n",
      "std       0.067159\n",
      "min       0.000000\n",
      "25%       0.946456\n",
      "50%       0.979289\n",
      "75%       1.000000\n",
      "max       1.000000\n",
      "\n",
      "\n",
      "Spearman Rank Correlation Summary:\n"
     ]
    },
    {
     "name": "stderr",
     "output_type": "stream",
     "text": [
      "/usr/local/lib/python3.8/dist-packages/scipy/stats/_stats_py.py:4529: SpearmanRConstantInputWarning: An input array is constant; the correlation coefficient is not defined.\n",
      "  warnings.warn(SpearmanRConstantInputWarning())\n"
     ]
    },
    {
     "name": "stdout",
     "output_type": "stream",
     "text": [
      "         0\n",
      "count  0.0\n",
      "mean   NaN\n",
      "std    NaN\n",
      "min    NaN\n",
      "25%    NaN\n",
      "50%    NaN\n",
      "75%    NaN\n",
      "max    NaN\n"
     ]
    }
   ],
   "source": [
    "user_avg = user_avg.rename({'user_avg': 'prediction'}, axis=1)\n",
    "print(\"The top ten MSE:\", RecEvalMetrics.top_k_evaluation(user_avg, 10))\n",
    "print('\\n')\n",
    "print(\"Percent of recipes in someones top 10:\", RecEvalMetrics.percent_in_top_ratings(user_avg, 10))\n",
    "print('\\n')\n",
    "print(\"Top 10 Ranked Biased Overlap summary:\")\n",
    "print(RecEvalMetrics.rbo_evaluation(user_avg, 10))\n",
    "print('\\n')\n",
    "print(\"Kendall's Tau Summary:\")\n",
    "print(RecEvalMetrics.kendalls_tau(user_avg))\n",
    "print('\\n')\n",
    "print(\"Top 10 Normalized Discounted Cummulative Gain:\")\n",
    "print(RecEvalMetrics.nDCG_evaluation(user_avg, 10))\n",
    "print('\\n')\n",
    "print(\"Spearman Rank Correlation Summary:\")\n",
    "print(RecEvalMetrics.spearman_evaluation(user_avg))"
   ]
  },
  {
   "cell_type": "markdown",
   "id": "2a2b17b9-4ae8-47a6-b1d7-9a390f1fbfe0",
   "metadata": {},
   "source": [
    "user_bayesian_avg"
   ]
  },
  {
   "cell_type": "code",
   "execution_count": 31,
   "id": "6fc165b9-817f-4821-8b12-a24550606f33",
   "metadata": {},
   "outputs": [
    {
     "name": "stdout",
     "output_type": "stream",
     "text": [
      "The top ten MSE: 1.0381374097556246\n",
      "\n",
      "\n",
      "Percent of recipes in someones top 10: 0.5667583329382201\n",
      "\n",
      "\n",
      "Top 10 Ranked Biased Overlap summary:\n",
      "                  0\n",
      "count  13463.000000\n",
      "mean       0.909110\n",
      "std        0.185619\n",
      "min        0.000000\n",
      "25%        0.982143\n",
      "50%        1.000000\n",
      "75%        1.000000\n",
      "max        1.000000\n",
      "\n",
      "\n",
      "Kendall's Tau Summary:\n",
      "                 0\n",
      "count  7236.000000\n",
      "mean      0.474164\n",
      "std       0.650240\n",
      "min      -1.000000\n",
      "25%       0.000000\n",
      "50%       1.000000\n",
      "75%       1.000000\n",
      "max       1.000000\n",
      "\n",
      "\n",
      "Top 10 Normalized Discounted Cummulative Gain:\n",
      "                 0\n",
      "count  7236.000000\n",
      "mean      0.961062\n",
      "std       0.067159\n",
      "min       0.000000\n",
      "25%       0.946456\n",
      "50%       0.979289\n",
      "75%       1.000000\n",
      "max       1.000000\n",
      "\n",
      "\n",
      "Spearman Rank Correlation Summary:\n"
     ]
    },
    {
     "name": "stderr",
     "output_type": "stream",
     "text": [
      "/usr/local/lib/python3.8/dist-packages/scipy/stats/_stats_py.py:4529: SpearmanRConstantInputWarning: An input array is constant; the correlation coefficient is not defined.\n",
      "  warnings.warn(SpearmanRConstantInputWarning())\n"
     ]
    },
    {
     "name": "stdout",
     "output_type": "stream",
     "text": [
      "         0\n",
      "count  0.0\n",
      "mean   NaN\n",
      "std    NaN\n",
      "min    NaN\n",
      "25%    NaN\n",
      "50%    NaN\n",
      "75%    NaN\n",
      "max    NaN\n"
     ]
    }
   ],
   "source": [
    "bayesian_avg = user_bayesian.rename({'user_bayesian_avg': 'prediction'}, axis=1)\n",
    "print(\"The top ten MSE:\", RecEvalMetrics.top_k_evaluation(bayesian_avg, 10))\n",
    "print('\\n')\n",
    "print(\"Percent of recipes in someones top 10:\", RecEvalMetrics.percent_in_top_ratings(bayesian_avg, 10))\n",
    "print('\\n')\n",
    "print(\"Top 10 Ranked Biased Overlap summary:\")\n",
    "print(RecEvalMetrics.rbo_evaluation(bayesian_avg, 10))\n",
    "print('\\n')\n",
    "print(\"Kendall's Tau Summary:\")\n",
    "print(RecEvalMetrics.kendalls_tau(bayesian_avg))\n",
    "print('\\n')\n",
    "print(\"Top 10 Normalized Discounted Cummulative Gain:\")\n",
    "print(RecEvalMetrics.nDCG_evaluation(bayesian_avg, 10))\n",
    "print('\\n')\n",
    "print(\"Spearman Rank Correlation Summary:\")\n",
    "print(RecEvalMetrics.spearman_evaluation(bayesian_avg))"
   ]
  },
  {
   "cell_type": "markdown",
   "id": "0a449f46-16c3-4291-9016-72ddc16cebda",
   "metadata": {},
   "source": [
    "recipe_avg"
   ]
  },
  {
   "cell_type": "code",
   "execution_count": 33,
   "id": "bae45082-9d92-4145-9c53-e96ba7b9f616",
   "metadata": {},
   "outputs": [
    {
     "name": "stdout",
     "output_type": "stream",
     "text": [
      "The top ten MSE: 1.2154303852945243\n",
      "\n",
      "\n",
      "Percent of recipes in someones top 10: 0.5760751031245555\n",
      "\n",
      "\n",
      "Top 10 Ranked Biased Overlap summary:\n",
      "                  0\n",
      "count  13463.000000\n",
      "mean       0.802670\n",
      "std        0.258324\n",
      "min        0.000000\n",
      "25%        0.522222\n",
      "50%        1.000000\n",
      "75%        1.000000\n",
      "max        1.000000\n",
      "\n",
      "\n",
      "Kendall's Tau Summary:\n",
      "                 0\n",
      "count  7236.000000\n",
      "mean      0.033675\n",
      "std       0.689666\n",
      "min      -1.000000\n",
      "25%      -0.333333\n",
      "50%       0.000000\n",
      "75%       0.600000\n",
      "max       1.000000\n",
      "\n",
      "\n",
      "Top 10 Normalized Discounted Cummulative Gain:\n",
      "                 0\n",
      "count  7236.000000\n",
      "mean      0.964493\n",
      "std       0.080489\n",
      "min       0.000000\n",
      "25%       0.957091\n",
      "50%       1.000000\n",
      "75%       1.000000\n",
      "max       1.000000\n",
      "\n",
      "\n",
      "Spearman Rank Correlation Summary:\n"
     ]
    },
    {
     "name": "stderr",
     "output_type": "stream",
     "text": [
      "/usr/local/lib/python3.8/dist-packages/scipy/stats/_stats_py.py:4529: SpearmanRConstantInputWarning: An input array is constant; the correlation coefficient is not defined.\n",
      "  warnings.warn(SpearmanRConstantInputWarning())\n"
     ]
    },
    {
     "name": "stdout",
     "output_type": "stream",
     "text": [
      "                 0\n",
      "count  4245.000000\n",
      "mean      0.101509\n",
      "std       0.625704\n",
      "min      -1.000000\n",
      "25%      -0.294736\n",
      "50%       0.136931\n",
      "75%       0.580818\n",
      "max       1.000000\n"
     ]
    }
   ],
   "source": [
    "recipe_avg = recipe_avg.rename({'recipe_avg': 'prediction'}, axis=1)\n",
    "print(\"The top ten MSE:\", RecEvalMetrics.top_k_evaluation(recipe_avg, 10))\n",
    "print('\\n')\n",
    "print(\"Percent of recipes in someones top 10:\", RecEvalMetrics.percent_in_top_ratings(recipe_avg, 10))\n",
    "print('\\n')\n",
    "print(\"Top 10 Ranked Biased Overlap summary:\")\n",
    "print(RecEvalMetrics.rbo_evaluation(recipe_avg, 10))\n",
    "print('\\n')\n",
    "print(\"Kendall's Tau Summary:\")\n",
    "print(RecEvalMetrics.kendalls_tau(recipe_avg))\n",
    "print('\\n')\n",
    "print(\"Top 10 Normalized Discounted Cummulative Gain:\")\n",
    "print(RecEvalMetrics.nDCG_evaluation(recipe_avg, 10))\n",
    "print('\\n')\n",
    "print(\"Spearman Rank Correlation Summary:\")\n",
    "print(RecEvalMetrics.spearman_evaluation(recipe_avg))"
   ]
  },
  {
   "cell_type": "markdown",
   "id": "dc49df11-1ade-40c7-a902-17cbd7e07009",
   "metadata": {},
   "source": [
    "recipe_bayesian_avg"
   ]
  },
  {
   "cell_type": "code",
   "execution_count": 34,
   "id": "bab34258-d5a3-4b95-a985-f06065e4d72b",
   "metadata": {},
   "outputs": [
    {
     "name": "stdout",
     "output_type": "stream",
     "text": [
      "The top ten MSE: 1.0971102399891997\n",
      "\n",
      "\n",
      "Percent of recipes in someones top 10: 0.5372670807453416\n",
      "\n",
      "\n",
      "Top 10 Ranked Biased Overlap summary:\n",
      "                  0\n",
      "count  13463.000000\n",
      "mean       0.797767\n",
      "std        0.263721\n",
      "min        0.000000\n",
      "25%        0.516667\n",
      "50%        1.000000\n",
      "75%        1.000000\n",
      "max        1.000000\n",
      "\n",
      "\n",
      "Kendall's Tau Summary:\n",
      "                 0\n",
      "count  7236.000000\n",
      "mean      0.025940\n",
      "std       0.688497\n",
      "min      -1.000000\n",
      "25%      -0.333333\n",
      "50%       0.000000\n",
      "75%       0.501190\n",
      "max       1.000000\n",
      "\n",
      "\n",
      "Top 10 Normalized Discounted Cummulative Gain:\n",
      "                 0\n",
      "count  7236.000000\n",
      "mean      0.967698\n",
      "std       0.078799\n",
      "min       0.000000\n",
      "25%       0.962514\n",
      "50%       1.000000\n",
      "75%       1.000000\n",
      "max       1.000000\n",
      "\n",
      "\n",
      "Spearman Rank Correlation Summary:\n"
     ]
    },
    {
     "name": "stderr",
     "output_type": "stream",
     "text": [
      "/usr/local/lib/python3.8/dist-packages/scipy/stats/_stats_py.py:4529: SpearmanRConstantInputWarning: An input array is constant; the correlation coefficient is not defined.\n",
      "  warnings.warn(SpearmanRConstantInputWarning())\n"
     ]
    },
    {
     "name": "stdout",
     "output_type": "stream",
     "text": [
      "                 0\n",
      "count  4276.000000\n",
      "mean      0.133010\n",
      "std       0.619355\n",
      "min      -1.000000\n",
      "25%      -0.237797\n",
      "50%       0.172260\n",
      "75%       0.644065\n",
      "max       1.000000\n"
     ]
    }
   ],
   "source": [
    "recipe_bayesian = recipe_bayesian.rename({'recipe_bayesian_avg': 'prediction'}, axis=1)\n",
    "print(\"The top ten MSE:\", RecEvalMetrics.top_k_evaluation(recipe_bayesian, 10))\n",
    "print('\\n')\n",
    "print(\"Percent of recipes in someones top 10:\", RecEvalMetrics.percent_in_top_ratings(recipe_bayesian, 10))\n",
    "print('\\n')\n",
    "print(\"Top 10 Ranked Biased Overlap summary:\")\n",
    "print(RecEvalMetrics.rbo_evaluation(recipe_bayesian, 10))\n",
    "print('\\n')\n",
    "print(\"Kendall's Tau Summary:\")\n",
    "print(RecEvalMetrics.kendalls_tau(recipe_bayesian))\n",
    "print('\\n')\n",
    "print(\"Top 10 Normalized Discounted Cummulative Gain:\")\n",
    "print(RecEvalMetrics.nDCG_evaluation(recipe_bayesian, 10))\n",
    "print('\\n')\n",
    "print(\"Spearman Rank Correlation Summary:\")\n",
    "print(RecEvalMetrics.spearman_evaluation(recipe_bayesian))"
   ]
  },
  {
   "cell_type": "markdown",
   "id": "5e8a03e2-6360-448e-82e2-cb88efbb5582",
   "metadata": {},
   "source": [
    "daul_bayesian_avg"
   ]
  },
  {
   "cell_type": "code",
   "execution_count": 12,
   "id": "878ecc3c-e31c-4eef-8c90-af5f7b69d4e8",
   "metadata": {},
   "outputs": [
    {
     "name": "stdout",
     "output_type": "stream",
     "text": [
      "The top ten MSE: 1.01957532258546\n",
      "\n",
      "\n",
      "Percent of recipes in someones top 10: 0.5786591437105875\n",
      "\n",
      "\n",
      "Top 10 Ranked Biased Overlap summary:\n",
      "                  0\n",
      "count  13463.000000\n",
      "mean       0.796361\n",
      "std        0.265661\n",
      "min        0.000000\n",
      "25%        0.513889\n",
      "50%        1.000000\n",
      "75%        1.000000\n",
      "max        1.000000\n",
      "\n",
      "\n",
      "Kendall's Tau Summary:\n",
      "                 0\n",
      "count  7236.000000\n",
      "mean      0.026284\n",
      "std       0.687292\n",
      "min      -1.000000\n",
      "25%      -0.333333\n",
      "50%       0.000515\n",
      "75%       0.466667\n",
      "max       1.000000\n",
      "\n",
      "\n",
      "Top 10 Normalized Discounted Cummulative Gain:\n",
      "                 0\n",
      "count  7236.000000\n",
      "mean      0.964688\n",
      "std       0.080482\n",
      "min       0.000000\n",
      "25%       0.956319\n",
      "50%       1.000000\n",
      "75%       1.000000\n",
      "max       1.000000\n",
      "\n",
      "\n",
      "Spearman Rank Correlation Summary:\n"
     ]
    },
    {
     "name": "stderr",
     "output_type": "stream",
     "text": [
      "/usr/local/lib/python3.8/dist-packages/scipy/stats/_stats_py.py:4529: SpearmanRConstantInputWarning: An input array is constant; the correlation coefficient is not defined.\n",
      "  warnings.warn(SpearmanRConstantInputWarning())\n"
     ]
    },
    {
     "name": "stdout",
     "output_type": "stream",
     "text": [
      "                 0\n",
      "count  4281.000000\n",
      "mean      0.098492\n",
      "std       0.629578\n",
      "min      -1.000000\n",
      "25%      -0.288675\n",
      "50%       0.127813\n",
      "75%       0.621059\n",
      "max       1.000000\n"
     ]
    }
   ],
   "source": [
    "dual_avg = dual_bayesian.rename({'dual_bayesian_avg': 'prediction'}, axis=1)\n",
    "print(\"The top ten MSE:\", RecEvalMetrics.top_k_evaluation(dual_avg, 10))\n",
    "print('\\n')\n",
    "print(\"Percent of recipes in someones top 10:\", RecEvalMetrics.percent_in_top_ratings(dual_avg, 10))\n",
    "print('\\n')\n",
    "print(\"Top 10 Ranked Biased Overlap summary:\")\n",
    "print(RecEvalMetrics.rbo_evaluation(dual_avg, 10))\n",
    "print('\\n')\n",
    "print(\"Kendall's Tau Summary:\")\n",
    "print(RecEvalMetrics.kendalls_tau(dual_avg))\n",
    "print('\\n')\n",
    "print(\"Top 10 Normalized Discounted Cummulative Gain:\")\n",
    "print(RecEvalMetrics.nDCG_evaluation(dual_avg, 10))\n",
    "print('\\n')\n",
    "print(\"Spearman Rank Correlation Summary:\")\n",
    "print(RecEvalMetrics.spearman_evaluation(dual_avg))"
   ]
  },
  {
   "cell_type": "markdown",
   "id": "8cfc3127-047f-40ae-bdcb-c92107aa444c",
   "metadata": {},
   "source": [
    "similarity_rating_clipped"
   ]
  },
  {
   "cell_type": "code",
   "execution_count": 37,
   "id": "c0113522-7629-4014-a9d6-f1f3f879d42f",
   "metadata": {},
   "outputs": [
    {
     "name": "stdout",
     "output_type": "stream",
     "text": [
      "The top ten MSE: 1.0665566916340854\n",
      "\n",
      "\n",
      "Percent of recipes in someones top 10: 0.5738229576596653\n",
      "\n",
      "\n",
      "Top 10 Ranked Biased Overlap summary:\n",
      "                  0\n",
      "count  13463.000000\n",
      "mean       0.793602\n",
      "std        0.266503\n",
      "min        0.000000\n",
      "25%        0.500000\n",
      "50%        1.000000\n",
      "75%        1.000000\n",
      "max        1.000000\n",
      "\n",
      "\n",
      "Kendall's Tau Summary:\n",
      "                 0\n",
      "count  7236.000000\n",
      "mean      0.006176\n",
      "std       0.687204\n",
      "min      -1.000000\n",
      "25%      -0.362637\n",
      "50%       0.000000\n",
      "75%       0.400000\n",
      "max       1.000000\n",
      "\n",
      "\n",
      "Top 10 Normalized Discounted Cummulative Gain:\n",
      "                 0\n",
      "count  7236.000000\n",
      "mean      0.964222\n",
      "std       0.080375\n",
      "min       0.000000\n",
      "25%       0.954704\n",
      "50%       1.000000\n",
      "75%       1.000000\n",
      "max       1.000000\n",
      "\n",
      "\n",
      "Spearman Rank Correlation Summary:\n"
     ]
    },
    {
     "name": "stderr",
     "output_type": "stream",
     "text": [
      "/usr/local/lib/python3.8/dist-packages/scipy/stats/_stats_py.py:4529: SpearmanRConstantInputWarning: An input array is constant; the correlation coefficient is not defined.\n",
      "  warnings.warn(SpearmanRConstantInputWarning())\n"
     ]
    },
    {
     "name": "stdout",
     "output_type": "stream",
     "text": [
      "                 0\n",
      "count  4278.000000\n",
      "mean      0.065512\n",
      "std       0.626961\n",
      "min      -1.000000\n",
      "25%      -0.335410\n",
      "50%       0.082479\n",
      "75%       0.518815\n",
      "max       1.000000\n"
     ]
    }
   ],
   "source": [
    "rating_clipped = rating_clipped.rename({'similarity_rating_clipped': 'prediction'}, axis=1)\n",
    "print(\"The top ten MSE:\", RecEvalMetrics.top_k_evaluation(rating_clipped, 10))\n",
    "print('\\n')\n",
    "print(\"Percent of recipes in someones top 10:\", RecEvalMetrics.percent_in_top_ratings(rating_clipped, 10))\n",
    "print('\\n')\n",
    "print(\"Top 10 Ranked Biased Overlap summary:\")\n",
    "print(RecEvalMetrics.rbo_evaluation(rating_clipped, 10))\n",
    "print('\\n')\n",
    "print(\"Kendall's Tau Summary:\")\n",
    "print(RecEvalMetrics.kendalls_tau(rating_clipped))\n",
    "print('\\n')\n",
    "print(\"Top 10 Normalized Discounted Cummulative Gain:\")\n",
    "print(RecEvalMetrics.nDCG_evaluation(rating_clipped, 10))\n",
    "print('\\n')\n",
    "print(\"Spearman Rank Correlation Summary:\")\n",
    "print(RecEvalMetrics.spearman_evaluation(rating_clipped))"
   ]
  },
  {
   "cell_type": "markdown",
   "id": "f619c4ab-4bce-47fb-a0a5-85b37cc79f58",
   "metadata": {},
   "source": [
    "als_model"
   ]
  },
  {
   "cell_type": "code",
   "execution_count": 38,
   "id": "97f201ad-edee-4308-b71f-d9fae64c201e",
   "metadata": {},
   "outputs": [
    {
     "name": "stdout",
     "output_type": "stream",
     "text": [
      "The top ten MSE: 1.002832496140795\n",
      "\n",
      "\n",
      "Percent of recipes in someones top 10: 0.6167375886524823\n",
      "\n",
      "\n",
      "Top 10 Ranked Biased Overlap summary:\n",
      "                  0\n",
      "count  13206.000000\n",
      "mean       0.798399\n",
      "std        0.263619\n",
      "min        0.000000\n",
      "25%        0.514623\n",
      "50%        1.000000\n",
      "75%        1.000000\n",
      "max        1.000000\n",
      "\n",
      "\n",
      "Kendall's Tau Summary:\n",
      "                 0\n",
      "count  6964.000000\n",
      "mean      0.002948\n",
      "std       0.691266\n",
      "min      -1.000000\n",
      "25%      -0.400000\n",
      "50%       0.000000\n",
      "75%       0.421709\n",
      "max       1.000000\n",
      "\n",
      "\n",
      "Top 10 Normalized Discounted Cummulative Gain:\n",
      "                 0\n",
      "count  6964.000000\n",
      "mean      0.964754\n",
      "std       0.080173\n",
      "min       0.000000\n",
      "25%       0.956319\n",
      "50%       1.000000\n",
      "75%       1.000000\n",
      "max       1.000000\n",
      "\n",
      "\n",
      "Spearman Rank Correlation Summary:\n"
     ]
    },
    {
     "name": "stderr",
     "output_type": "stream",
     "text": [
      "/usr/local/lib/python3.8/dist-packages/scipy/stats/_stats_py.py:4529: SpearmanRConstantInputWarning: An input array is constant; the correlation coefficient is not defined.\n",
      "  warnings.warn(SpearmanRConstantInputWarning())\n"
     ]
    },
    {
     "name": "stdout",
     "output_type": "stream",
     "text": [
      "                 0\n",
      "count  4047.000000\n",
      "mean      0.050222\n",
      "std       0.633984\n",
      "min      -1.000000\n",
      "25%      -0.353553\n",
      "50%       0.056980\n",
      "75%       0.517924\n",
      "max       1.000000\n"
     ]
    }
   ],
   "source": [
    "als = als_prediction.rename({'als_prediction': 'prediction'}, axis=1)\n",
    "print(\"The top ten MSE:\", RecEvalMetrics.top_k_evaluation(als, 10))\n",
    "print('\\n')\n",
    "print(\"Percent of recipes in someones top 10:\", RecEvalMetrics.percent_in_top_ratings(als, 10))\n",
    "print('\\n')\n",
    "print(\"Top 10 Ranked Biased Overlap summary:\")\n",
    "print(RecEvalMetrics.rbo_evaluation(als, 10))\n",
    "print('\\n')\n",
    "print(\"Kendall's Tau Summary:\")\n",
    "print(RecEvalMetrics.kendalls_tau(als))\n",
    "print('\\n')\n",
    "print(\"Top 10 Normalized Discounted Cummulative Gain:\")\n",
    "print(RecEvalMetrics.nDCG_evaluation(als, 10))\n",
    "print('\\n')\n",
    "print(\"Spearman Rank Correlation Summary:\")\n",
    "print(RecEvalMetrics.spearman_evaluation(als))"
   ]
  },
  {
   "cell_type": "code",
   "execution_count": null,
   "id": "6e6befc1-cc9d-495b-9851-3b9ae500ea0f",
   "metadata": {},
   "outputs": [],
   "source": []
  }
 ],
 "metadata": {
  "kernelspec": {
   "display_name": "Python 3",
   "language": "python",
   "name": "python3"
  },
  "language_info": {
   "codemirror_mode": {
    "name": "ipython",
    "version": 3
   },
   "file_extension": ".py",
   "mimetype": "text/x-python",
   "name": "python",
   "nbconvert_exporter": "python",
   "pygments_lexer": "ipython3",
   "version": "3.8.5"
  }
 },
 "nbformat": 4,
 "nbformat_minor": 5
}
