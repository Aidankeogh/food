{
 "cells": [
  {
   "cell_type": "code",
   "execution_count": null,
   "id": "fa375226",
   "metadata": {},
   "outputs": [],
   "source": [
    "import pandas as pd\n",
    "import pickle\n",
    "import numpy as np\n",
    "import ast\n",
    "\n",
    "raw_recipes = pd.read_csv(\"recipes/RAW_recipes.csv\")\n",
    "#raw_interactions = pd.read_csv(\"scalable_project/archive/RAW_interactions.csv\")\n",
    "pp_recipes = pd.read_csv(\"recipes/PP_recipes.csv\")\n",
    "#pp_users = pd.read_csv(\"scalable_project/archive/PP_users.csv\")\n",
    "\n",
    "ingr_map = pd.read_pickle(\"recipes/ingr_map.pkl\")\n",
    "\n"
   ]
  },
  {
   "cell_type": "code",
   "execution_count": null,
   "id": "24fb8dc3",
   "metadata": {},
   "outputs": [],
   "source": [
    "recipes = pp_recipes.merge(right=raw_recipes, left_on=\"id\", right_on=\"id\")\n",
    "#recipes = recipes[[\"id\", \"name\", \"submitted\", \"ingredient_ids\", \"ingredients\", \"n_ingredients\"]]\n",
    "recipes = recipes.rename({\"id\":\"recipe_id\"}, axis=\"columns\")\n",
    "recipes.head()\n",
    "\n",
    "ingr_df = ingr_map.copy(deep=True)\n",
    "ingr_df = ingr_df.rename({\"id\":\"ingr_id\",\"replaced\":\"ingr_name\"}, axis=\"columns\")\n",
    "ingr_df = ingr_df[[\"ingr_id\", \"ingr_name\"]]\n",
    "ingr_df = ingr_df.drop_duplicates(ignore_index=True)\n",
    "ingr_df.head(10)\n",
    "\n",
    "\n",
    "recipes_exploded = recipes.copy(deep=True)\n",
    "recipes_exploded[\"ingredient_ids\"] = recipes_exploded['ingredient_ids'].apply(lambda x : ast.literal_eval(x))\n",
    "recipes_exploded = recipes_exploded.explode(column=\"ingredient_ids\", ignore_index=True)\n",
    "df = recipes_explode"
   ]
  },
  {
   "cell_type": "code",
   "execution_count": 2,
   "id": "5fcfa049",
   "metadata": {},
   "outputs": [
    {
     "ename": "NameError",
     "evalue": "name 'df' is not defined",
     "output_type": "error",
     "traceback": [
      "\u001b[0;31m---------------------------------------------------------------------------\u001b[0m",
      "\u001b[0;31mNameError\u001b[0m                                 Traceback (most recent call last)",
      "\u001b[0;32m<ipython-input-2-74436bf9c4c8>\u001b[0m in \u001b[0;36m<module>\u001b[0;34m\u001b[0m\n\u001b[0;32m----> 1\u001b[0;31m \u001b[0mdf\u001b[0m\u001b[0;34m[\u001b[0m\u001b[0;34m[\u001b[0m\u001b[0;34m'counts'\u001b[0m\u001b[0;34m]\u001b[0m\u001b[0;34m]\u001b[0m \u001b[0;34m=\u001b[0m \u001b[0mdf\u001b[0m\u001b[0;31m\\\u001b[0m\u001b[0;34m\u001b[0m\u001b[0;34m\u001b[0m\u001b[0m\n\u001b[0m\u001b[1;32m      2\u001b[0m \u001b[0;34m.\u001b[0m\u001b[0mgroupby\u001b[0m\u001b[0;34m(\u001b[0m\u001b[0mby\u001b[0m \u001b[0;34m=\u001b[0m \u001b[0;34m[\u001b[0m\u001b[0;34m'ingredient_ids'\u001b[0m\u001b[0;34m]\u001b[0m\u001b[0;34m,\u001b[0m \u001b[0mas_index\u001b[0m \u001b[0;34m=\u001b[0m \u001b[0;32mFalse\u001b[0m\u001b[0;34m)\u001b[0m\u001b[0;34m[\u001b[0m\u001b[0;34m'ingredient_ids'\u001b[0m\u001b[0;34m]\u001b[0m\u001b[0;34m.\u001b[0m\u001b[0mcount\u001b[0m\u001b[0;34m(\u001b[0m\u001b[0;34m)\u001b[0m\u001b[0;34m\u001b[0m\u001b[0;34m\u001b[0m\u001b[0m\n\u001b[1;32m      3\u001b[0m \u001b[0;34m\u001b[0m\u001b[0m\n\u001b[1;32m      4\u001b[0m \u001b[0mdf\u001b[0m\u001b[0;34m[\u001b[0m\u001b[0;34m[\u001b[0m\u001b[0;34m'counts'\u001b[0m\u001b[0;34m]\u001b[0m\u001b[0;34m]\u001b[0m \u001b[0;34m=\u001b[0m \u001b[0mdf\u001b[0m\u001b[0;31m\\\u001b[0m\u001b[0;34m\u001b[0m\u001b[0;34m\u001b[0m\u001b[0m\n\u001b[1;32m      5\u001b[0m \u001b[0;34m.\u001b[0m\u001b[0mgroupby\u001b[0m\u001b[0;34m(\u001b[0m\u001b[0mby\u001b[0m \u001b[0;34m=\u001b[0m \u001b[0;34m[\u001b[0m\u001b[0;34m'ingredient_ids'\u001b[0m\u001b[0;34m]\u001b[0m\u001b[0;34m,\u001b[0m \u001b[0mas_index\u001b[0m \u001b[0;34m=\u001b[0m \u001b[0;32mFalse\u001b[0m\u001b[0;34m)\u001b[0m\u001b[0;34m[\u001b[0m\u001b[0;34m'ingredient_ids'\u001b[0m\u001b[0;34m]\u001b[0m\u001b[0;34m.\u001b[0m\u001b[0mcount\u001b[0m\u001b[0;34m(\u001b[0m\u001b[0;34m)\u001b[0m\u001b[0;34m\u001b[0m\u001b[0;34m\u001b[0m\u001b[0m\n",
      "\u001b[0;31mNameError\u001b[0m: name 'df' is not defined"
     ]
    }
   ],
   "source": [
    "\n",
    "df[['counts']] = df\\\n",
    ".groupby(by = ['ingredient_ids'], as_index = False)['ingredient_ids'].count()\n",
    "\n",
    "df[['counts']] = df\\\n",
    ".groupby(by = ['ingredient_ids'], as_index = False)['ingredient_ids'].count()\n",
    "\n",
    "data_exploded = df[['recipe_id', 'ingredient_ids', 'counts']]\n",
    "\n",
    "data_exploded[['count']] = '1'\n",
    "\n",
    "data_exploded = data_exploded.drop('counts', axis = 1)\n",
    "\n",
    "#data_exploded[['count']] = data_exploded[['count']].astype(int)\n",
    "data_exploded = data_exploded.pivot_table(index = 'recipe_id', columns='ingredient_ids', values = 'count', fill_value = '', aggfunc='sum')\n",
    "data_exploded\n",
    "#data_exploded = data_exploded.replace(0, Na)\n",
    "\n",
    "#data_exploded = data_exploded.replace(np.nan, 0)"
   ]
  },
  {
   "cell_type": "code",
   "execution_count": null,
   "id": "62d985f8",
   "metadata": {},
   "outputs": [],
   "source": [
    "from kmodes.kmodes import KModes\n",
    "km_huang = KModes(n_jobs = -1, n_clusters=20, init = \"Huang\", n_init = 1, verbose=1)\n",
    "\n",
    "fitClusters_huang = km_huang.fit_predict(data_exploded)\n",
    "fitClusters_huang"
   ]
  }
 ],
 "metadata": {
  "kernelspec": {
   "display_name": "Python 3",
   "language": "python",
   "name": "python3"
  },
  "language_info": {
   "codemirror_mode": {
    "name": "ipython",
    "version": 3
   },
   "file_extension": ".py",
   "mimetype": "text/x-python",
   "name": "python",
   "nbconvert_exporter": "python",
   "pygments_lexer": "ipython3",
   "version": "3.8.8"
  }
 },
 "nbformat": 4,
 "nbformat_minor": 5
}
