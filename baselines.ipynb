{
 "cells": [
  {
   "cell_type": "code",
   "execution_count": 3,
   "id": "fdaa1276-8af9-4e36-a04e-5e13d401b3aa",
   "metadata": {},
   "outputs": [],
   "source": [
    "import dask\n",
    "import dask.array as da\n",
    "import dask.dataframe as dd\n",
    "import sparse\n",
    "import dask_ml\n",
    "import time\n",
    "\n",
    "import numpy as np\n",
    "import pandas as pd\n",
    "\n",
    "from dask.distributed import Client\n",
    "client = Client(memory_limit='6GB')"
   ]
  },
  {
   "cell_type": "code",
   "execution_count": 4,
   "id": "bfad2edb-9a35-4fa9-9e9c-0b12ef55639b",
   "metadata": {},
   "outputs": [
    {
     "name": "stdout",
     "output_type": "stream",
     "text": [
      "628841 70060\n"
     ]
    }
   ],
   "source": [
    "seed = 25\n",
    "ddf = dd.read_csv(\"data/interactions_train.csv\")\n",
    "train, val = dask_ml.model_selection.train_test_split(\n",
    "    ddf, \n",
    "    test_size=0.1, \n",
    "    train_size=0.9,\n",
    "    shuffle=True,\n",
    "    random_state=seed)\n",
    "print(len(train), len(val))"
   ]
  },
  {
   "cell_type": "code",
   "execution_count": 5,
   "id": "033fd987-0aa3-4ecf-8546-cf64ddcf288e",
   "metadata": {},
   "outputs": [
    {
     "name": "stdout",
     "output_type": "stream",
     "text": [
      "4.573866843923981 0.95953785596336\n"
     ]
    }
   ],
   "source": [
    "rating_avg = train.rating.mean().compute()\n",
    "rating_std = train.rating.std().compute()\n",
    "print(rating_avg, rating_std)"
   ]
  },
  {
   "cell_type": "code",
   "execution_count": 6,
   "id": "17c2e495-65f6-47dd-a888-3ea1758d0ffa",
   "metadata": {},
   "outputs": [
    {
     "data": {
      "text/plain": [
       "0.9108435745491105"
      ]
     },
     "execution_count": 6,
     "metadata": {},
     "output_type": "execute_result"
    }
   ],
   "source": [
    "# Baseline 1: Predict global avg rating\n",
    "val[\"global_avg\"] = rating_avg\n",
    "dask_ml.metrics.mean_squared_error(val.rating.to_dask_array(), val.global_avg.to_dask_array())"
   ]
  },
  {
   "cell_type": "code",
   "execution_count": 7,
   "id": "7652465d-6055-42ed-90d0-2de11467c1ab",
   "metadata": {},
   "outputs": [
    {
     "data": {
      "text/plain": [
       "0.8617040612395044"
      ]
     },
     "execution_count": 7,
     "metadata": {},
     "output_type": "execute_result"
    }
   ],
   "source": [
    "# Baseline 2: Predict using avg rating of each user\n",
    "user_avgs = train.groupby(\"user_id\").rating.mean().compute()\n",
    "val[\"user_avg\"] = val.user_id.apply(\n",
    "    lambda x: user_avgs[x] if x in user_avgs else rating_avg, \n",
    "    meta=('user_avg', 'float32')\n",
    ")\n",
    "dask_ml.metrics.mean_squared_error(val.rating.to_dask_array(), val.user_avg.to_dask_array())"
   ]
  },
  {
   "cell_type": "code",
   "execution_count": 15,
   "id": "59f3acff-ca1f-4f7b-be3d-f59de0e6e49f",
   "metadata": {},
   "outputs": [
    {
     "data": {
      "text/plain": [
       "0.8259685786006747"
      ]
     },
     "execution_count": 15,
     "metadata": {},
     "output_type": "execute_result"
    }
   ],
   "source": [
    "# Baseline 3: Predict using avg rating of each user, bayesian style\n",
    "import pandas as pd\n",
    "bayesian_df = pd.DataFrame()\n",
    "user_avgs = train.groupby(\"user_id\").rating.mean().compute()\n",
    "user_counts = train.groupby(\"user_id\").rating.count().compute()\n",
    "k = 6\n",
    "\n",
    "train[\"user_bayesian_avg\"] = train.user_id.apply(\n",
    "    lambda x: (rating_avg * k + user_avgs[x] * user_counts[x]) / (user_counts[x] + k) if x in user_avgs else rating_avg, \n",
    "    meta=('user_bayesian_avg', 'float32')\n",
    ")\n",
    "val[\"user_bayesian_avg\"] = val.user_id.apply(\n",
    "    lambda x: (rating_avg * k + user_avgs[x] * user_counts[x]) / (user_counts[x] + k) if x in user_avgs else rating_avg, \n",
    "    meta=('user_bayesian_avg', 'float32')\n",
    ")\n",
    "\n",
    "train[\"user_bayesian_avg_delta\"] = train.rating - train.user_bayesian_avg\n",
    "val[\"user_bayesian_avg_delta\"] = val.rating - val.user_bayesian_avg\n",
    "\n",
    "dask_ml.metrics.mean_squared_error(val.rating.to_dask_array(), val.user_bayesian_avg.to_dask_array())"
   ]
  },
  {
   "cell_type": "code",
   "execution_count": 18,
   "id": "e502f2e3-3c7f-42bc-a38d-080027f6badf",
   "metadata": {},
   "outputs": [
    {
     "data": {
      "text/plain": [
       "0.8259685786006747"
      ]
     },
     "execution_count": 18,
     "metadata": {},
     "output_type": "execute_result"
    },
    {
     "name": "stderr",
     "output_type": "stream",
     "text": [
      "distributed.nanny - WARNING - Restarting worker\n",
      "distributed.nanny - WARNING - Restarting worker\n",
      "distributed.nanny - WARNING - Restarting worker\n",
      "distributed.nanny - WARNING - Restarting worker\n"
     ]
    }
   ],
   "source": [
    "# Doing final baselines in pandas, getting very odd inconsistency in dask, \n",
    "# running the function twice will return different results each time...\n",
    "\n",
    "from sklearn.metrics import mean_squared_error\n",
    "val_pd = val.compute()\n",
    "train_pd = train.compute()\n",
    "mean_squared_error(val_pd.rating, val_pd.user_bayesian_avg)"
   ]
  },
  {
   "cell_type": "code",
   "execution_count": 28,
   "id": "fa7d74b2-d8c0-4463-87eb-73eb11c875d3",
   "metadata": {},
   "outputs": [
    {
     "data": {
      "text/plain": [
       "1.0679499550909195"
      ]
     },
     "execution_count": 28,
     "metadata": {},
     "output_type": "execute_result"
    }
   ],
   "source": [
    "# Baseline 4: Predict using avg rating of each recipe\n",
    "recipe_avgs = train_pd.groupby(\"recipe_id\").rating.mean()#.compute()\n",
    "val_pd[\"recipe_avg\"] = val_pd.recipe_id.apply(\n",
    "    lambda x: recipe_avgs[x] if x in recipe_avgs else rating_avg, \n",
    "    #meta=('recipe_avg', 'float32')\n",
    ")\n",
    "mean_squared_error(val_pd.rating, val_pd.recipe_avg)"
   ]
  },
  {
   "cell_type": "code",
   "execution_count": 29,
   "id": "81cf0b76-ee0e-41a3-b1d7-9c4d69d7e074",
   "metadata": {},
   "outputs": [
    {
     "data": {
      "text/plain": [
       "0.9026219371353884"
      ]
     },
     "execution_count": 29,
     "metadata": {},
     "output_type": "execute_result"
    }
   ],
   "source": [
    "# Baseline 5: Predict using avg rating of each recipe, bayesian style\n",
    "bayesian_df2 = pd.DataFrame()\n",
    "recipe_avgs = train_pd.groupby(\"recipe_id\").rating.mean()#.compute()\n",
    "recipe_counts = train_pd.groupby(\"recipe_id\").rating.count()#.compute()\n",
    "k = 20\n",
    "val_pd[\"recipe_bayesian_avg\"] = val_pd.recipe_id.apply(\n",
    "    lambda x: (rating_avg * k + recipe_avgs[x] * recipe_counts[x]) / (recipe_counts[x] + k) if x in recipe_avgs else rating_avg, \n",
    "    #meta=('recipe_bayesian_avg', 'float32')\n",
    ")\n",
    "mean_squared_error(val_pd.rating, val_pd.recipe_bayesian_avg)"
   ]
  },
  {
   "cell_type": "code",
   "execution_count": 30,
   "id": "46d170cc-6cd0-41fd-92c3-11f5913e2ca1",
   "metadata": {},
   "outputs": [
    {
     "data": {
      "text/plain": [
       "0.8232466157842618"
      ]
     },
     "execution_count": 30,
     "metadata": {},
     "output_type": "execute_result"
    }
   ],
   "source": [
    "# Baseline 6: Predict using both avg of each recipe and each user\n",
    "\n",
    "recipe_delta_avgs = train_pd.groupby(\"recipe_id\").user_bayesian_avg_delta.mean()#.compute()\n",
    "recipe_delta_counts = train_pd.groupby(\"recipe_id\").user_bayesian_avg_delta.count()#.compute()\n",
    "\n",
    "def dual_avg(row, k):\n",
    "    user_bayesian_avg = row.user_bayesian_avg \n",
    "    if row.recipe_id not in recipe_delta_counts:\n",
    "        return user_bayesian_avg\n",
    "    else:\n",
    "        return user_bayesian_avg + (recipe_delta_avgs[row.recipe_id] / (recipe_delta_counts[row.recipe_id] + k))\n",
    "    \n",
    "k = 7\n",
    "\n",
    "train_pd[\"dual_bayesian_avg\"] = train_pd.apply(\n",
    "    lambda row: dual_avg(row, k), \n",
    "    axis=1,\n",
    "    #meta=('dual_bayesian_avg', 'float32')\n",
    ")\n",
    "val_pd[\"dual_bayesian_avg\"] = val_pd.apply(\n",
    "    lambda row: dual_avg(row, k), \n",
    "    axis=1,\n",
    "    #meta=('dual_bayesian_avg', 'float32')\n",
    ")\n",
    "\n",
    "train_pd[\"dual_bayesian_avg_delta\"] = train_pd.rating - train_pd.dual_bayesian_avg\n",
    "val_pd[\"dual_bayesian_avg_delta\"] = val_pd.rating - val_pd.dual_bayesian_avg\n",
    "mean_squared_error(val_pd.rating, val_pd.dual_bayesian_avg)"
   ]
  },
  {
   "cell_type": "code",
   "execution_count": 31,
   "id": "c0895ef9-fdcf-45a5-a235-4763182e7bf1",
   "metadata": {},
   "outputs": [],
   "source": [
    "train_pd.to_csv('train_baselines.csv')\n",
    "val_pd.to_csv('val_baselines.csv')"
   ]
  },
  {
   "cell_type": "code",
   "execution_count": null,
   "id": "28fad629-8828-44fd-8cc3-6489309dc82e",
   "metadata": {},
   "outputs": [],
   "source": []
  }
 ],
 "metadata": {
  "kernelspec": {
   "display_name": "Python 3",
   "language": "python",
   "name": "python3"
  },
  "language_info": {
   "codemirror_mode": {
    "name": "ipython",
    "version": 3
   },
   "file_extension": ".py",
   "mimetype": "text/x-python",
   "name": "python",
   "nbconvert_exporter": "python",
   "pygments_lexer": "ipython3",
   "version": "3.8.5"
  }
 },
 "nbformat": 4,
 "nbformat_minor": 5
}
